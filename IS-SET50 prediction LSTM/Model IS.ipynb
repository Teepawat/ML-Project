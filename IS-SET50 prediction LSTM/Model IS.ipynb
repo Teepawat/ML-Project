{
 "cells": [
  {
   "cell_type": "code",
   "execution_count": 1,
   "metadata": {},
   "outputs": [],
   "source": [
    "import numpy as np\n",
    "import pandas as pd\n",
    "import os\n",
    "from pathlib import Path"
   ]
  },
  {
   "cell_type": "code",
   "execution_count": 112,
   "metadata": {},
   "outputs": [],
   "source": [
    "# PATH = Path('stockdata/set-archive_EOD_UPDATE/')\n",
    "# filelist = list(PATH.iterdir())\n",
    "# allFiles = pd.concat((pd.read_csv(f) for f in filelist))"
   ]
  },
  {
   "cell_type": "code",
   "execution_count": 113,
   "metadata": {},
   "outputs": [],
   "source": [
    "# allFiles.to_csv('stockdata/Update190818.csv')"
   ]
  },
  {
   "cell_type": "code",
   "execution_count": 133,
   "metadata": {},
   "outputs": [],
   "source": [
    "# SET50 = allFiles[allFiles['<TICKER>'] == 'SET50']"
   ]
  },
  {
   "cell_type": "code",
   "execution_count": 134,
   "metadata": {},
   "outputs": [],
   "source": [
    "# SET50.reset_index(inplace=True, drop=True)\n",
    "# SET50.columns = ['Ticker','Date','Open','High','Low','Close','Vol']"
   ]
  },
  {
   "cell_type": "code",
   "execution_count": 135,
   "metadata": {},
   "outputs": [],
   "source": [
    "# SET50.to_csv('stockdata/SET50190818.csv')"
   ]
  },
  {
   "cell_type": "code",
   "execution_count": 16,
   "metadata": {},
   "outputs": [],
   "source": [
    "import torch.nn as nn\n",
    "import torch\n",
    "import torch.nn.functional as F\n",
    "import torch.optim as optim\n",
    "from torch.autograd import Variable\n",
    "\n",
    "from fastai.metrics import *\n",
    "from fastai.model import *\n",
    "from fastai.dataset import *\n",
    "from fastai.column_data import *\n",
    "from fastai.structured import *\n",
    "\n",
    "%matplotlib inline"
   ]
  },
  {
   "cell_type": "code",
   "execution_count": 3,
   "metadata": {},
   "outputs": [],
   "source": [
    "PATH = 'stockdata/'"
   ]
  },
  {
   "cell_type": "code",
   "execution_count": 4,
   "metadata": {},
   "outputs": [],
   "source": [
    "SET50 = pd.read_csv(f'{PATH}set50.csv',parse_dates=['date'])"
   ]
  },
  {
   "cell_type": "code",
   "execution_count": 5,
   "metadata": {
    "scrolled": false
   },
   "outputs": [
    {
     "data": {
      "text/html": [
       "<div>\n",
       "<style scoped>\n",
       "    .dataframe tbody tr th:only-of-type {\n",
       "        vertical-align: middle;\n",
       "    }\n",
       "\n",
       "    .dataframe tbody tr th {\n",
       "        vertical-align: top;\n",
       "    }\n",
       "\n",
       "    .dataframe thead th {\n",
       "        text-align: right;\n",
       "    }\n",
       "</style>\n",
       "<table border=\"1\" class=\"dataframe\">\n",
       "  <thead>\n",
       "    <tr style=\"text-align: right;\">\n",
       "      <th></th>\n",
       "      <th>date</th>\n",
       "      <th>ticker</th>\n",
       "      <th>open</th>\n",
       "      <th>high</th>\n",
       "      <th>low</th>\n",
       "      <th>close</th>\n",
       "      <th>vol</th>\n",
       "    </tr>\n",
       "  </thead>\n",
       "  <tbody>\n",
       "    <tr>\n",
       "      <th>0</th>\n",
       "      <td>2010-01-04</td>\n",
       "      <td>SET50</td>\n",
       "      <td>522.48</td>\n",
       "      <td>522.93</td>\n",
       "      <td>513.24</td>\n",
       "      <td>518.54</td>\n",
       "      <td>1117259136</td>\n",
       "    </tr>\n",
       "    <tr>\n",
       "      <th>1</th>\n",
       "      <td>2010-01-05</td>\n",
       "      <td>SET50</td>\n",
       "      <td>522.92</td>\n",
       "      <td>525.36</td>\n",
       "      <td>516.77</td>\n",
       "      <td>518.12</td>\n",
       "      <td>1232977792</td>\n",
       "    </tr>\n",
       "    <tr>\n",
       "      <th>2</th>\n",
       "      <td>2010-01-06</td>\n",
       "      <td>SET50</td>\n",
       "      <td>520.02</td>\n",
       "      <td>522.14</td>\n",
       "      <td>518.19</td>\n",
       "      <td>520.96</td>\n",
       "      <td>2116183424</td>\n",
       "    </tr>\n",
       "    <tr>\n",
       "      <th>3</th>\n",
       "      <td>2010-01-07</td>\n",
       "      <td>SET50</td>\n",
       "      <td>523.53</td>\n",
       "      <td>525.25</td>\n",
       "      <td>519.03</td>\n",
       "      <td>519.67</td>\n",
       "      <td>1617786368</td>\n",
       "    </tr>\n",
       "    <tr>\n",
       "      <th>4</th>\n",
       "      <td>2010-01-08</td>\n",
       "      <td>SET50</td>\n",
       "      <td>520.98</td>\n",
       "      <td>525.29</td>\n",
       "      <td>520.75</td>\n",
       "      <td>523.70</td>\n",
       "      <td>1378444160</td>\n",
       "    </tr>\n",
       "  </tbody>\n",
       "</table>\n",
       "</div>"
      ],
      "text/plain": [
       "        date ticker    open    high     low   close         vol\n",
       "0 2010-01-04  SET50  522.48  522.93  513.24  518.54  1117259136\n",
       "1 2010-01-05  SET50  522.92  525.36  516.77  518.12  1232977792\n",
       "2 2010-01-06  SET50  520.02  522.14  518.19  520.96  2116183424\n",
       "3 2010-01-07  SET50  523.53  525.25  519.03  519.67  1617786368\n",
       "4 2010-01-08  SET50  520.98  525.29  520.75  523.70  1378444160"
      ]
     },
     "execution_count": 5,
     "metadata": {},
     "output_type": "execute_result"
    }
   ],
   "source": [
    "SET50.head()"
   ]
  },
  {
   "cell_type": "code",
   "execution_count": 6,
   "metadata": {},
   "outputs": [
    {
     "name": "stdout",
     "output_type": "stream",
     "text": [
      "<class 'pandas.core.frame.DataFrame'>\n",
      "RangeIndex: 2057 entries, 0 to 2056\n",
      "Data columns (total 7 columns):\n",
      "date      2057 non-null datetime64[ns]\n",
      "ticker    2057 non-null object\n",
      "open      2057 non-null float64\n",
      "high      2057 non-null float64\n",
      "low       2057 non-null float64\n",
      "close     2057 non-null float64\n",
      "vol       2057 non-null int64\n",
      "dtypes: datetime64[ns](1), float64(4), int64(1), object(1)\n",
      "memory usage: 112.6+ KB\n"
     ]
    }
   ],
   "source": [
    "SET50.info()"
   ]
  },
  {
   "cell_type": "code",
   "execution_count": 395,
   "metadata": {},
   "outputs": [],
   "source": [
    "??add_datepart"
   ]
  },
  {
   "cell_type": "code",
   "execution_count": 7,
   "metadata": {},
   "outputs": [],
   "source": [
    "SET50['dayofweek'] = SET50.date.dt.dayofweek #0=Monday, 7=Sunday\n",
    "SET50['is_quater_end'] = SET50.date.dt.is_quarter_end #Is that date is quater end\n",
    "SET50['is_quater_start'] = SET50.date.dt.is_quarter_start#Is that date is quater first date"
   ]
  },
  {
   "cell_type": "code",
   "execution_count": 8,
   "metadata": {},
   "outputs": [],
   "source": [
    "df = SET50.copy()"
   ]
  },
  {
   "cell_type": "code",
   "execution_count": 9,
   "metadata": {},
   "outputs": [],
   "source": [
    "df['target'] = df.close.shift(-1)"
   ]
  },
  {
   "cell_type": "code",
   "execution_count": 10,
   "metadata": {},
   "outputs": [
    {
     "data": {
      "text/plain": [
       "(2057, 11)"
      ]
     },
     "execution_count": 10,
     "metadata": {},
     "output_type": "execute_result"
    }
   ],
   "source": [
    "df.shape"
   ]
  },
  {
   "cell_type": "code",
   "execution_count": 11,
   "metadata": {},
   "outputs": [
    {
     "data": {
      "text/html": [
       "<div>\n",
       "<style scoped>\n",
       "    .dataframe tbody tr th:only-of-type {\n",
       "        vertical-align: middle;\n",
       "    }\n",
       "\n",
       "    .dataframe tbody tr th {\n",
       "        vertical-align: top;\n",
       "    }\n",
       "\n",
       "    .dataframe thead th {\n",
       "        text-align: right;\n",
       "    }\n",
       "</style>\n",
       "<table border=\"1\" class=\"dataframe\">\n",
       "  <thead>\n",
       "    <tr style=\"text-align: right;\">\n",
       "      <th></th>\n",
       "      <th>date</th>\n",
       "      <th>ticker</th>\n",
       "      <th>open</th>\n",
       "      <th>high</th>\n",
       "      <th>low</th>\n",
       "      <th>close</th>\n",
       "      <th>vol</th>\n",
       "      <th>dayofweek</th>\n",
       "      <th>is_quater_end</th>\n",
       "      <th>is_quater_start</th>\n",
       "      <th>target</th>\n",
       "    </tr>\n",
       "  </thead>\n",
       "  <tbody>\n",
       "    <tr>\n",
       "      <th>2052</th>\n",
       "      <td>2018-06-04</td>\n",
       "      <td>SET50</td>\n",
       "      <td>1128.60</td>\n",
       "      <td>1135.22</td>\n",
       "      <td>1126.03</td>\n",
       "      <td>1131.82</td>\n",
       "      <td>1130584251</td>\n",
       "      <td>0</td>\n",
       "      <td>False</td>\n",
       "      <td>False</td>\n",
       "      <td>1141.39</td>\n",
       "    </tr>\n",
       "    <tr>\n",
       "      <th>2053</th>\n",
       "      <td>2018-06-05</td>\n",
       "      <td>SET50</td>\n",
       "      <td>1132.72</td>\n",
       "      <td>1143.14</td>\n",
       "      <td>1124.83</td>\n",
       "      <td>1141.39</td>\n",
       "      <td>2153234467</td>\n",
       "      <td>1</td>\n",
       "      <td>False</td>\n",
       "      <td>False</td>\n",
       "      <td>1145.95</td>\n",
       "    </tr>\n",
       "    <tr>\n",
       "      <th>2054</th>\n",
       "      <td>2018-06-06</td>\n",
       "      <td>SET50</td>\n",
       "      <td>1145.24</td>\n",
       "      <td>1150.87</td>\n",
       "      <td>1140.96</td>\n",
       "      <td>1145.95</td>\n",
       "      <td>1524290540</td>\n",
       "      <td>2</td>\n",
       "      <td>False</td>\n",
       "      <td>False</td>\n",
       "      <td>1141.12</td>\n",
       "    </tr>\n",
       "    <tr>\n",
       "      <th>2055</th>\n",
       "      <td>2018-06-07</td>\n",
       "      <td>SET50</td>\n",
       "      <td>1149.52</td>\n",
       "      <td>1152.40</td>\n",
       "      <td>1141.12</td>\n",
       "      <td>1141.12</td>\n",
       "      <td>1253078015</td>\n",
       "      <td>3</td>\n",
       "      <td>False</td>\n",
       "      <td>False</td>\n",
       "      <td>1130.91</td>\n",
       "    </tr>\n",
       "    <tr>\n",
       "      <th>2056</th>\n",
       "      <td>2018-06-08</td>\n",
       "      <td>SET50</td>\n",
       "      <td>1143.70</td>\n",
       "      <td>1143.87</td>\n",
       "      <td>1130.76</td>\n",
       "      <td>1130.91</td>\n",
       "      <td>1049557919</td>\n",
       "      <td>4</td>\n",
       "      <td>False</td>\n",
       "      <td>False</td>\n",
       "      <td>NaN</td>\n",
       "    </tr>\n",
       "  </tbody>\n",
       "</table>\n",
       "</div>"
      ],
      "text/plain": [
       "           date ticker     open     high      low    close         vol  \\\n",
       "2052 2018-06-04  SET50  1128.60  1135.22  1126.03  1131.82  1130584251   \n",
       "2053 2018-06-05  SET50  1132.72  1143.14  1124.83  1141.39  2153234467   \n",
       "2054 2018-06-06  SET50  1145.24  1150.87  1140.96  1145.95  1524290540   \n",
       "2055 2018-06-07  SET50  1149.52  1152.40  1141.12  1141.12  1253078015   \n",
       "2056 2018-06-08  SET50  1143.70  1143.87  1130.76  1130.91  1049557919   \n",
       "\n",
       "      dayofweek  is_quater_end  is_quater_start   target  \n",
       "2052          0          False            False  1141.39  \n",
       "2053          1          False            False  1145.95  \n",
       "2054          2          False            False  1141.12  \n",
       "2055          3          False            False  1130.91  \n",
       "2056          4          False            False      NaN  "
      ]
     },
     "execution_count": 11,
     "metadata": {},
     "output_type": "execute_result"
    }
   ],
   "source": [
    "df.tail()"
   ]
  },
  {
   "cell_type": "code",
   "execution_count": 12,
   "metadata": {},
   "outputs": [],
   "source": [
    "df.drop(len(df)-1, axis=0,inplace=True)"
   ]
  },
  {
   "cell_type": "code",
   "execution_count": 13,
   "metadata": {},
   "outputs": [
    {
     "name": "stdout",
     "output_type": "stream",
     "text": [
      "<class 'pandas.core.frame.DataFrame'>\n",
      "Int64Index: 2056 entries, 0 to 2055\n",
      "Data columns (total 11 columns):\n",
      "date               2056 non-null datetime64[ns]\n",
      "ticker             2056 non-null object\n",
      "open               2056 non-null float64\n",
      "high               2056 non-null float64\n",
      "low                2056 non-null float64\n",
      "close              2056 non-null float64\n",
      "vol                2056 non-null int64\n",
      "dayofweek          2056 non-null int64\n",
      "is_quater_end      2056 non-null bool\n",
      "is_quater_start    2056 non-null bool\n",
      "target             2056 non-null float64\n",
      "dtypes: bool(2), datetime64[ns](1), float64(5), int64(2), object(1)\n",
      "memory usage: 164.6+ KB\n"
     ]
    }
   ],
   "source": [
    "df.info()"
   ]
  },
  {
   "cell_type": "code",
   "execution_count": 14,
   "metadata": {},
   "outputs": [],
   "source": [
    "drop = ['date', 'ticker','open','high','low']\n",
    "df.drop(drop, axis=1, inplace=True)"
   ]
  },
  {
   "cell_type": "code",
   "execution_count": 17,
   "metadata": {},
   "outputs": [],
   "source": [
    "x, y, nas, mapper = proc_df(df, 'target',do_scale=True,max_n_cat=8)"
   ]
  },
  {
   "cell_type": "code",
   "execution_count": 306,
   "metadata": {},
   "outputs": [],
   "source": [
    "x = df.drop('target',axis=1).values\n",
    "y = df['target'].values"
   ]
  },
  {
   "cell_type": "code",
   "execution_count": 312,
   "metadata": {},
   "outputs": [],
   "source": [
    "df['zeross'] = np.zeros(len(df))"
   ]
  },
  {
   "cell_type": "code",
   "execution_count": 314,
   "metadata": {},
   "outputs": [
    {
     "name": "stdout",
     "output_type": "stream",
     "text": [
      "                                                                                                                       \n",
      "                                                                                                                       "
     ]
    },
    {
     "name": "stderr",
     "output_type": "stream",
     "text": [
      "C:\\Users\\Bestz\\Anaconda3\\lib\\site-packages\\ipykernel_launcher.py:1: SettingWithCopyWarning: \n",
      "A value is trying to be set on a copy of a slice from a DataFrame\n",
      "\n",
      "See the caveats in the documentation: http://pandas.pydata.org/pandas-docs/stable/indexing.html#indexing-view-versus-copy\n",
      "  \"\"\"Entry point for launching an IPython kernel.\n"
     ]
    }
   ],
   "source": [
    "df.zeross[df.target > df.Close] = 1"
   ]
  },
  {
   "cell_type": "code",
   "execution_count": 20,
   "metadata": {},
   "outputs": [],
   "source": [
    "n_train = 2031\n",
    "x_train = x[:n_train]\n",
    "y_train = y[:n_train]\n",
    "x_test = x[n_train:]\n",
    "y_test = y[n_train:]"
   ]
  },
  {
   "cell_type": "code",
   "execution_count": 21,
   "metadata": {},
   "outputs": [
    {
     "name": "stderr",
     "output_type": "stream",
     "text": [
      "C:\\Users\\Bestz\\Anaconda3\\lib\\site-packages\\h5py\\__init__.py:34: FutureWarning: Conversion of the second argument of issubdtype from `float` to `np.floating` is deprecated. In future, it will be treated as `np.float64 == np.dtype(float).type`.\n",
      "  from ._conv import register_converters as _register_converters\n",
      "Using TensorFlow backend.\n"
     ]
    }
   ],
   "source": [
    "from keras.models import Sequential\n",
    "from keras.layers import Dense, Activation, LSTM, Dropout\n",
    "from keras import optimizers"
   ]
  },
  {
   "cell_type": "code",
   "execution_count": 93,
   "metadata": {},
   "outputs": [],
   "source": [
    "model = Sequential()\n",
    "model.add(Dense(200, input_dim=x.shape[1]))\n",
    "model.add(Activation('relu'))\n",
    "model.add(Dropout(0.3))\n",
    "model.add(Dense(200))\n",
    "model.add(Activation('relu'))\n",
    "model.add(Dense(1))\n",
    "\n",
    "adam = optimizers.adam(lr = 0.0005 )\n",
    "model.compile(optimizer=adam,\n",
    "              loss='mse', metrics=['mae'])"
   ]
  },
  {
   "cell_type": "code",
   "execution_count": 94,
   "metadata": {},
   "outputs": [
    {
     "name": "stdout",
     "output_type": "stream",
     "text": [
      "Epoch 1/100\n",
      "2031/2031 [==============================] - ETA: 29s - loss: 898356.3750 - mean_absolute_error: 936.008 - ETA: 0s - loss: 799133.8932 - mean_absolute_error: 879.609 - ETA: 0s - loss: 807696.2194 - mean_absolute_error: 884.34 - ETA: 0s - loss: 806618.6637 - mean_absolute_error: 883.70 - 1s 317us/step - loss: 806616.0305 - mean_absolute_error: 883.7339\n",
      "Epoch 2/100\n",
      "2031/2031 [==============================] - ETA: 0s - loss: 856889.8750 - mean_absolute_error: 914.58 - ETA: 0s - loss: 784184.3542 - mean_absolute_error: 871.16 - ETA: 0s - loss: 774666.6594 - mean_absolute_error: 865.36 - ETA: 0s - loss: 768932.0227 - mean_absolute_error: 862.08 - 0s 89us/step - loss: 763406.4722 - mean_absolute_error: 859.0845\n",
      "Epoch 3/100\n",
      "2031/2031 [==============================] - ETA: 0s - loss: 766541.6875 - mean_absolute_error: 863.62 - ETA: 0s - loss: 698797.5284 - mean_absolute_error: 820.62 - ETA: 0s - loss: 664134.3295 - mean_absolute_error: 799.69 - 0s 74us/step - loss: 634661.7530 - mean_absolute_error: 781.2311\n",
      "Epoch 4/100\n",
      "2031/2031 [==============================] - ETA: 0s - loss: 478404.2188 - mean_absolute_error: 670.52 - ETA: 0s - loss: 482269.5901 - mean_absolute_error: 680.14 - ETA: 0s - loss: 442144.3105 - mean_absolute_error: 649.41 - 0s 71us/step - loss: 406534.8539 - mean_absolute_error: 620.2296\n",
      "Epoch 5/100\n",
      "2031/2031 [==============================] - ETA: 0s - loss: 271980.3125 - mean_absolute_error: 505.13 - ETA: 0s - loss: 224670.5186 - mean_absolute_error: 458.98 - ETA: 0s - loss: 192288.2751 - mean_absolute_error: 421.13 - 0s 73us/step - loss: 168171.2666 - mean_absolute_error: 388.7787\n",
      "Epoch 6/100\n",
      "2031/2031 [==============================] - ETA: 0s - loss: 70733.6016 - mean_absolute_error: 245.755 - ETA: 0s - loss: 66851.3167 - mean_absolute_error: 233.990 - ETA: 0s - loss: 56063.8616 - mean_absolute_error: 209.810 - ETA: 0s - loss: 47014.7783 - mean_absolute_error: 186.285 - 0s 82us/step - loss: 46468.4463 - mean_absolute_error: 184.9185\n",
      "Epoch 7/100\n",
      "2031/2031 [==============================] - ETA: 0s - loss: 16427.8320 - mean_absolute_error: 105.037 - ETA: 0s - loss: 24413.1264 - mean_absolute_error: 127.272 - ETA: 0s - loss: 24602.6971 - mean_absolute_error: 123.001 - 0s 71us/step - loss: 22674.3199 - mean_absolute_error: 118.7700\n",
      "Epoch 8/100\n",
      "2031/2031 [==============================] - ETA: 0s - loss: 14743.5371 - mean_absolute_error: 99.57 - ETA: 0s - loss: 18898.6266 - mean_absolute_error: 105.786 - ETA: 0s - loss: 18366.2621 - mean_absolute_error: 105.793 - 0s 76us/step - loss: 18810.7136 - mean_absolute_error: 105.7654\n",
      "Epoch 9/100\n",
      "2031/2031 [==============================] - ETA: 0s - loss: 16856.1465 - mean_absolute_error: 103.258 - ETA: 0s - loss: 16434.8276 - mean_absolute_error: 100.248 - ETA: 0s - loss: 15898.9428 - mean_absolute_error: 99.904 - ETA: 0s - loss: 17203.6544 - mean_absolute_error: 101.005 - 0s 89us/step - loss: 17064.0993 - mean_absolute_error: 100.8754\n",
      "Epoch 10/100\n",
      "2031/2031 [==============================] - ETA: 0s - loss: 17012.0664 - mean_absolute_error: 106.106 - ETA: 0s - loss: 15321.6705 - mean_absolute_error: 99.696 - ETA: 0s - loss: 15990.6284 - mean_absolute_error: 100.214 - ETA: 0s - loss: 16312.0643 - mean_absolute_error: 98.162 - 0s 82us/step - loss: 16241.2583 - mean_absolute_error: 97.9025\n",
      "Epoch 11/100\n",
      "2031/2031 [==============================] - ETA: 0s - loss: 12665.4707 - mean_absolute_error: 90.47 - ETA: 0s - loss: 13071.4063 - mean_absolute_error: 90.44 - ETA: 0s - loss: 13179.1445 - mean_absolute_error: 91.40 - 0s 72us/step - loss: 14309.8564 - mean_absolute_error: 92.8598\n",
      "Epoch 12/100\n",
      "2031/2031 [==============================] - ETA: 0s - loss: 23430.7148 - mean_absolute_error: 124.885 - ETA: 0s - loss: 14334.2560 - mean_absolute_error: 90.685 - ETA: 0s - loss: 13604.9749 - mean_absolute_error: 90.65 - 0s 72us/step - loss: 13093.1365 - mean_absolute_error: 89.4527\n",
      "Epoch 13/100\n",
      "2031/2031 [==============================] - ETA: 0s - loss: 10339.3926 - mean_absolute_error: 85.12 - ETA: 0s - loss: 10869.7004 - mean_absolute_error: 83.58 - ETA: 0s - loss: 11020.9441 - mean_absolute_error: 83.59 - 0s 72us/step - loss: 12268.0984 - mean_absolute_error: 83.9365\n",
      "Epoch 14/100\n",
      "2031/2031 [==============================] - ETA: 0s - loss: 12211.4375 - mean_absolute_error: 79.53 - ETA: 0s - loss: 12300.4180 - mean_absolute_error: 84.40 - ETA: 0s - loss: 11562.5040 - mean_absolute_error: 83.08 - 0s 68us/step - loss: 11295.2454 - mean_absolute_error: 82.5646\n",
      "Epoch 15/100\n",
      "2031/2031 [==============================] - ETA: 0s - loss: 10707.4697 - mean_absolute_error: 86.89 - ETA: 0s - loss: 11012.3606 - mean_absolute_error: 78.25 - ETA: 0s - loss: 10363.3506 - mean_absolute_error: 77.41 - 0s 72us/step - loss: 10004.3598 - mean_absolute_error: 76.9748\n",
      "Epoch 16/100\n",
      "2031/2031 [==============================] - ETA: 0s - loss: 5437.0649 - mean_absolute_error: 63.273 - ETA: 0s - loss: 10696.2151 - mean_absolute_error: 74.89 - ETA: 0s - loss: 9941.4474 - mean_absolute_error: 75.0136 - 0s 76us/step - loss: 9154.8328 - mean_absolute_error: 72.4779\n",
      "Epoch 17/100\n",
      "2031/2031 [==============================] - ETA: 0s - loss: 7357.6289 - mean_absolute_error: 64.955 - ETA: 0s - loss: 8225.6838 - mean_absolute_error: 71.219 - ETA: 0s - loss: 7953.9856 - mean_absolute_error: 69.858 - 0s 74us/step - loss: 8337.3270 - mean_absolute_error: 70.7916\n",
      "Epoch 18/100\n",
      "2031/2031 [==============================] - ETA: 0s - loss: 7578.6465 - mean_absolute_error: 71.930 - ETA: 0s - loss: 7317.0706 - mean_absolute_error: 67.328 - ETA: 0s - loss: 7978.9929 - mean_absolute_error: 68.604 - 0s 74us/step - loss: 7703.6002 - mean_absolute_error: 67.7046\n",
      "Epoch 19/100\n",
      "2031/2031 [==============================] - ETA: 0s - loss: 5191.4746 - mean_absolute_error: 58.908 - ETA: 0s - loss: 6957.5259 - mean_absolute_error: 65.529 - ETA: 0s - loss: 6527.4905 - mean_absolute_error: 63.967 - 0s 71us/step - loss: 7077.6678 - mean_absolute_error: 64.7750\n",
      "Epoch 20/100\n",
      "2031/2031 [==============================] - ETA: 0s - loss: 8760.9727 - mean_absolute_error: 74.881 - ETA: 0s - loss: 6202.4531 - mean_absolute_error: 63.645 - ETA: 0s - loss: 6319.5270 - mean_absolute_error: 61.580 - 0s 74us/step - loss: 6399.6890 - mean_absolute_error: 61.5788\n",
      "Epoch 21/100\n",
      "2031/2031 [==============================] - ETA: 0s - loss: 4843.4648 - mean_absolute_error: 55.041 - ETA: 0s - loss: 5733.6785 - mean_absolute_error: 58.068 - ETA: 0s - loss: 6020.1165 - mean_absolute_error: 59.204 - 0s 65us/step - loss: 6074.0019 - mean_absolute_error: 59.8848\n",
      "Epoch 22/100\n",
      "2031/2031 [==============================] - ETA: 0s - loss: 3548.3174 - mean_absolute_error: 47.067 - ETA: 0s - loss: 5239.3861 - mean_absolute_error: 57.206 - ETA: 0s - loss: 5551.2370 - mean_absolute_error: 56.573 - 0s 68us/step - loss: 5334.9644 - mean_absolute_error: 56.0124\n",
      "Epoch 23/100\n",
      "2031/2031 [==============================] - ETA: 0s - loss: 4474.0547 - mean_absolute_error: 55.194 - ETA: 0s - loss: 5477.9580 - mean_absolute_error: 55.378 - ETA: 0s - loss: 5419.8288 - mean_absolute_error: 55.078 - 0s 70us/step - loss: 5274.0297 - mean_absolute_error: 55.0397\n",
      "Epoch 24/100\n",
      "2031/2031 [==============================] - ETA: 0s - loss: 6715.6157 - mean_absolute_error: 63.119 - ETA: 0s - loss: 4802.7195 - mean_absolute_error: 53.675 - ETA: 0s - loss: 5050.0881 - mean_absolute_error: 54.181 - 0s 68us/step - loss: 5020.6628 - mean_absolute_error: 54.2368\n",
      "Epoch 25/100\n",
      "2031/2031 [==============================] - ETA: 0s - loss: 10430.7881 - mean_absolute_error: 68.29 - ETA: 0s - loss: 4968.4237 - mean_absolute_error: 54.0437 - ETA: 0s - loss: 4754.7354 - mean_absolute_error: 53.229 - 0s 71us/step - loss: 4694.4634 - mean_absolute_error: 53.2298\n",
      "Epoch 26/100\n",
      "2031/2031 [==============================] - ETA: 0s - loss: 4687.1650 - mean_absolute_error: 55.560 - ETA: 0s - loss: 4205.8815 - mean_absolute_error: 50.751 - ETA: 0s - loss: 4176.7563 - mean_absolute_error: 49.225 - 0s 73us/step - loss: 4230.8075 - mean_absolute_error: 49.5710\n",
      "Epoch 27/100\n"
     ]
    },
    {
     "name": "stdout",
     "output_type": "stream",
     "text": [
      "2031/2031 [==============================] - ETA: 0s - loss: 2681.3369 - mean_absolute_error: 44.590 - ETA: 0s - loss: 3795.6311 - mean_absolute_error: 48.385 - ETA: 0s - loss: 3899.2947 - mean_absolute_error: 48.939 - 0s 69us/step - loss: 3772.3458 - mean_absolute_error: 48.2675\n",
      "Epoch 28/100\n",
      "2031/2031 [==============================] - ETA: 0s - loss: 3628.7520 - mean_absolute_error: 49.546 - ETA: 0s - loss: 3892.5672 - mean_absolute_error: 48.166 - ETA: 0s - loss: 3803.1512 - mean_absolute_error: 48.712 - ETA: 0s - loss: 3811.9385 - mean_absolute_error: 48.550 - 0s 82us/step - loss: 3780.1437 - mean_absolute_error: 48.3237\n",
      "Epoch 29/100\n",
      "2031/2031 [==============================] - ETA: 0s - loss: 3865.7766 - mean_absolute_error: 51.314 - ETA: 0s - loss: 3395.2802 - mean_absolute_error: 45.681 - ETA: 0s - loss: 3446.5942 - mean_absolute_error: 45.731 - ETA: 0s - loss: 3349.1669 - mean_absolute_error: 45.606 - 0s 91us/step - loss: 3482.2357 - mean_absolute_error: 45.9772\n",
      "Epoch 30/100\n",
      "2031/2031 [==============================] - ETA: 0s - loss: 4238.2305 - mean_absolute_error: 49.760 - ETA: 0s - loss: 3801.7328 - mean_absolute_error: 48.571 - ETA: 0s - loss: 3521.2264 - mean_absolute_error: 47.159 - ETA: 0s - loss: 3492.7053 - mean_absolute_error: 47.067 - 0s 92us/step - loss: 3511.2201 - mean_absolute_error: 46.4925\n",
      "Epoch 31/100\n",
      "2031/2031 [==============================] - ETA: 0s - loss: 9879.4082 - mean_absolute_error: 58.073 - ETA: 0s - loss: 3456.7729 - mean_absolute_error: 45.084 - ETA: 0s - loss: 3313.8447 - mean_absolute_error: 45.102 - 0s 75us/step - loss: 3325.4940 - mean_absolute_error: 45.4390\n",
      "Epoch 32/100\n",
      "2031/2031 [==============================] - ETA: 0s - loss: 2721.2827 - mean_absolute_error: 43.086 - ETA: 0s - loss: 3038.5827 - mean_absolute_error: 43.476 - ETA: 0s - loss: 3246.1082 - mean_absolute_error: 44.657 - ETA: 0s - loss: 3234.5450 - mean_absolute_error: 44.606 - 0s 97us/step - loss: 3289.4757 - mean_absolute_error: 44.6845\n",
      "Epoch 33/100\n",
      "2031/2031 [==============================] - ETA: 0s - loss: 2826.2236 - mean_absolute_error: 39.517 - ETA: 0s - loss: 2979.8439 - mean_absolute_error: 44.035 - ETA: 0s - loss: 2969.9253 - mean_absolute_error: 43.364 - ETA: 0s - loss: 2918.7141 - mean_absolute_error: 42.794 - 0s 85us/step - loss: 3010.2708 - mean_absolute_error: 42.8812\n",
      "Epoch 34/100\n",
      "2031/2031 [==============================] - ETA: 0s - loss: 2618.2732 - mean_absolute_error: 41.802 - ETA: 0s - loss: 3025.8912 - mean_absolute_error: 43.083 - ETA: 0s - loss: 3102.7771 - mean_absolute_error: 43.497 - ETA: 0s - loss: 2983.7133 - mean_absolute_error: 43.054 - 0s 99us/step - loss: 2936.0522 - mean_absolute_error: 42.7985\n",
      "Epoch 35/100\n",
      "2031/2031 [==============================] - ETA: 0s - loss: 2460.9780 - mean_absolute_error: 37.341 - ETA: 0s - loss: 2945.5634 - mean_absolute_error: 42.872 - ETA: 0s - loss: 3018.0516 - mean_absolute_error: 43.629 - ETA: 0s - loss: 2916.0273 - mean_absolute_error: 43.013 - 0s 91us/step - loss: 2916.2607 - mean_absolute_error: 42.9185\n",
      "Epoch 36/100\n",
      "2031/2031 [==============================] - ETA: 0s - loss: 4016.8555 - mean_absolute_error: 51.040 - ETA: 0s - loss: 2814.2362 - mean_absolute_error: 41.893 - ETA: 0s - loss: 2725.5535 - mean_absolute_error: 41.241 - 0s 72us/step - loss: 2759.4636 - mean_absolute_error: 41.1815\n",
      "Epoch 37/100\n",
      "2031/2031 [==============================] - ETA: 0s - loss: 2019.9570 - mean_absolute_error: 38.772 - ETA: 0s - loss: 2724.4452 - mean_absolute_error: 41.256 - ETA: 0s - loss: 2829.8592 - mean_absolute_error: 41.491 - 0s 76us/step - loss: 2639.6192 - mean_absolute_error: 40.0828\n",
      "Epoch 38/100\n",
      "2031/2031 [==============================] - ETA: 0s - loss: 2540.7490 - mean_absolute_error: 40.281 - ETA: 0s - loss: 2854.6909 - mean_absolute_error: 42.592 - ETA: 0s - loss: 2694.1592 - mean_absolute_error: 41.168 - ETA: 0s - loss: 2604.5798 - mean_absolute_error: 40.273 - 0s 90us/step - loss: 2668.7962 - mean_absolute_error: 40.4334\n",
      "Epoch 39/100\n",
      "2031/2031 [==============================] - ETA: 0s - loss: 3001.7573 - mean_absolute_error: 45.019 - ETA: 0s - loss: 2583.4887 - mean_absolute_error: 39.537 - ETA: 0s - loss: 2747.6361 - mean_absolute_error: 41.068 - ETA: 0s - loss: 2545.3254 - mean_absolute_error: 39.662 - 0s 93us/step - loss: 2600.9025 - mean_absolute_error: 39.6391\n",
      "Epoch 40/100\n",
      "2031/2031 [==============================] - ETA: 0s - loss: 1945.1697 - mean_absolute_error: 36.252 - ETA: 0s - loss: 2764.1865 - mean_absolute_error: 41.048 - ETA: 0s - loss: 2506.2680 - mean_absolute_error: 39.396 - 0s 76us/step - loss: 2525.1711 - mean_absolute_error: 39.3202\n",
      "Epoch 41/100\n",
      "2031/2031 [==============================] - ETA: 0s - loss: 3434.4497 - mean_absolute_error: 46.610 - ETA: 0s - loss: 2844.5761 - mean_absolute_error: 40.719 - ETA: 0s - loss: 2569.9982 - mean_absolute_error: 39.320 - 0s 73us/step - loss: 2568.8331 - mean_absolute_error: 39.2609\n",
      "Epoch 42/100\n",
      "2031/2031 [==============================] - ETA: 0s - loss: 1713.3689 - mean_absolute_error: 32.507 - ETA: 0s - loss: 2303.5871 - mean_absolute_error: 37.415 - ETA: 0s - loss: 2510.0391 - mean_absolute_error: 39.398 - 0s 72us/step - loss: 2422.8134 - mean_absolute_error: 38.7546\n",
      "Epoch 43/100\n",
      "2031/2031 [==============================] - ETA: 0s - loss: 2072.2300 - mean_absolute_error: 34.213 - ETA: 0s - loss: 2473.8725 - mean_absolute_error: 39.398 - ETA: 0s - loss: 2483.6485 - mean_absolute_error: 39.473 - 0s 71us/step - loss: 2445.0112 - mean_absolute_error: 39.2605\n",
      "Epoch 44/100\n",
      "2031/2031 [==============================] - ETA: 0s - loss: 2392.3706 - mean_absolute_error: 36.630 - ETA: 0s - loss: 2435.0459 - mean_absolute_error: 38.342 - ETA: 0s - loss: 2367.0996 - mean_absolute_error: 37.984 - 0s 70us/step - loss: 2361.6625 - mean_absolute_error: 37.8469\n",
      "Epoch 45/100\n",
      "2031/2031 [==============================] - ETA: 0s - loss: 2520.5923 - mean_absolute_error: 39.113 - ETA: 0s - loss: 2343.8955 - mean_absolute_error: 36.992 - ETA: 0s - loss: 2433.2573 - mean_absolute_error: 38.156 - ETA: 0s - loss: 2393.7966 - mean_absolute_error: 38.164 - 0s 87us/step - loss: 2408.6705 - mean_absolute_error: 38.2781\n",
      "Epoch 46/100\n",
      "2031/2031 [==============================] - ETA: 0s - loss: 2970.4763 - mean_absolute_error: 40.674 - ETA: 0s - loss: 2298.7093 - mean_absolute_error: 37.107 - ETA: 0s - loss: 2318.8935 - mean_absolute_error: 37.410 - 0s 77us/step - loss: 2310.5476 - mean_absolute_error: 37.3530\n",
      "Epoch 47/100\n",
      "2031/2031 [==============================] - ETA: 0s - loss: 3804.1653 - mean_absolute_error: 41.882 - ETA: 0s - loss: 2559.2825 - mean_absolute_error: 39.197 - ETA: 0s - loss: 2356.2678 - mean_absolute_error: 38.042 - 0s 71us/step - loss: 2400.7750 - mean_absolute_error: 38.4363\n",
      "Epoch 48/100\n",
      "2031/2031 [==============================] - ETA: 0s - loss: 3253.2544 - mean_absolute_error: 45.564 - ETA: 0s - loss: 2218.1577 - mean_absolute_error: 37.679 - ETA: 0s - loss: 2329.5590 - mean_absolute_error: 38.027 - 0s 71us/step - loss: 2346.5792 - mean_absolute_error: 37.9968\n",
      "Epoch 49/100\n",
      "2031/2031 [==============================] - ETA: 0s - loss: 3343.3320 - mean_absolute_error: 46.795 - ETA: 0s - loss: 2011.6179 - mean_absolute_error: 35.417 - ETA: 0s - loss: 2279.5799 - mean_absolute_error: 37.784 - 0s 68us/step - loss: 2322.7314 - mean_absolute_error: 37.9196\n",
      "Epoch 50/100\n",
      "2031/2031 [==============================] - ETA: 0s - loss: 2968.0815 - mean_absolute_error: 42.299 - ETA: 0s - loss: 2257.9643 - mean_absolute_error: 37.805 - ETA: 0s - loss: 2212.6434 - mean_absolute_error: 36.903 - ETA: 0s - loss: 2336.7835 - mean_absolute_error: 37.558 - 0s 84us/step - loss: 2373.4946 - mean_absolute_error: 37.8749\n",
      "Epoch 51/100\n",
      "2031/2031 [==============================] - ETA: 0s - loss: 2894.0522 - mean_absolute_error: 43.826 - ETA: 0s - loss: 2399.9565 - mean_absolute_error: 39.045 - ETA: 0s - loss: 2359.9441 - mean_absolute_error: 38.279 - ETA: 0s - loss: 2249.0490 - mean_absolute_error: 37.498 - 0s 97us/step - loss: 2248.3142 - mean_absolute_error: 37.4351\n",
      "Epoch 52/100\n"
     ]
    },
    {
     "name": "stdout",
     "output_type": "stream",
     "text": [
      "2031/2031 [==============================] - ETA: 0s - loss: 2781.3245 - mean_absolute_error: 42.158 - ETA: 0s - loss: 2196.4367 - mean_absolute_error: 36.680 - ETA: 0s - loss: 2351.3791 - mean_absolute_error: 37.984 - 0s 66us/step - loss: 2347.4711 - mean_absolute_error: 38.0130\n",
      "Epoch 53/100\n",
      "2031/2031 [==============================] - ETA: 0s - loss: 1615.8940 - mean_absolute_error: 33.203 - ETA: 0s - loss: 2193.6913 - mean_absolute_error: 36.525 - ETA: 0s - loss: 2242.0318 - mean_absolute_error: 37.132 - ETA: 0s - loss: 2263.7457 - mean_absolute_error: 37.413 - 0s 93us/step - loss: 2238.5052 - mean_absolute_error: 37.1621\n",
      "Epoch 54/100\n",
      "2031/2031 [==============================] - ETA: 0s - loss: 2964.4956 - mean_absolute_error: 41.415 - ETA: 0s - loss: 2283.6083 - mean_absolute_error: 37.182 - ETA: 0s - loss: 2324.3066 - mean_absolute_error: 37.693 - ETA: 0s - loss: 2203.4906 - mean_absolute_error: 36.886 - 0s 80us/step - loss: 2206.9633 - mean_absolute_error: 36.9336\n",
      "Epoch 55/100\n",
      "2031/2031 [==============================] - ETA: 0s - loss: 3526.8806 - mean_absolute_error: 45.895 - ETA: 0s - loss: 2283.3354 - mean_absolute_error: 37.526 - ETA: 0s - loss: 2263.0297 - mean_absolute_error: 37.166 - ETA: 0s - loss: 2198.3096 - mean_absolute_error: 37.000 - 0s 83us/step - loss: 2223.2507 - mean_absolute_error: 37.2202\n",
      "Epoch 56/100\n",
      "2031/2031 [==============================] - ETA: 0s - loss: 2536.9907 - mean_absolute_error: 40.096 - ETA: 0s - loss: 2280.3388 - mean_absolute_error: 37.729 - ETA: 0s - loss: 2244.4800 - mean_absolute_error: 37.209 - ETA: 0s - loss: 2205.5936 - mean_absolute_error: 37.013 - 0s 95us/step - loss: 2208.3617 - mean_absolute_error: 36.9572\n",
      "Epoch 57/100\n",
      "2031/2031 [==============================] - ETA: 0s - loss: 3229.7988 - mean_absolute_error: 46.584 - ETA: 0s - loss: 2313.5261 - mean_absolute_error: 36.915 - ETA: 0s - loss: 2281.8222 - mean_absolute_error: 37.090 - 0s 77us/step - loss: 2282.9057 - mean_absolute_error: 37.2904\n",
      "Epoch 58/100\n",
      "2031/2031 [==============================] - ETA: 0s - loss: 2248.0127 - mean_absolute_error: 35.038 - ETA: 0s - loss: 2371.2942 - mean_absolute_error: 38.227 - ETA: 0s - loss: 2272.9113 - mean_absolute_error: 37.657 - ETA: 0s - loss: 2200.5082 - mean_absolute_error: 36.867 - 0s 98us/step - loss: 2182.4339 - mean_absolute_error: 36.8221\n",
      "Epoch 59/100\n",
      "2031/2031 [==============================] - ETA: 0s - loss: 1655.8503 - mean_absolute_error: 34.840 - ETA: 0s - loss: 2276.6012 - mean_absolute_error: 37.953 - ETA: 0s - loss: 2262.0220 - mean_absolute_error: 37.501 - ETA: 0s - loss: 2230.3099 - mean_absolute_error: 37.377 - 0s 97us/step - loss: 2226.6191 - mean_absolute_error: 37.1682\n",
      "Epoch 60/100\n",
      "2031/2031 [==============================] - ETA: 0s - loss: 2312.7637 - mean_absolute_error: 37.331 - ETA: 0s - loss: 2271.6095 - mean_absolute_error: 37.554 - ETA: 0s - loss: 2242.8791 - mean_absolute_error: 37.272 - 0s 77us/step - loss: 2206.3860 - mean_absolute_error: 36.7985\n",
      "Epoch 61/100\n",
      "2031/2031 [==============================] - ETA: 0s - loss: 1754.1971 - mean_absolute_error: 31.074 - ETA: 0s - loss: 1949.6794 - mean_absolute_error: 34.527 - ETA: 0s - loss: 2020.1729 - mean_absolute_error: 35.115 - 0s 71us/step - loss: 2046.7872 - mean_absolute_error: 35.4937\n",
      "Epoch 62/100\n",
      "2031/2031 [==============================] - ETA: 0s - loss: 2575.7144 - mean_absolute_error: 41.423 - ETA: 0s - loss: 2133.8708 - mean_absolute_error: 36.396 - ETA: 0s - loss: 2195.0837 - mean_absolute_error: 36.662 - ETA: 0s - loss: 2243.4847 - mean_absolute_error: 36.855 - 0s 88us/step - loss: 2203.9767 - mean_absolute_error: 36.5427\n",
      "Epoch 63/100\n",
      "2031/2031 [==============================] - ETA: 0s - loss: 3120.8157 - mean_absolute_error: 41.990 - ETA: 0s - loss: 2119.2136 - mean_absolute_error: 36.108 - ETA: 0s - loss: 2152.8738 - mean_absolute_error: 36.309 - 0s 76us/step - loss: 2121.7227 - mean_absolute_error: 36.2640\n",
      "Epoch 64/100\n",
      "2031/2031 [==============================] - ETA: 0s - loss: 2118.6868 - mean_absolute_error: 39.622 - ETA: 0s - loss: 2138.5054 - mean_absolute_error: 36.541 - ETA: 0s - loss: 2132.9994 - mean_absolute_error: 36.471 - ETA: 0s - loss: 2090.9697 - mean_absolute_error: 35.957 - 0s 81us/step - loss: 2086.9331 - mean_absolute_error: 35.9188\n",
      "Epoch 65/100\n",
      "2031/2031 [==============================] - ETA: 0s - loss: 2461.6772 - mean_absolute_error: 40.579 - ETA: 0s - loss: 2188.2273 - mean_absolute_error: 36.513 - ETA: 0s - loss: 2301.3159 - mean_absolute_error: 37.845 - ETA: 0s - loss: 2248.7550 - mean_absolute_error: 37.298 - 0s 81us/step - loss: 2232.1990 - mean_absolute_error: 37.1154\n",
      "Epoch 66/100\n",
      "2031/2031 [==============================] - ETA: 0s - loss: 1708.2405 - mean_absolute_error: 31.729 - ETA: 0s - loss: 1959.6760 - mean_absolute_error: 35.182 - ETA: 0s - loss: 2067.5538 - mean_absolute_error: 35.916 - 0s 73us/step - loss: 2047.4311 - mean_absolute_error: 35.9452\n",
      "Epoch 67/100\n",
      "2031/2031 [==============================] - ETA: 0s - loss: 2223.6519 - mean_absolute_error: 37.286 - ETA: 0s - loss: 1929.6254 - mean_absolute_error: 34.053 - ETA: 0s - loss: 1945.6450 - mean_absolute_error: 34.511 - 0s 72us/step - loss: 2036.2674 - mean_absolute_error: 35.0298\n",
      "Epoch 68/100\n",
      "2031/2031 [==============================] - ETA: 0s - loss: 1825.2289 - mean_absolute_error: 34.054 - ETA: 0s - loss: 2163.8330 - mean_absolute_error: 36.937 - ETA: 0s - loss: 1999.5908 - mean_absolute_error: 35.448 - ETA: 0s - loss: 2101.0594 - mean_absolute_error: 36.151 - 0s 85us/step - loss: 2117.8334 - mean_absolute_error: 36.2927\n",
      "Epoch 69/100\n",
      "2031/2031 [==============================] - ETA: 0s - loss: 1635.9972 - mean_absolute_error: 31.591 - ETA: 0s - loss: 2067.6246 - mean_absolute_error: 35.908 - ETA: 0s - loss: 2126.3758 - mean_absolute_error: 36.278 - ETA: 0s - loss: 2182.1010 - mean_absolute_error: 36.516 - 0s 86us/step - loss: 2160.1659 - mean_absolute_error: 36.3942\n",
      "Epoch 70/100\n",
      "2031/2031 [==============================] - ETA: 0s - loss: 2241.3779 - mean_absolute_error: 39.952 - ETA: 0s - loss: 2213.2601 - mean_absolute_error: 37.112 - ETA: 0s - loss: 2039.3118 - mean_absolute_error: 35.335 - 0s 77us/step - loss: 2045.9726 - mean_absolute_error: 35.3730\n",
      "Epoch 71/100\n",
      "2031/2031 [==============================] - ETA: 0s - loss: 4502.4502 - mean_absolute_error: 47.001 - ETA: 0s - loss: 2227.9407 - mean_absolute_error: 36.693 - ETA: 0s - loss: 2090.3517 - mean_absolute_error: 35.691 - ETA: 0s - loss: 2105.3542 - mean_absolute_error: 36.010 - 0s 86us/step - loss: 2088.2275 - mean_absolute_error: 35.8533\n",
      "Epoch 72/100\n",
      "2031/2031 [==============================] - ETA: 0s - loss: 2187.3501 - mean_absolute_error: 36.089 - ETA: 0s - loss: 2171.0780 - mean_absolute_error: 36.869 - ETA: 0s - loss: 2158.8377 - mean_absolute_error: 36.697 - ETA: 0s - loss: 2106.9308 - mean_absolute_error: 36.129 - 0s 97us/step - loss: 2085.2700 - mean_absolute_error: 36.0426\n",
      "Epoch 73/100\n",
      "2031/2031 [==============================] - ETA: 0s - loss: 2635.6838 - mean_absolute_error: 39.704 - ETA: 0s - loss: 2151.0381 - mean_absolute_error: 36.206 - ETA: 0s - loss: 2100.7462 - mean_absolute_error: 36.016 - ETA: 0s - loss: 2099.4572 - mean_absolute_error: 36.122 - 0s 87us/step - loss: 2066.9325 - mean_absolute_error: 35.8572\n",
      "Epoch 74/100\n",
      "2031/2031 [==============================] - ETA: 0s - loss: 1891.4519 - mean_absolute_error: 34.067 - ETA: 0s - loss: 2299.8667 - mean_absolute_error: 37.400 - ETA: 0s - loss: 2165.7172 - mean_absolute_error: 36.494 - 0s 76us/step - loss: 2147.6020 - mean_absolute_error: 36.2351\n",
      "Epoch 75/100\n",
      "2031/2031 [==============================] - ETA: 0s - loss: 2806.3672 - mean_absolute_error: 43.198 - ETA: 0s - loss: 2025.2631 - mean_absolute_error: 35.545 - ETA: 0s - loss: 2150.9507 - mean_absolute_error: 36.028 - 0s 73us/step - loss: 2216.1111 - mean_absolute_error: 36.4067\n",
      "Epoch 76/100\n",
      "2031/2031 [==============================] - ETA: 0s - loss: 1336.9554 - mean_absolute_error: 29.749 - ETA: 0s - loss: 1852.3811 - mean_absolute_error: 34.233 - ETA: 0s - loss: 1997.0307 - mean_absolute_error: 35.403 - 0s 74us/step - loss: 2007.7358 - mean_absolute_error: 35.4144\n",
      "Epoch 77/100\n"
     ]
    },
    {
     "name": "stdout",
     "output_type": "stream",
     "text": [
      "2031/2031 [==============================] - ETA: 0s - loss: 2198.5342 - mean_absolute_error: 38.474 - ETA: 0s - loss: 2224.4082 - mean_absolute_error: 37.209 - ETA: 0s - loss: 2047.7308 - mean_absolute_error: 35.254 - 0s 75us/step - loss: 2042.7581 - mean_absolute_error: 35.3533\n",
      "Epoch 78/100\n",
      "2031/2031 [==============================] - ETA: 0s - loss: 2385.5049 - mean_absolute_error: 37.307 - ETA: 0s - loss: 2128.1728 - mean_absolute_error: 35.453 - ETA: 0s - loss: 2178.1712 - mean_absolute_error: 36.248 - 0s 74us/step - loss: 2130.6650 - mean_absolute_error: 35.9392\n",
      "Epoch 79/100\n",
      "2031/2031 [==============================] - ETA: 0s - loss: 1778.6946 - mean_absolute_error: 36.201 - ETA: 0s - loss: 2179.6623 - mean_absolute_error: 37.012 - ETA: 0s - loss: 2134.0669 - mean_absolute_error: 36.195 - ETA: 0s - loss: 2066.9900 - mean_absolute_error: 35.764 - 0s 90us/step - loss: 2055.5495 - mean_absolute_error: 35.6582\n",
      "Epoch 80/100\n",
      "2031/2031 [==============================] - ETA: 0s - loss: 2063.0532 - mean_absolute_error: 37.104 - ETA: 0s - loss: 2260.4461 - mean_absolute_error: 37.615 - ETA: 0s - loss: 2210.7685 - mean_absolute_error: 36.688 - ETA: 0s - loss: 2070.9532 - mean_absolute_error: 35.432 - 0s 89us/step - loss: 2076.1411 - mean_absolute_error: 35.5872\n",
      "Epoch 81/100\n",
      "2031/2031 [==============================] - ETA: 0s - loss: 1833.1553 - mean_absolute_error: 34.305 - ETA: 0s - loss: 2324.3278 - mean_absolute_error: 38.019 - ETA: 0s - loss: 2270.4178 - mean_absolute_error: 37.608 - 0s 76us/step - loss: 2221.2665 - mean_absolute_error: 37.1369\n",
      "Epoch 82/100\n",
      "2031/2031 [==============================] - ETA: 0s - loss: 1841.9485 - mean_absolute_error: 33.575 - ETA: 0s - loss: 2105.5116 - mean_absolute_error: 35.413 - ETA: 0s - loss: 2078.3711 - mean_absolute_error: 35.506 - 0s 75us/step - loss: 2131.2250 - mean_absolute_error: 36.2665\n",
      "Epoch 83/100\n",
      "2031/2031 [==============================] - ETA: 0s - loss: 2309.3481 - mean_absolute_error: 39.101 - ETA: 0s - loss: 2026.5814 - mean_absolute_error: 35.677 - ETA: 0s - loss: 1973.1743 - mean_absolute_error: 34.891 - ETA: 0s - loss: 1978.1018 - mean_absolute_error: 34.979 - 0s 83us/step - loss: 2002.6160 - mean_absolute_error: 35.1543\n",
      "Epoch 84/100\n",
      "2031/2031 [==============================] - ETA: 0s - loss: 3252.1926 - mean_absolute_error: 44.178 - ETA: 0s - loss: 1960.4523 - mean_absolute_error: 35.055 - ETA: 0s - loss: 2013.6666 - mean_absolute_error: 35.101 - ETA: 0s - loss: 2072.6371 - mean_absolute_error: 35.575 - 0s 85us/step - loss: 2067.2982 - mean_absolute_error: 35.6619\n",
      "Epoch 85/100\n",
      "2031/2031 [==============================] - ETA: 0s - loss: 1460.9426 - mean_absolute_error: 28.637 - ETA: 0s - loss: 1785.2218 - mean_absolute_error: 33.401 - ETA: 0s - loss: 1885.1258 - mean_absolute_error: 33.875 - 0s 74us/step - loss: 1924.6542 - mean_absolute_error: 34.2076\n",
      "Epoch 86/100\n",
      "2031/2031 [==============================] - ETA: 0s - loss: 3295.2646 - mean_absolute_error: 46.501 - ETA: 0s - loss: 2175.7071 - mean_absolute_error: 36.842 - ETA: 0s - loss: 2088.9550 - mean_absolute_error: 35.800 - ETA: 0s - loss: 2077.9283 - mean_absolute_error: 35.824 - 0s 96us/step - loss: 2058.8150 - mean_absolute_error: 35.6903\n",
      "Epoch 87/100\n",
      "2031/2031 [==============================] - ETA: 0s - loss: 2282.0476 - mean_absolute_error: 35.828 - ETA: 0s - loss: 1846.1333 - mean_absolute_error: 33.673 - ETA: 0s - loss: 1938.2193 - mean_absolute_error: 34.456 - ETA: 0s - loss: 1974.2951 - mean_absolute_error: 35.068 - 0s 86us/step - loss: 1983.8772 - mean_absolute_error: 35.1437\n",
      "Epoch 88/100\n",
      "2031/2031 [==============================] - ETA: 0s - loss: 1392.5746 - mean_absolute_error: 30.068 - ETA: 0s - loss: 1955.3402 - mean_absolute_error: 34.205 - ETA: 0s - loss: 1967.9779 - mean_absolute_error: 34.626 - ETA: 0s - loss: 2041.5238 - mean_absolute_error: 35.156 - 0s 96us/step - loss: 2037.8677 - mean_absolute_error: 35.2260\n",
      "Epoch 89/100\n",
      "2031/2031 [==============================] - ETA: 0s - loss: 1870.0616 - mean_absolute_error: 33.622 - ETA: 0s - loss: 1925.6960 - mean_absolute_error: 34.780 - ETA: 0s - loss: 1948.0296 - mean_absolute_error: 34.948 - 0s 74us/step - loss: 1930.7254 - mean_absolute_error: 34.6427\n",
      "Epoch 90/100\n",
      "2031/2031 [==============================] - ETA: 0s - loss: 1618.3643 - mean_absolute_error: 33.260 - ETA: 0s - loss: 2022.9549 - mean_absolute_error: 34.831 - ETA: 0s - loss: 1894.8062 - mean_absolute_error: 33.774 - ETA: 0s - loss: 1907.9244 - mean_absolute_error: 33.955 - 0s 97us/step - loss: 1934.2191 - mean_absolute_error: 34.2087\n",
      "Epoch 91/100\n",
      "2031/2031 [==============================] - ETA: 0s - loss: 2392.6062 - mean_absolute_error: 38.400 - ETA: 0s - loss: 1956.2489 - mean_absolute_error: 34.901 - ETA: 0s - loss: 1979.6463 - mean_absolute_error: 34.772 - 0s 69us/step - loss: 1975.7656 - mean_absolute_error: 34.6331\n",
      "Epoch 92/100\n",
      "2031/2031 [==============================] - ETA: 0s - loss: 1315.5629 - mean_absolute_error: 27.447 - ETA: 0s - loss: 1806.9967 - mean_absolute_error: 33.270 - ETA: 0s - loss: 1973.0293 - mean_absolute_error: 34.721 - 0s 69us/step - loss: 1940.1650 - mean_absolute_error: 34.6179\n",
      "Epoch 93/100\n",
      "2031/2031 [==============================] - ETA: 0s - loss: 2438.7598 - mean_absolute_error: 37.870 - ETA: 0s - loss: 1791.3815 - mean_absolute_error: 33.528 - ETA: 0s - loss: 1815.1811 - mean_absolute_error: 33.460 - ETA: 0s - loss: 1787.7409 - mean_absolute_error: 33.084 - 0s 82us/step - loss: 1805.6507 - mean_absolute_error: 33.2986\n",
      "Epoch 94/100\n",
      "2031/2031 [==============================] - ETA: 0s - loss: 2568.4561 - mean_absolute_error: 38.185 - ETA: 0s - loss: 2025.6854 - mean_absolute_error: 35.017 - ETA: 0s - loss: 1873.1595 - mean_absolute_error: 33.791 - 0s 74us/step - loss: 1937.7710 - mean_absolute_error: 34.6092\n",
      "Epoch 95/100\n",
      "2031/2031 [==============================] - ETA: 0s - loss: 2607.2578 - mean_absolute_error: 41.066 - ETA: 0s - loss: 1936.0180 - mean_absolute_error: 34.615 - ETA: 0s - loss: 1848.8282 - mean_absolute_error: 33.620 - 0s 72us/step - loss: 1818.8088 - mean_absolute_error: 33.3898\n",
      "Epoch 96/100\n",
      "2031/2031 [==============================] - ETA: 0s - loss: 1760.1340 - mean_absolute_error: 32.989 - ETA: 0s - loss: 1934.5837 - mean_absolute_error: 34.564 - ETA: 0s - loss: 1966.8202 - mean_absolute_error: 34.817 - 0s 76us/step - loss: 2021.8034 - mean_absolute_error: 35.2143\n",
      "Epoch 97/100\n",
      "2031/2031 [==============================] - ETA: 0s - loss: 2002.4514 - mean_absolute_error: 34.789 - ETA: 0s - loss: 2083.1868 - mean_absolute_error: 35.716 - ETA: 0s - loss: 2057.5772 - mean_absolute_error: 35.477 - 0s 71us/step - loss: 2031.4206 - mean_absolute_error: 35.4107\n",
      "Epoch 98/100\n",
      "2031/2031 [==============================] - ETA: 0s - loss: 1505.9985 - mean_absolute_error: 31.217 - ETA: 0s - loss: 1810.1184 - mean_absolute_error: 33.844 - ETA: 0s - loss: 1886.2215 - mean_absolute_error: 34.416 - 0s 67us/step - loss: 1916.9909 - mean_absolute_error: 34.6080\n",
      "Epoch 99/100\n",
      "2031/2031 [==============================] - ETA: 0s - loss: 1403.4812 - mean_absolute_error: 29.338 - ETA: 0s - loss: 1933.1793 - mean_absolute_error: 34.452 - ETA: 0s - loss: 2062.0078 - mean_absolute_error: 35.170 - 0s 71us/step - loss: 2053.5350 - mean_absolute_error: 35.0644\n",
      "Epoch 100/100\n",
      "2031/2031 [==============================] - ETA: 0s - loss: 1665.8881 - mean_absolute_error: 33.495 - ETA: 0s - loss: 1944.1746 - mean_absolute_error: 34.604 - ETA: 0s - loss: 1915.0243 - mean_absolute_error: 34.378 - 0s 74us/step - loss: 1883.0965 - mean_absolute_error: 34.3863\n"
     ]
    },
    {
     "data": {
      "text/plain": [
       "<keras.callbacks.History at 0x1d9a6dd4668>"
      ]
     },
     "execution_count": 94,
     "metadata": {},
     "output_type": "execute_result"
    }
   ],
   "source": [
    "model.fit(x_train, y_train, epochs=100, batch_size=32)"
   ]
  },
  {
   "cell_type": "code",
   "execution_count": 24,
   "metadata": {},
   "outputs": [],
   "source": [
    "pred = model.predict(x_test, 32)"
   ]
  },
  {
   "cell_type": "code",
   "execution_count": 492,
   "metadata": {},
   "outputs": [
    {
     "name": "stdout",
     "output_type": "stream",
     "text": [
      "56/56 [==============================] - ETA:  - 0s 2ms/step\n"
     ]
    },
    {
     "data": {
      "text/plain": [
       "[88.26491001674107, 7.378062725067139]"
      ]
     },
     "execution_count": 492,
     "metadata": {},
     "output_type": "execute_result"
    }
   ],
   "source": [
    "score = model.evaluate(x_test, y_test, batch_size=32)\n",
    "score"
   ]
  },
  {
   "cell_type": "code",
   "execution_count": 79,
   "metadata": {},
   "outputs": [],
   "source": [
    "def rsquare(y, yhat):\n",
    "    yhat = np.reshape(yhat, (yhat.shape[0]))\n",
    "    sse = np.sum(np.square(y - yhat))\n",
    "    sst = np.sum(np.square(y - np.mean(y)))\n",
    "    return 1-(sse/sst) "
   ]
  },
  {
   "cell_type": "code",
   "execution_count": 95,
   "metadata": {},
   "outputs": [
    {
     "data": {
      "text/plain": [
       "0.9935275883704779"
      ]
     },
     "execution_count": 95,
     "metadata": {},
     "output_type": "execute_result"
    }
   ],
   "source": [
    "rsquare(y_train,model.predict(x_train))"
   ]
  },
  {
   "cell_type": "code",
   "execution_count": 58,
   "metadata": {},
   "outputs": [],
   "source": [
    "a = np.reshape(model.predict(x_train), (y_train.shape[0])).shape"
   ]
  },
  {
   "cell_type": "code",
   "execution_count": 96,
   "metadata": {},
   "outputs": [
    {
     "data": {
      "text/plain": [
       "0.4660878024525624"
      ]
     },
     "execution_count": 96,
     "metadata": {},
     "output_type": "execute_result"
    }
   ],
   "source": [
    "rsquare(y_test, model.predict(x_test))"
   ]
  },
  {
   "cell_type": "code",
   "execution_count": 324,
   "metadata": {},
   "outputs": [],
   "source": [
    "import matplotlib.pyplot as plt"
   ]
  },
  {
   "cell_type": "code",
   "execution_count": 97,
   "metadata": {},
   "outputs": [
    {
     "data": {
      "image/png": "[encoded data removed]",
      "text/plain": [
       "<matplotlib.figure.Figure at 0x1d9a03e8b00>"
      ]
     },
     "metadata": {},
     "output_type": "display_data"
    }
   ],
   "source": [
    "plt.figure(figsize=(12,6))\n",
    "plt.plot(model.predict(x_test), color='r')\n",
    "plt.plot(y_test, color='b', alpha=0.5)\n",
    "plt.plot(np.mean(y_train), color='gray')\n",
    "plt.legend()\n",
    "plt.show()"
   ]
  },
  {
   "cell_type": "code",
   "execution_count": 89,
   "metadata": {},
   "outputs": [],
   "source": [
    "model = Sequential()\n",
    "model.add(Dense(200, input_dim=x.shape[1]))\n",
    "model.add(Activation('relu'))\n",
    "model.add(Dense(200))\n",
    "model.add(Activation('relu'))\n",
    "model.add(Dense(1))\n",
    "\n",
    "adam = optimizers.adam(lr = 0.0005 )\n",
    "model.compile(optimizer=adam,\n",
    "              loss='mse', metrics=['mae'])"
   ]
  },
  {
   "cell_type": "code",
   "execution_count": 552,
   "metadata": {},
   "outputs": [
    {
     "ename": "ValueError",
     "evalue": "cannot reshape array of size 2000 into shape (2000,8,1)",
     "output_type": "error",
     "traceback": [
      "\u001b[1;31m---------------------------------------------------------------------------\u001b[0m",
      "\u001b[1;31mValueError\u001b[0m                                Traceback (most recent call last)",
      "\u001b[1;32m<ipython-input-552-b72bbbe1181f>\u001b[0m in \u001b[0;36m<module>\u001b[1;34m()\u001b[0m\n\u001b[0;32m      1\u001b[0m \u001b[0mxtrain\u001b[0m \u001b[1;33m=\u001b[0m \u001b[0mx_train\u001b[0m\u001b[1;33m.\u001b[0m\u001b[0mclose\u001b[0m\u001b[1;33m.\u001b[0m\u001b[0mcopy\u001b[0m\u001b[1;33m(\u001b[0m\u001b[1;33m)\u001b[0m\u001b[1;33m.\u001b[0m\u001b[0mvalues\u001b[0m\u001b[1;33m\u001b[0m\u001b[0m\n\u001b[1;32m----> 2\u001b[1;33m \u001b[0mxtrain\u001b[0m \u001b[1;33m=\u001b[0m \u001b[0mnp\u001b[0m\u001b[1;33m.\u001b[0m\u001b[0mreshape\u001b[0m\u001b[1;33m(\u001b[0m\u001b[0mxtrain\u001b[0m\u001b[1;33m,\u001b[0m \u001b[1;33m(\u001b[0m\u001b[0mxtrain\u001b[0m\u001b[1;33m.\u001b[0m\u001b[0mshape\u001b[0m\u001b[1;33m[\u001b[0m\u001b[1;36m0\u001b[0m\u001b[1;33m]\u001b[0m\u001b[1;33m,\u001b[0m\u001b[1;36m8\u001b[0m\u001b[1;33m,\u001b[0m \u001b[1;36m1\u001b[0m\u001b[1;33m)\u001b[0m\u001b[1;33m)\u001b[0m\u001b[1;33m\u001b[0m\u001b[0m\n\u001b[0m\u001b[0;32m      3\u001b[0m \u001b[0mxtest\u001b[0m \u001b[1;33m=\u001b[0m \u001b[0mx_test\u001b[0m\u001b[1;33m.\u001b[0m\u001b[0mclose\u001b[0m\u001b[1;33m.\u001b[0m\u001b[0mcopy\u001b[0m\u001b[1;33m(\u001b[0m\u001b[1;33m)\u001b[0m\u001b[1;33m.\u001b[0m\u001b[0mvalues\u001b[0m\u001b[1;33m\u001b[0m\u001b[0m\n\u001b[0;32m      4\u001b[0m \u001b[0mxtest\u001b[0m \u001b[1;33m=\u001b[0m \u001b[0mnp\u001b[0m\u001b[1;33m.\u001b[0m\u001b[0mreshape\u001b[0m\u001b[1;33m(\u001b[0m\u001b[0mxtest\u001b[0m\u001b[1;33m,\u001b[0m \u001b[1;33m(\u001b[0m\u001b[0mxtest\u001b[0m\u001b[1;33m.\u001b[0m\u001b[0mshape\u001b[0m\u001b[1;33m[\u001b[0m\u001b[1;36m0\u001b[0m\u001b[1;33m]\u001b[0m\u001b[1;33m,\u001b[0m\u001b[1;36m1\u001b[0m\u001b[1;33m,\u001b[0m \u001b[1;36m1\u001b[0m\u001b[1;33m)\u001b[0m\u001b[1;33m)\u001b[0m\u001b[1;33m\u001b[0m\u001b[0m\n",
      "\u001b[1;32m~\\Anaconda3\\lib\\site-packages\\numpy\\core\\fromnumeric.py\u001b[0m in \u001b[0;36mreshape\u001b[1;34m(a, newshape, order)\u001b[0m\n\u001b[0;32m    255\u001b[0m            [5, 6]])\n\u001b[0;32m    256\u001b[0m     \"\"\"\n\u001b[1;32m--> 257\u001b[1;33m     \u001b[1;32mreturn\u001b[0m \u001b[0m_wrapfunc\u001b[0m\u001b[1;33m(\u001b[0m\u001b[0ma\u001b[0m\u001b[1;33m,\u001b[0m \u001b[1;34m'reshape'\u001b[0m\u001b[1;33m,\u001b[0m \u001b[0mnewshape\u001b[0m\u001b[1;33m,\u001b[0m \u001b[0morder\u001b[0m\u001b[1;33m=\u001b[0m\u001b[0morder\u001b[0m\u001b[1;33m)\u001b[0m\u001b[1;33m\u001b[0m\u001b[0m\n\u001b[0m\u001b[0;32m    258\u001b[0m \u001b[1;33m\u001b[0m\u001b[0m\n\u001b[0;32m    259\u001b[0m \u001b[1;33m\u001b[0m\u001b[0m\n",
      "\u001b[1;32m~\\Anaconda3\\lib\\site-packages\\numpy\\core\\fromnumeric.py\u001b[0m in \u001b[0;36m_wrapfunc\u001b[1;34m(obj, method, *args, **kwds)\u001b[0m\n\u001b[0;32m     50\u001b[0m \u001b[1;32mdef\u001b[0m \u001b[0m_wrapfunc\u001b[0m\u001b[1;33m(\u001b[0m\u001b[0mobj\u001b[0m\u001b[1;33m,\u001b[0m \u001b[0mmethod\u001b[0m\u001b[1;33m,\u001b[0m \u001b[1;33m*\u001b[0m\u001b[0margs\u001b[0m\u001b[1;33m,\u001b[0m \u001b[1;33m**\u001b[0m\u001b[0mkwds\u001b[0m\u001b[1;33m)\u001b[0m\u001b[1;33m:\u001b[0m\u001b[1;33m\u001b[0m\u001b[0m\n\u001b[0;32m     51\u001b[0m     \u001b[1;32mtry\u001b[0m\u001b[1;33m:\u001b[0m\u001b[1;33m\u001b[0m\u001b[0m\n\u001b[1;32m---> 52\u001b[1;33m         \u001b[1;32mreturn\u001b[0m \u001b[0mgetattr\u001b[0m\u001b[1;33m(\u001b[0m\u001b[0mobj\u001b[0m\u001b[1;33m,\u001b[0m \u001b[0mmethod\u001b[0m\u001b[1;33m)\u001b[0m\u001b[1;33m(\u001b[0m\u001b[1;33m*\u001b[0m\u001b[0margs\u001b[0m\u001b[1;33m,\u001b[0m \u001b[1;33m**\u001b[0m\u001b[0mkwds\u001b[0m\u001b[1;33m)\u001b[0m\u001b[1;33m\u001b[0m\u001b[0m\n\u001b[0m\u001b[0;32m     53\u001b[0m \u001b[1;33m\u001b[0m\u001b[0m\n\u001b[0;32m     54\u001b[0m     \u001b[1;31m# An AttributeError occurs if the object does not have\u001b[0m\u001b[1;33m\u001b[0m\u001b[1;33m\u001b[0m\u001b[0m\n",
      "\u001b[1;31mValueError\u001b[0m: cannot reshape array of size 2000 into shape (2000,8,1)"
     ]
    }
   ],
   "source": [
    "xtrain = x_train.close.copy().values\n",
    "xtrain = np.reshape(xtrain, (xtrain.shape[0],1, 1))\n",
    "xtest = x_test.close.copy().values\n",
    "xtest = np.reshape(xtest, (xtest.shape[0],1, 1))"
   ]
  },
  {
   "cell_type": "code",
   "execution_count": 550,
   "metadata": {},
   "outputs": [
    {
     "data": {
      "text/plain": [
       "(1, 2000, 1)"
      ]
     },
     "execution_count": 550,
     "metadata": {},
     "output_type": "execute_result"
    }
   ],
   "source": [
    "xtrain.shape"
   ]
  },
  {
   "cell_type": "code",
   "execution_count": 551,
   "metadata": {},
   "outputs": [
    {
     "ename": "ValueError",
     "evalue": "Error when checking input: expected lstm_43_input to have shape (1, 1) but got array with shape (2000, 1)",
     "output_type": "error",
     "traceback": [
      "\u001b[1;31m---------------------------------------------------------------------------\u001b[0m",
      "\u001b[1;31mValueError\u001b[0m                                Traceback (most recent call last)",
      "\u001b[1;32m<ipython-input-551-686b6a8eb8a2>\u001b[0m in \u001b[0;36m<module>\u001b[1;34m()\u001b[0m\n\u001b[0;32m     10\u001b[0m \u001b[0mnet\u001b[0m\u001b[1;33m.\u001b[0m\u001b[0madd\u001b[0m\u001b[1;33m(\u001b[0m\u001b[0mLSTM\u001b[0m\u001b[1;33m(\u001b[0m\u001b[1;36m1\u001b[0m\u001b[1;33m)\u001b[0m\u001b[1;33m)\u001b[0m\u001b[1;33m\u001b[0m\u001b[0m\n\u001b[0;32m     11\u001b[0m \u001b[0mnet\u001b[0m\u001b[1;33m.\u001b[0m\u001b[0mcompile\u001b[0m\u001b[1;33m(\u001b[0m\u001b[0moptimizer\u001b[0m\u001b[1;33m=\u001b[0m\u001b[1;34m'adam'\u001b[0m\u001b[1;33m,\u001b[0m \u001b[0mloss\u001b[0m\u001b[1;33m=\u001b[0m\u001b[1;34m'mse'\u001b[0m\u001b[1;33m,\u001b[0m \u001b[0mmetrics\u001b[0m\u001b[1;33m=\u001b[0m\u001b[1;33m[\u001b[0m\u001b[1;34m'mae'\u001b[0m\u001b[1;33m]\u001b[0m\u001b[1;33m)\u001b[0m\u001b[1;33m\u001b[0m\u001b[0m\n\u001b[1;32m---> 12\u001b[1;33m \u001b[0mnet\u001b[0m\u001b[1;33m.\u001b[0m\u001b[0mfit\u001b[0m\u001b[1;33m(\u001b[0m\u001b[0mxtrain\u001b[0m\u001b[1;33m,\u001b[0m \u001b[0my_train\u001b[0m\u001b[1;33m,\u001b[0m \u001b[0mepochs\u001b[0m\u001b[1;33m=\u001b[0m\u001b[1;36m10\u001b[0m\u001b[1;33m,\u001b[0m \u001b[0mverbose\u001b[0m\u001b[1;33m=\u001b[0m\u001b[1;36m2\u001b[0m\u001b[1;33m,\u001b[0m \u001b[0mvalidation_data\u001b[0m\u001b[1;33m=\u001b[0m\u001b[1;33m(\u001b[0m\u001b[0mxtest\u001b[0m\u001b[1;33m,\u001b[0m\u001b[0my_test\u001b[0m\u001b[1;33m)\u001b[0m\u001b[1;33m)\u001b[0m\u001b[1;33m\u001b[0m\u001b[0m\n\u001b[0m",
      "\u001b[1;32m~\\Anaconda3\\lib\\site-packages\\keras\\engine\\training.py\u001b[0m in \u001b[0;36mfit\u001b[1;34m(self, x, y, batch_size, epochs, verbose, callbacks, validation_split, validation_data, shuffle, class_weight, sample_weight, initial_epoch, steps_per_epoch, validation_steps, **kwargs)\u001b[0m\n\u001b[0;32m    948\u001b[0m             \u001b[0msample_weight\u001b[0m\u001b[1;33m=\u001b[0m\u001b[0msample_weight\u001b[0m\u001b[1;33m,\u001b[0m\u001b[1;33m\u001b[0m\u001b[0m\n\u001b[0;32m    949\u001b[0m             \u001b[0mclass_weight\u001b[0m\u001b[1;33m=\u001b[0m\u001b[0mclass_weight\u001b[0m\u001b[1;33m,\u001b[0m\u001b[1;33m\u001b[0m\u001b[0m\n\u001b[1;32m--> 950\u001b[1;33m             batch_size=batch_size)\n\u001b[0m\u001b[0;32m    951\u001b[0m         \u001b[1;31m# Prepare validation data.\u001b[0m\u001b[1;33m\u001b[0m\u001b[1;33m\u001b[0m\u001b[0m\n\u001b[0;32m    952\u001b[0m         \u001b[0mdo_validation\u001b[0m \u001b[1;33m=\u001b[0m \u001b[1;32mFalse\u001b[0m\u001b[1;33m\u001b[0m\u001b[0m\n",
      "\u001b[1;32m~\\Anaconda3\\lib\\site-packages\\keras\\engine\\training.py\u001b[0m in \u001b[0;36m_standardize_user_data\u001b[1;34m(self, x, y, sample_weight, class_weight, check_array_lengths, batch_size)\u001b[0m\n\u001b[0;32m    747\u001b[0m             \u001b[0mfeed_input_shapes\u001b[0m\u001b[1;33m,\u001b[0m\u001b[1;33m\u001b[0m\u001b[0m\n\u001b[0;32m    748\u001b[0m             \u001b[0mcheck_batch_axis\u001b[0m\u001b[1;33m=\u001b[0m\u001b[1;32mFalse\u001b[0m\u001b[1;33m,\u001b[0m  \u001b[1;31m# Don't enforce the batch size.\u001b[0m\u001b[1;33m\u001b[0m\u001b[0m\n\u001b[1;32m--> 749\u001b[1;33m             exception_prefix='input')\n\u001b[0m\u001b[0;32m    750\u001b[0m \u001b[1;33m\u001b[0m\u001b[0m\n\u001b[0;32m    751\u001b[0m         \u001b[1;32mif\u001b[0m \u001b[0my\u001b[0m \u001b[1;32mis\u001b[0m \u001b[1;32mnot\u001b[0m \u001b[1;32mNone\u001b[0m\u001b[1;33m:\u001b[0m\u001b[1;33m\u001b[0m\u001b[0m\n",
      "\u001b[1;32m~\\Anaconda3\\lib\\site-packages\\keras\\engine\\training_utils.py\u001b[0m in \u001b[0;36mstandardize_input_data\u001b[1;34m(data, names, shapes, check_batch_axis, exception_prefix)\u001b[0m\n\u001b[0;32m    135\u001b[0m                             \u001b[1;34m': expected '\u001b[0m \u001b[1;33m+\u001b[0m \u001b[0mnames\u001b[0m\u001b[1;33m[\u001b[0m\u001b[0mi\u001b[0m\u001b[1;33m]\u001b[0m \u001b[1;33m+\u001b[0m \u001b[1;34m' to have shape '\u001b[0m \u001b[1;33m+\u001b[0m\u001b[1;33m\u001b[0m\u001b[0m\n\u001b[0;32m    136\u001b[0m                             \u001b[0mstr\u001b[0m\u001b[1;33m(\u001b[0m\u001b[0mshape\u001b[0m\u001b[1;33m)\u001b[0m \u001b[1;33m+\u001b[0m \u001b[1;34m' but got array with shape '\u001b[0m \u001b[1;33m+\u001b[0m\u001b[1;33m\u001b[0m\u001b[0m\n\u001b[1;32m--> 137\u001b[1;33m                             str(data_shape))\n\u001b[0m\u001b[0;32m    138\u001b[0m     \u001b[1;32mreturn\u001b[0m \u001b[0mdata\u001b[0m\u001b[1;33m\u001b[0m\u001b[0m\n\u001b[0;32m    139\u001b[0m \u001b[1;33m\u001b[0m\u001b[0m\n",
      "\u001b[1;31mValueError\u001b[0m: Error when checking input: expected lstm_43_input to have shape (1, 1) but got array with shape (2000, 1)"
     ]
    }
   ],
   "source": [
    "net = Sequential()\n",
    "net.add(LSTM(32, return_sequences=True, input_shape=(1,1)))\n",
    "net.add(Dropout(0.2))\n",
    "net.add(LSTM(32, return_sequences=True))\n",
    "net.add(Dropout(0.2))\n",
    "net.add(LSTM(32, return_sequences=True))\n",
    "net.add(Dropout(0.2))\n",
    "net.add(LSTM(32, return_sequences=True))\n",
    "net.add(Dropout(0.2))\n",
    "net.add(LSTM(1))\n",
    "net.compile(optimizer='adam', loss='mse', metrics=['mae'])\n",
    "net.fit(xtrain, y_train, epochs=10, verbose=2, validation_data=(xtest,y_test))"
   ]
  },
  {
   "cell_type": "code",
   "execution_count": 545,
   "metadata": {},
   "outputs": [],
   "source": [
    "prediction = net.predict(xtest)"
   ]
  },
  {
   "cell_type": "code",
   "execution_count": 546,
   "metadata": {},
   "outputs": [
    {
     "data": {
      "text/plain": [
       "array([[0.76159],\n",
       "       [0.76159],\n",
       "       [0.76159],\n",
       "       [0.76159],\n",
       "       [0.76159],\n",
       "       [0.76159],\n",
       "       [0.76159],\n",
       "       [0.76159],\n",
       "       [0.76159],\n",
       "       [0.76159],\n",
       "       [0.76159],\n",
       "       [0.76159],\n",
       "       [0.76159],\n",
       "       [0.76159],\n",
       "       [0.76159],\n",
       "       [0.76159],\n",
       "       [0.76159],\n",
       "       [0.76159],\n",
       "       [0.76159],\n",
       "       [0.76159],\n",
       "       [0.76159],\n",
       "       [0.76159],\n",
       "       [0.76159],\n",
       "       [0.76159],\n",
       "       [0.76159],\n",
       "       [0.76159],\n",
       "       [0.76159],\n",
       "       [0.76159],\n",
       "       [0.76159],\n",
       "       [0.76159],\n",
       "       [0.76159],\n",
       "       [0.76159],\n",
       "       [0.76159],\n",
       "       [0.76159],\n",
       "       [0.76159],\n",
       "       [0.76159],\n",
       "       [0.76159],\n",
       "       [0.76159],\n",
       "       [0.76159],\n",
       "       [0.76159],\n",
       "       [0.76159],\n",
       "       [0.76159],\n",
       "       [0.76159],\n",
       "       [0.76159],\n",
       "       [0.76159],\n",
       "       [0.76159],\n",
       "       [0.76159],\n",
       "       [0.76159],\n",
       "       [0.76159],\n",
       "       [0.76159],\n",
       "       [0.76159],\n",
       "       [0.76159],\n",
       "       [0.76159],\n",
       "       [0.76159],\n",
       "       [0.76159],\n",
       "       [0.76159]], dtype=float32)"
      ]
     },
     "execution_count": 546,
     "metadata": {},
     "output_type": "execute_result"
    }
   ],
   "source": [
    "prediction"
   ]
  },
  {
   "cell_type": "code",
   "execution_count": 512,
   "metadata": {},
   "outputs": [],
   "source": [
    "loss = history.history['loss']\n",
    "val_loss = history.history['val_loss']\n",
    "mae = history.history['mean_absolute_error']\n",
    "epochs = range(1,len(loss)+1)"
   ]
  },
  {
   "cell_type": "code",
   "execution_count": 515,
   "metadata": {},
   "outputs": [
    {
     "data": {
      "image/png": "[encoded data removed]",
      "text/plain": [
       "<matplotlib.figure.Figure at 0x1c8b18fcb00>"
      ]
     },
     "metadata": {},
     "output_type": "display_data"
    }
   ],
   "source": [
    "plt.plot(epochs, loss, 'b', label='Training ')\n",
    "# plt.plot(epochs, val_loss,'b', label='Validation Acc')\n",
    "plt.show()"
   ]
  },
  {
   "cell_type": "code",
   "execution_count": 553,
   "metadata": {},
   "outputs": [],
   "source": [
    "from sklearn.preprocessing import StandardScaler"
   ]
  },
  {
   "cell_type": "code",
   "execution_count": 554,
   "metadata": {},
   "outputs": [],
   "source": [
    "sc = StandardScaler()\n",
    "newdf = sc.fit_transform(df)"
   ]
  },
  {
   "cell_type": "code",
   "execution_count": 558,
   "metadata": {},
   "outputs": [
    {
     "data": {
      "text/plain": [
       "(2056, 6)"
      ]
     },
     "execution_count": 558,
     "metadata": {},
     "output_type": "execute_result"
    }
   ],
   "source": [
    "newdf.shape"
   ]
  },
  {
   "cell_type": "code",
   "execution_count": 565,
   "metadata": {},
   "outputs": [
    {
     "data": {
      "text/html": [
       "<div>\n",
       "<style scoped>\n",
       "    .dataframe tbody tr th:only-of-type {\n",
       "        vertical-align: middle;\n",
       "    }\n",
       "\n",
       "    .dataframe tbody tr th {\n",
       "        vertical-align: top;\n",
       "    }\n",
       "\n",
       "    .dataframe thead th {\n",
       "        text-align: right;\n",
       "    }\n",
       "</style>\n",
       "<table border=\"1\" class=\"dataframe\">\n",
       "  <thead>\n",
       "    <tr style=\"text-align: right;\">\n",
       "      <th></th>\n",
       "      <th>close</th>\n",
       "      <th>vol</th>\n",
       "      <th>dayofweek</th>\n",
       "      <th>is_quater_end</th>\n",
       "      <th>is_quater_start</th>\n",
       "      <th>target</th>\n",
       "    </tr>\n",
       "  </thead>\n",
       "  <tbody>\n",
       "    <tr>\n",
       "      <th>0</th>\n",
       "      <td>518.54</td>\n",
       "      <td>1117259136</td>\n",
       "      <td>0</td>\n",
       "      <td>False</td>\n",
       "      <td>False</td>\n",
       "      <td>518.12</td>\n",
       "    </tr>\n",
       "    <tr>\n",
       "      <th>1</th>\n",
       "      <td>518.12</td>\n",
       "      <td>1232977792</td>\n",
       "      <td>1</td>\n",
       "      <td>False</td>\n",
       "      <td>False</td>\n",
       "      <td>520.96</td>\n",
       "    </tr>\n",
       "    <tr>\n",
       "      <th>2</th>\n",
       "      <td>520.96</td>\n",
       "      <td>2116183424</td>\n",
       "      <td>2</td>\n",
       "      <td>False</td>\n",
       "      <td>False</td>\n",
       "      <td>519.67</td>\n",
       "    </tr>\n",
       "    <tr>\n",
       "      <th>3</th>\n",
       "      <td>519.67</td>\n",
       "      <td>1617786368</td>\n",
       "      <td>3</td>\n",
       "      <td>False</td>\n",
       "      <td>False</td>\n",
       "      <td>523.70</td>\n",
       "    </tr>\n",
       "    <tr>\n",
       "      <th>4</th>\n",
       "      <td>523.70</td>\n",
       "      <td>1378444160</td>\n",
       "      <td>4</td>\n",
       "      <td>False</td>\n",
       "      <td>False</td>\n",
       "      <td>529.91</td>\n",
       "    </tr>\n",
       "  </tbody>\n",
       "</table>\n",
       "</div>"
      ],
      "text/plain": [
       "    close         vol  dayofweek  is_quater_end  is_quater_start  target\n",
       "0  518.54  1117259136          0          False            False  518.12\n",
       "1  518.12  1232977792          1          False            False  520.96\n",
       "2  520.96  2116183424          2          False            False  519.67\n",
       "3  519.67  1617786368          3          False            False  523.70\n",
       "4  523.70  1378444160          4          False            False  529.91"
      ]
     },
     "execution_count": 565,
     "metadata": {},
     "output_type": "execute_result"
    }
   ],
   "source": [
    "df.head()"
   ]
  },
  {
   "cell_type": "code",
   "execution_count": 567,
   "metadata": {},
   "outputs": [],
   "source": [
    "x = newdf[:,:5]\n",
    "y = newdf[:,5]"
   ]
  },
  {
   "cell_type": "code",
   "execution_count": 582,
   "metadata": {},
   "outputs": [],
   "source": [
    "xx = np.reshape(x, (x.shape[0],1,x.shape[1]))"
   ]
  },
  {
   "cell_type": "code",
   "execution_count": 585,
   "metadata": {},
   "outputs": [
    {
     "ename": "ValueError",
     "evalue": "Initializer for variable lstm_63/kernel/ is from inside a control-flow construct, such as a loop or conditional. When creating a variable inside a loop or conditional, use a lambda as the initializer.",
     "output_type": "error",
     "traceback": [
      "\u001b[1;31m---------------------------------------------------------------------------\u001b[0m",
      "\u001b[1;31mValueError\u001b[0m                                Traceback (most recent call last)",
      "\u001b[1;32m<ipython-input-585-fe578675ca78>\u001b[0m in \u001b[0;36m<module>\u001b[1;34m()\u001b[0m\n\u001b[0;32m      1\u001b[0m \u001b[0mnet\u001b[0m \u001b[1;33m=\u001b[0m \u001b[0mSequential\u001b[0m\u001b[1;33m(\u001b[0m\u001b[1;33m)\u001b[0m\u001b[1;33m\u001b[0m\u001b[0m\n\u001b[1;32m----> 2\u001b[1;33m \u001b[0mnet\u001b[0m\u001b[1;33m.\u001b[0m\u001b[0madd\u001b[0m\u001b[1;33m(\u001b[0m\u001b[0mLSTM\u001b[0m\u001b[1;33m(\u001b[0m\u001b[1;36m32\u001b[0m\u001b[1;33m,\u001b[0m \u001b[0mreturn_sequences\u001b[0m\u001b[1;33m=\u001b[0m\u001b[1;32mTrue\u001b[0m\u001b[1;33m,\u001b[0m \u001b[0minput_shape\u001b[0m\u001b[1;33m=\u001b[0m\u001b[1;33m(\u001b[0m\u001b[1;36m1\u001b[0m\u001b[1;33m,\u001b[0m\u001b[0mx\u001b[0m\u001b[1;33m.\u001b[0m\u001b[0mshape\u001b[0m\u001b[1;33m[\u001b[0m\u001b[1;36m1\u001b[0m\u001b[1;33m]\u001b[0m\u001b[1;33m)\u001b[0m\u001b[1;33m)\u001b[0m\u001b[1;33m)\u001b[0m\u001b[1;33m\u001b[0m\u001b[0m\n\u001b[0m\u001b[0;32m      3\u001b[0m \u001b[0mnet\u001b[0m\u001b[1;33m.\u001b[0m\u001b[0madd\u001b[0m\u001b[1;33m(\u001b[0m\u001b[0mDropout\u001b[0m\u001b[1;33m(\u001b[0m\u001b[1;36m0.2\u001b[0m\u001b[1;33m)\u001b[0m\u001b[1;33m)\u001b[0m\u001b[1;33m\u001b[0m\u001b[0m\n\u001b[0;32m      4\u001b[0m \u001b[0mnet\u001b[0m\u001b[1;33m.\u001b[0m\u001b[0madd\u001b[0m\u001b[1;33m(\u001b[0m\u001b[0mLSTM\u001b[0m\u001b[1;33m(\u001b[0m\u001b[1;36m32\u001b[0m\u001b[1;33m,\u001b[0m \u001b[0mreturn_sequences\u001b[0m\u001b[1;33m=\u001b[0m\u001b[1;32mTrue\u001b[0m\u001b[1;33m)\u001b[0m\u001b[1;33m)\u001b[0m\u001b[1;33m\u001b[0m\u001b[0m\n\u001b[0;32m      5\u001b[0m \u001b[0mnet\u001b[0m\u001b[1;33m.\u001b[0m\u001b[0madd\u001b[0m\u001b[1;33m(\u001b[0m\u001b[0mDropout\u001b[0m\u001b[1;33m(\u001b[0m\u001b[1;36m0.2\u001b[0m\u001b[1;33m)\u001b[0m\u001b[1;33m)\u001b[0m\u001b[1;33m\u001b[0m\u001b[0m\n",
      "\u001b[1;32m~\\Anaconda3\\lib\\site-packages\\keras\\engine\\sequential.py\u001b[0m in \u001b[0;36madd\u001b[1;34m(self, layer)\u001b[0m\n\u001b[0;32m    162\u001b[0m                     \u001b[1;31m# and create the node connecting the current layer\u001b[0m\u001b[1;33m\u001b[0m\u001b[1;33m\u001b[0m\u001b[0m\n\u001b[0;32m    163\u001b[0m                     \u001b[1;31m# to the input layer we just created.\u001b[0m\u001b[1;33m\u001b[0m\u001b[1;33m\u001b[0m\u001b[0m\n\u001b[1;32m--> 164\u001b[1;33m                     \u001b[0mlayer\u001b[0m\u001b[1;33m(\u001b[0m\u001b[0mx\u001b[0m\u001b[1;33m)\u001b[0m\u001b[1;33m\u001b[0m\u001b[0m\n\u001b[0m\u001b[0;32m    165\u001b[0m                     \u001b[0mset_inputs\u001b[0m \u001b[1;33m=\u001b[0m \u001b[1;32mTrue\u001b[0m\u001b[1;33m\u001b[0m\u001b[0m\n\u001b[0;32m    166\u001b[0m                 \u001b[1;32melse\u001b[0m\u001b[1;33m:\u001b[0m\u001b[1;33m\u001b[0m\u001b[0m\n",
      "\u001b[1;32m~\\Anaconda3\\lib\\site-packages\\keras\\layers\\recurrent.py\u001b[0m in \u001b[0;36m__call__\u001b[1;34m(self, inputs, initial_state, constants, **kwargs)\u001b[0m\n\u001b[0;32m    498\u001b[0m \u001b[1;33m\u001b[0m\u001b[0m\n\u001b[0;32m    499\u001b[0m         \u001b[1;32mif\u001b[0m \u001b[0minitial_state\u001b[0m \u001b[1;32mis\u001b[0m \u001b[1;32mNone\u001b[0m \u001b[1;32mand\u001b[0m \u001b[0mconstants\u001b[0m \u001b[1;32mis\u001b[0m \u001b[1;32mNone\u001b[0m\u001b[1;33m:\u001b[0m\u001b[1;33m\u001b[0m\u001b[0m\n\u001b[1;32m--> 500\u001b[1;33m             \u001b[1;32mreturn\u001b[0m \u001b[0msuper\u001b[0m\u001b[1;33m(\u001b[0m\u001b[0mRNN\u001b[0m\u001b[1;33m,\u001b[0m \u001b[0mself\u001b[0m\u001b[1;33m)\u001b[0m\u001b[1;33m.\u001b[0m\u001b[0m__call__\u001b[0m\u001b[1;33m(\u001b[0m\u001b[0minputs\u001b[0m\u001b[1;33m,\u001b[0m \u001b[1;33m**\u001b[0m\u001b[0mkwargs\u001b[0m\u001b[1;33m)\u001b[0m\u001b[1;33m\u001b[0m\u001b[0m\n\u001b[0m\u001b[0;32m    501\u001b[0m \u001b[1;33m\u001b[0m\u001b[0m\n\u001b[0;32m    502\u001b[0m         \u001b[1;31m# If any of `initial_state` or `constants` are specified and are Keras\u001b[0m\u001b[1;33m\u001b[0m\u001b[1;33m\u001b[0m\u001b[0m\n",
      "\u001b[1;32m~\\Anaconda3\\lib\\site-packages\\keras\\engine\\base_layer.py\u001b[0m in \u001b[0;36m__call__\u001b[1;34m(self, inputs, **kwargs)\u001b[0m\n\u001b[0;32m    429\u001b[0m                                          \u001b[1;34m'You can build it manually via: '\u001b[0m\u001b[1;33m\u001b[0m\u001b[0m\n\u001b[0;32m    430\u001b[0m                                          '`layer.build(batch_input_shape)`')\n\u001b[1;32m--> 431\u001b[1;33m                 \u001b[0mself\u001b[0m\u001b[1;33m.\u001b[0m\u001b[0mbuild\u001b[0m\u001b[1;33m(\u001b[0m\u001b[0munpack_singleton\u001b[0m\u001b[1;33m(\u001b[0m\u001b[0minput_shapes\u001b[0m\u001b[1;33m)\u001b[0m\u001b[1;33m)\u001b[0m\u001b[1;33m\u001b[0m\u001b[0m\n\u001b[0m\u001b[0;32m    432\u001b[0m                 \u001b[0mself\u001b[0m\u001b[1;33m.\u001b[0m\u001b[0mbuilt\u001b[0m \u001b[1;33m=\u001b[0m \u001b[1;32mTrue\u001b[0m\u001b[1;33m\u001b[0m\u001b[0m\n\u001b[0;32m    433\u001b[0m \u001b[1;33m\u001b[0m\u001b[0m\n",
      "\u001b[1;32m~\\Anaconda3\\lib\\site-packages\\keras\\layers\\recurrent.py\u001b[0m in \u001b[0;36mbuild\u001b[1;34m(self, input_shape)\u001b[0m\n\u001b[0;32m    459\u001b[0m                 \u001b[0mself\u001b[0m\u001b[1;33m.\u001b[0m\u001b[0mcell\u001b[0m\u001b[1;33m.\u001b[0m\u001b[0mbuild\u001b[0m\u001b[1;33m(\u001b[0m\u001b[1;33m[\u001b[0m\u001b[0mstep_input_shape\u001b[0m\u001b[1;33m]\u001b[0m \u001b[1;33m+\u001b[0m \u001b[0mconstants_shape\u001b[0m\u001b[1;33m)\u001b[0m\u001b[1;33m\u001b[0m\u001b[0m\n\u001b[0;32m    460\u001b[0m             \u001b[1;32melse\u001b[0m\u001b[1;33m:\u001b[0m\u001b[1;33m\u001b[0m\u001b[0m\n\u001b[1;32m--> 461\u001b[1;33m                 \u001b[0mself\u001b[0m\u001b[1;33m.\u001b[0m\u001b[0mcell\u001b[0m\u001b[1;33m.\u001b[0m\u001b[0mbuild\u001b[0m\u001b[1;33m(\u001b[0m\u001b[0mstep_input_shape\u001b[0m\u001b[1;33m)\u001b[0m\u001b[1;33m\u001b[0m\u001b[0m\n\u001b[0m\u001b[0;32m    462\u001b[0m \u001b[1;33m\u001b[0m\u001b[0m\n\u001b[0;32m    463\u001b[0m         \u001b[1;31m# set or validate state_spec\u001b[0m\u001b[1;33m\u001b[0m\u001b[1;33m\u001b[0m\u001b[0m\n",
      "\u001b[1;32m~\\Anaconda3\\lib\\site-packages\\keras\\layers\\recurrent.py\u001b[0m in \u001b[0;36mbuild\u001b[1;34m(self, input_shape)\u001b[0m\n\u001b[0;32m   1797\u001b[0m                                       \u001b[0minitializer\u001b[0m\u001b[1;33m=\u001b[0m\u001b[0mself\u001b[0m\u001b[1;33m.\u001b[0m\u001b[0mkernel_initializer\u001b[0m\u001b[1;33m,\u001b[0m\u001b[1;33m\u001b[0m\u001b[0m\n\u001b[0;32m   1798\u001b[0m                                       \u001b[0mregularizer\u001b[0m\u001b[1;33m=\u001b[0m\u001b[0mself\u001b[0m\u001b[1;33m.\u001b[0m\u001b[0mkernel_regularizer\u001b[0m\u001b[1;33m,\u001b[0m\u001b[1;33m\u001b[0m\u001b[0m\n\u001b[1;32m-> 1799\u001b[1;33m                                       constraint=self.kernel_constraint)\n\u001b[0m\u001b[0;32m   1800\u001b[0m         self.recurrent_kernel = self.add_weight(\n\u001b[0;32m   1801\u001b[0m             \u001b[0mshape\u001b[0m\u001b[1;33m=\u001b[0m\u001b[1;33m(\u001b[0m\u001b[0mself\u001b[0m\u001b[1;33m.\u001b[0m\u001b[0munits\u001b[0m\u001b[1;33m,\u001b[0m \u001b[0mself\u001b[0m\u001b[1;33m.\u001b[0m\u001b[0munits\u001b[0m \u001b[1;33m*\u001b[0m \u001b[1;36m4\u001b[0m\u001b[1;33m)\u001b[0m\u001b[1;33m,\u001b[0m\u001b[1;33m\u001b[0m\u001b[0m\n",
      "\u001b[1;32m~\\Anaconda3\\lib\\site-packages\\keras\\legacy\\interfaces.py\u001b[0m in \u001b[0;36mwrapper\u001b[1;34m(*args, **kwargs)\u001b[0m\n\u001b[0;32m     89\u001b[0m                 warnings.warn('Update your `' + object_name +\n\u001b[0;32m     90\u001b[0m                               '` call to the Keras 2 API: ' + signature, stacklevel=2)\n\u001b[1;32m---> 91\u001b[1;33m             \u001b[1;32mreturn\u001b[0m \u001b[0mfunc\u001b[0m\u001b[1;33m(\u001b[0m\u001b[1;33m*\u001b[0m\u001b[0margs\u001b[0m\u001b[1;33m,\u001b[0m \u001b[1;33m**\u001b[0m\u001b[0mkwargs\u001b[0m\u001b[1;33m)\u001b[0m\u001b[1;33m\u001b[0m\u001b[0m\n\u001b[0m\u001b[0;32m     92\u001b[0m         \u001b[0mwrapper\u001b[0m\u001b[1;33m.\u001b[0m\u001b[0m_original_function\u001b[0m \u001b[1;33m=\u001b[0m \u001b[0mfunc\u001b[0m\u001b[1;33m\u001b[0m\u001b[0m\n\u001b[0;32m     93\u001b[0m         \u001b[1;32mreturn\u001b[0m \u001b[0mwrapper\u001b[0m\u001b[1;33m\u001b[0m\u001b[0m\n",
      "\u001b[1;32m~\\Anaconda3\\lib\\site-packages\\keras\\engine\\base_layer.py\u001b[0m in \u001b[0;36madd_weight\u001b[1;34m(self, name, shape, dtype, initializer, regularizer, trainable, constraint)\u001b[0m\n\u001b[0;32m    250\u001b[0m                             \u001b[0mdtype\u001b[0m\u001b[1;33m=\u001b[0m\u001b[0mdtype\u001b[0m\u001b[1;33m,\u001b[0m\u001b[1;33m\u001b[0m\u001b[0m\n\u001b[0;32m    251\u001b[0m                             \u001b[0mname\u001b[0m\u001b[1;33m=\u001b[0m\u001b[0mname\u001b[0m\u001b[1;33m,\u001b[0m\u001b[1;33m\u001b[0m\u001b[0m\n\u001b[1;32m--> 252\u001b[1;33m                             constraint=constraint)\n\u001b[0m\u001b[0;32m    253\u001b[0m         \u001b[1;32mif\u001b[0m \u001b[0mregularizer\u001b[0m \u001b[1;32mis\u001b[0m \u001b[1;32mnot\u001b[0m \u001b[1;32mNone\u001b[0m\u001b[1;33m:\u001b[0m\u001b[1;33m\u001b[0m\u001b[0m\n\u001b[0;32m    254\u001b[0m             \u001b[1;32mwith\u001b[0m \u001b[0mK\u001b[0m\u001b[1;33m.\u001b[0m\u001b[0mname_scope\u001b[0m\u001b[1;33m(\u001b[0m\u001b[1;34m'weight_regularizer'\u001b[0m\u001b[1;33m)\u001b[0m\u001b[1;33m:\u001b[0m\u001b[1;33m\u001b[0m\u001b[0m\n",
      "\u001b[1;32m~\\Anaconda3\\lib\\site-packages\\keras\\backend\\tensorflow_backend.py\u001b[0m in \u001b[0;36mvariable\u001b[1;34m(value, dtype, name, constraint)\u001b[0m\n\u001b[0;32m    398\u001b[0m         \u001b[0mv\u001b[0m\u001b[1;33m.\u001b[0m\u001b[0m_uses_learning_phase\u001b[0m \u001b[1;33m=\u001b[0m \u001b[1;32mFalse\u001b[0m\u001b[1;33m\u001b[0m\u001b[0m\n\u001b[0;32m    399\u001b[0m         \u001b[1;32mreturn\u001b[0m \u001b[0mv\u001b[0m\u001b[1;33m\u001b[0m\u001b[0m\n\u001b[1;32m--> 400\u001b[1;33m     \u001b[0mv\u001b[0m \u001b[1;33m=\u001b[0m \u001b[0mtf\u001b[0m\u001b[1;33m.\u001b[0m\u001b[0mVariable\u001b[0m\u001b[1;33m(\u001b[0m\u001b[0mvalue\u001b[0m\u001b[1;33m,\u001b[0m \u001b[0mdtype\u001b[0m\u001b[1;33m=\u001b[0m\u001b[0mtf\u001b[0m\u001b[1;33m.\u001b[0m\u001b[0mas_dtype\u001b[0m\u001b[1;33m(\u001b[0m\u001b[0mdtype\u001b[0m\u001b[1;33m)\u001b[0m\u001b[1;33m,\u001b[0m \u001b[0mname\u001b[0m\u001b[1;33m=\u001b[0m\u001b[0mname\u001b[0m\u001b[1;33m)\u001b[0m\u001b[1;33m\u001b[0m\u001b[0m\n\u001b[0m\u001b[0;32m    401\u001b[0m     \u001b[1;32mif\u001b[0m \u001b[0misinstance\u001b[0m\u001b[1;33m(\u001b[0m\u001b[0mvalue\u001b[0m\u001b[1;33m,\u001b[0m \u001b[0mnp\u001b[0m\u001b[1;33m.\u001b[0m\u001b[0mndarray\u001b[0m\u001b[1;33m)\u001b[0m\u001b[1;33m:\u001b[0m\u001b[1;33m\u001b[0m\u001b[0m\n\u001b[0;32m    402\u001b[0m         \u001b[0mv\u001b[0m\u001b[1;33m.\u001b[0m\u001b[0m_keras_shape\u001b[0m \u001b[1;33m=\u001b[0m \u001b[0mvalue\u001b[0m\u001b[1;33m.\u001b[0m\u001b[0mshape\u001b[0m\u001b[1;33m\u001b[0m\u001b[0m\n",
      "\u001b[1;32m~\\Anaconda3\\lib\\site-packages\\tensorflow\\python\\ops\\variables.py\u001b[0m in \u001b[0;36m__init__\u001b[1;34m(self, initial_value, trainable, collections, validate_shape, caching_device, name, variable_def, dtype, expected_shape, import_scope, constraint)\u001b[0m\n\u001b[0;32m    233\u001b[0m           \u001b[0mdtype\u001b[0m\u001b[1;33m=\u001b[0m\u001b[0mdtype\u001b[0m\u001b[1;33m,\u001b[0m\u001b[1;33m\u001b[0m\u001b[0m\n\u001b[0;32m    234\u001b[0m           \u001b[0mexpected_shape\u001b[0m\u001b[1;33m=\u001b[0m\u001b[0mexpected_shape\u001b[0m\u001b[1;33m,\u001b[0m\u001b[1;33m\u001b[0m\u001b[0m\n\u001b[1;32m--> 235\u001b[1;33m           constraint=constraint)\n\u001b[0m\u001b[0;32m    236\u001b[0m \u001b[1;33m\u001b[0m\u001b[0m\n\u001b[0;32m    237\u001b[0m   \u001b[1;32mdef\u001b[0m \u001b[0m__repr__\u001b[0m\u001b[1;33m(\u001b[0m\u001b[0mself\u001b[0m\u001b[1;33m)\u001b[0m\u001b[1;33m:\u001b[0m\u001b[1;33m\u001b[0m\u001b[0m\n",
      "\u001b[1;32m~\\Anaconda3\\lib\\site-packages\\tensorflow\\python\\ops\\variables.py\u001b[0m in \u001b[0;36m_init_from_args\u001b[1;34m(self, initial_value, trainable, collections, validate_shape, caching_device, name, dtype, expected_shape, constraint)\u001b[0m\n\u001b[0;32m    360\u001b[0m                 \u001b[1;34m\"construct, such as a loop or conditional. When creating a \"\u001b[0m\u001b[1;33m\u001b[0m\u001b[0m\n\u001b[0;32m    361\u001b[0m                 \u001b[1;34m\"variable inside a loop or conditional, use a lambda as the \"\u001b[0m\u001b[1;33m\u001b[0m\u001b[0m\n\u001b[1;32m--> 362\u001b[1;33m                 \"initializer.\" % name)\n\u001b[0m\u001b[0;32m    363\u001b[0m           \u001b[1;31m# pylint: enable=protected-access\u001b[0m\u001b[1;33m\u001b[0m\u001b[1;33m\u001b[0m\u001b[0m\n\u001b[0;32m    364\u001b[0m           shape = (self._initial_value.get_shape()\n",
      "\u001b[1;31mValueError\u001b[0m: Initializer for variable lstm_63/kernel/ is from inside a control-flow construct, such as a loop or conditional. When creating a variable inside a loop or conditional, use a lambda as the initializer."
     ]
    }
   ],
   "source": [
    "net = Sequential()\n",
    "net.add(LSTM(32, return_sequences=True, input_shape=(1,x.shape[1])))\n",
    "net.add(Dropout(0.2))\n",
    "net.add(LSTM(32, return_sequences=True))\n",
    "net.add(Dropout(0.2))\n",
    "net.add(LSTM(32, return_sequences=True))\n",
    "net.add(Dropout(0.2))\n",
    "net.add(LSTM(32, return_sequences=True))\n",
    "net.add(Dropout(0.2))\n",
    "net.add(LSTM(1))\n",
    "net.compile(optimizer='adam', loss='mse', metrics=['mae'], batch_size=100)\n",
    "net.fit(xx, y, epochs=10, verbose=2, batch_size = 100)"
   ]
  },
  {
   "cell_type": "code",
   "execution_count": 572,
   "metadata": {},
   "outputs": [],
   "source": [
    "predd = net.predict(xx)"
   ]
  },
  {
   "cell_type": "code",
   "execution_count": 573,
   "metadata": {},
   "outputs": [
    {
     "data": {
      "text/plain": [
       "-2835.4574274086594"
      ]
     },
     "execution_count": 573,
     "metadata": {},
     "output_type": "execute_result"
    }
   ],
   "source": [
    "rsquare(y,predd)"
   ]
  },
  {
   "cell_type": "code",
   "execution_count": 574,
   "metadata": {},
   "outputs": [
    {
     "data": {
      "image/png": "[encoded data removed]",
      "text/plain": [
       "<matplotlib.figure.Figure at 0x1c91b03f390>"
      ]
     },
     "metadata": {},
     "output_type": "display_data"
    }
   ],
   "source": [
    "plt.plot(predd, color='r')\n",
    "plt.plot(y, color='b')\n",
    "plt.legend()\n",
    "plt.show()"
   ]
  },
  {
   "cell_type": "code",
   "execution_count": null,
   "metadata": {},
   "outputs": [],
   "source": []
  }
 ],
 "metadata": {
  "kernelspec": {
   "display_name": "Python 3",
   "language": "python",
   "name": "python3"
  },
  "language_info": {
   "codemirror_mode": {
    "name": "ipython",
    "version": 3
   },
   "file_extension": ".py",
   "mimetype": "text/x-python",
   "name": "python",
   "nbconvert_exporter": "python",
   "pygments_lexer": "ipython3",
   "version": "3.6.3"
  }
 },
 "nbformat": 4,
 "nbformat_minor": 2
}
