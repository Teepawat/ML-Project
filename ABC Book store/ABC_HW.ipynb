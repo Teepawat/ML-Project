{
 "cells": [
  {
   "cell_type": "code",
   "execution_count": 1,
   "metadata": {},
   "outputs": [],
   "source": [
    "import numpy as np\n",
    "import pandas as pd\n",
    "import matplotlib.pyplot as plt\n",
    "import scikitplot as skplt\n",
    "% matplotlib inline"
   ]
  },
  {
   "cell_type": "code",
   "execution_count": 2,
   "metadata": {},
   "outputs": [],
   "source": [
    "from scikitplot.metrics import plot_confusion_matrix, plot_cumulative_gain, plot_roc\n",
    "from sklearn.metrics import accuracy_score, mean_squared_error\n",
    "from fastai.imports import *\n",
    "from fastai.structured import *"
   ]
  },
  {
   "cell_type": "code",
   "execution_count": 77,
   "metadata": {},
   "outputs": [],
   "source": [
    "PATH = 'CRM/'"
   ]
  },
  {
   "cell_type": "code",
   "execution_count": 87,
   "metadata": {},
   "outputs": [],
   "source": [
    "df = pd.read_excel(f'{PATH}270324_Data_for_contest_ADJ.xlsx', sheet_name='Final',na_values=99)"
   ]
  },
  {
   "cell_type": "code",
   "execution_count": 79,
   "metadata": {},
   "outputs": [
    {
     "data": {
      "text/html": [
       "<div>\n",
       "<style scoped>\n",
       "    .dataframe tbody tr th:only-of-type {\n",
       "        vertical-align: middle;\n",
       "    }\n",
       "\n",
       "    .dataframe tbody tr th {\n",
       "        vertical-align: top;\n",
       "    }\n",
       "\n",
       "    .dataframe thead th {\n",
       "        text-align: right;\n",
       "    }\n",
       "</style>\n",
       "<table border=\"1\" class=\"dataframe\">\n",
       "  <thead>\n",
       "    <tr style=\"text-align: right;\">\n",
       "      <th></th>\n",
       "      <th>id</th>\n",
       "      <th>buy</th>\n",
       "      <th>sex</th>\n",
       "      <th>age</th>\n",
       "      <th>edu</th>\n",
       "      <th>income</th>\n",
       "      <th>occu_ADJ</th>\n",
       "      <th>memb</th>\n",
       "      <th>REGIS_MEM</th>\n",
       "      <th>REGIS_MEM2</th>\n",
       "      <th>...</th>\n",
       "      <th>cs40_ADJ</th>\n",
       "      <th>cs41_ADJ</th>\n",
       "      <th>cs42_ADJ</th>\n",
       "      <th>PCA_1</th>\n",
       "      <th>PCA_2</th>\n",
       "      <th>PCA_3</th>\n",
       "      <th>PCA_4</th>\n",
       "      <th>PCA_5</th>\n",
       "      <th>PCA_6</th>\n",
       "      <th>PCA_7</th>\n",
       "    </tr>\n",
       "  </thead>\n",
       "  <tbody>\n",
       "    <tr>\n",
       "      <th>0</th>\n",
       "      <td>154</td>\n",
       "      <td>1</td>\n",
       "      <td>1</td>\n",
       "      <td>19</td>\n",
       "      <td>6</td>\n",
       "      <td>2</td>\n",
       "      <td>2</td>\n",
       "      <td>2</td>\n",
       "      <td>2</td>\n",
       "      <td>0</td>\n",
       "      <td>...</td>\n",
       "      <td>2</td>\n",
       "      <td>2</td>\n",
       "      <td>2</td>\n",
       "      <td>0.38595</td>\n",
       "      <td>1.04971</td>\n",
       "      <td>0.84306</td>\n",
       "      <td>-0.44033</td>\n",
       "      <td>0.09504</td>\n",
       "      <td>0.02017</td>\n",
       "      <td>0.41899</td>\n",
       "    </tr>\n",
       "    <tr>\n",
       "      <th>1</th>\n",
       "      <td>26</td>\n",
       "      <td>1</td>\n",
       "      <td>2</td>\n",
       "      <td>25</td>\n",
       "      <td>5</td>\n",
       "      <td>2</td>\n",
       "      <td>2</td>\n",
       "      <td>2</td>\n",
       "      <td>2</td>\n",
       "      <td>0</td>\n",
       "      <td>...</td>\n",
       "      <td>2</td>\n",
       "      <td>3</td>\n",
       "      <td>2</td>\n",
       "      <td>-3.39896</td>\n",
       "      <td>0.76810</td>\n",
       "      <td>1.48060</td>\n",
       "      <td>-1.60054</td>\n",
       "      <td>1.52878</td>\n",
       "      <td>-2.04854</td>\n",
       "      <td>1.14870</td>\n",
       "    </tr>\n",
       "    <tr>\n",
       "      <th>2</th>\n",
       "      <td>40</td>\n",
       "      <td>1</td>\n",
       "      <td>2</td>\n",
       "      <td>34</td>\n",
       "      <td>5</td>\n",
       "      <td>6</td>\n",
       "      <td>4</td>\n",
       "      <td>1</td>\n",
       "      <td>2</td>\n",
       "      <td>0</td>\n",
       "      <td>...</td>\n",
       "      <td>1</td>\n",
       "      <td>1</td>\n",
       "      <td>1</td>\n",
       "      <td>0.31032</td>\n",
       "      <td>-0.73502</td>\n",
       "      <td>-0.62824</td>\n",
       "      <td>-0.24851</td>\n",
       "      <td>0.37170</td>\n",
       "      <td>-0.45850</td>\n",
       "      <td>-1.03090</td>\n",
       "    </tr>\n",
       "    <tr>\n",
       "      <th>3</th>\n",
       "      <td>47</td>\n",
       "      <td>1</td>\n",
       "      <td>2</td>\n",
       "      <td>25</td>\n",
       "      <td>5</td>\n",
       "      <td>3</td>\n",
       "      <td>2</td>\n",
       "      <td>2</td>\n",
       "      <td>2</td>\n",
       "      <td>0</td>\n",
       "      <td>...</td>\n",
       "      <td>2</td>\n",
       "      <td>3</td>\n",
       "      <td>0</td>\n",
       "      <td>1.33626</td>\n",
       "      <td>-0.93838</td>\n",
       "      <td>0.49841</td>\n",
       "      <td>-1.12707</td>\n",
       "      <td>0.88446</td>\n",
       "      <td>0.76287</td>\n",
       "      <td>-3.89103</td>\n",
       "    </tr>\n",
       "    <tr>\n",
       "      <th>4</th>\n",
       "      <td>78</td>\n",
       "      <td>1</td>\n",
       "      <td>2</td>\n",
       "      <td>28</td>\n",
       "      <td>5</td>\n",
       "      <td>5</td>\n",
       "      <td>4</td>\n",
       "      <td>2</td>\n",
       "      <td>2</td>\n",
       "      <td>0</td>\n",
       "      <td>...</td>\n",
       "      <td>0</td>\n",
       "      <td>1</td>\n",
       "      <td>1</td>\n",
       "      <td>-1.00882</td>\n",
       "      <td>-1.28489</td>\n",
       "      <td>1.52607</td>\n",
       "      <td>-4.99777</td>\n",
       "      <td>0.38939</td>\n",
       "      <td>-1.27208</td>\n",
       "      <td>1.69595</td>\n",
       "    </tr>\n",
       "  </tbody>\n",
       "</table>\n",
       "<p>5 rows × 66 columns</p>\n",
       "</div>"
      ],
      "text/plain": [
       "    id  buy  sex  age  edu  income  occu_ADJ  memb  REGIS_MEM  REGIS_MEM2  \\\n",
       "0  154    1    1   19    6       2         2     2          2           0   \n",
       "1   26    1    2   25    5       2         2     2          2           0   \n",
       "2   40    1    2   34    5       6         4     1          2           0   \n",
       "3   47    1    2   25    5       3         2     2          2           0   \n",
       "4   78    1    2   28    5       5         4     2          2           0   \n",
       "\n",
       "    ...     cs40_ADJ  cs41_ADJ  cs42_ADJ    PCA_1    PCA_2    PCA_3    PCA_4  \\\n",
       "0   ...            2         2         2  0.38595  1.04971  0.84306 -0.44033   \n",
       "1   ...            2         3         2 -3.39896  0.76810  1.48060 -1.60054   \n",
       "2   ...            1         1         1  0.31032 -0.73502 -0.62824 -0.24851   \n",
       "3   ...            2         3         0  1.33626 -0.93838  0.49841 -1.12707   \n",
       "4   ...            0         1         1 -1.00882 -1.28489  1.52607 -4.99777   \n",
       "\n",
       "     PCA_5    PCA_6    PCA_7  \n",
       "0  0.09504  0.02017  0.41899  \n",
       "1  1.52878 -2.04854  1.14870  \n",
       "2  0.37170 -0.45850 -1.03090  \n",
       "3  0.88446  0.76287 -3.89103  \n",
       "4  0.38939 -1.27208  1.69595  \n",
       "\n",
       "[5 rows x 66 columns]"
      ]
     },
     "execution_count": 79,
     "metadata": {},
     "output_type": "execute_result"
    }
   ],
   "source": [
    "df.head()"
   ]
  },
  {
   "cell_type": "code",
   "execution_count": 75,
   "metadata": {},
   "outputs": [
    {
     "data": {
      "text/plain": [
       "Index(['sex', 'age', 'edu', 'income', 'occu_ADJ', 'type1_ADJ', 'ocs1_ADJ',\n",
       "       'ocs2_ADJ', 'ocs3_ADJ', 'ocs4_ADJ', 'ocs5_ADJ', 'PCA_1', 'PCA_2',\n",
       "       'PCA_3', 'PCA_4', 'PCA_5', 'PCA_6', 'PCA_7'],\n",
       "      dtype='object')"
      ]
     },
     "execution_count": 75,
     "metadata": {},
     "output_type": "execute_result"
    }
   ],
   "source": [
    "x.columns"
   ]
  },
  {
   "cell_type": "code",
   "execution_count": 88,
   "metadata": {},
   "outputs": [],
   "source": [
    "drop = ['id', 'buy', 'REGIS_MEM', 'REGIS_MEM2', 'cs1_ADJ', 'cs2_ADJ', 'cs3_ADJ',\n",
    "       'cs4_ADJ', 'cs5_ADJ', 'cs6_ADJ', 'cs7_ADJ', 'cs8_ADJ', 'cs9_ADJ',\n",
    "       'cs10_ADJ', 'cs11_ADJ', 'cs12_ADJ', 'cs13_ADJ', 'cs14_ADJ', 'cs15_ADJ',\n",
    "       'cs16_ADJ', 'cs17_ADJ', 'cs18_ADJ', 'cs19_ADJ', 'cs20_ADJ', 'cs21_ADJ',\n",
    "       'cs22_ADJ', 'cs23_ADJ', 'cs24_ADJ', 'cs25_ADJ', 'cs26_ADJ', 'cs27_ADJ',\n",
    "       'cs28_ADJ', 'cs29_ADJ', 'cs30_ADJ', 'cs31_ADJ', 'cs32_ADJ', 'cs33_ADJ',\n",
    "       'cs34_ADJ', 'cs35_ADJ', 'cs36_ADJ', 'cs37_ADJ', 'cs38_ADJ', 'cs39_ADJ',\n",
    "       'cs40_ADJ', 'cs41_ADJ', 'cs42_ADJ', 'ocs1_ADJ',\n",
    "       'ocs2_ADJ', 'ocs3_ADJ', 'ocs4_ADJ', 'ocs5_ADJ',]"
   ]
  },
  {
   "cell_type": "code",
   "execution_count": 89,
   "metadata": {},
   "outputs": [],
   "source": [
    "xt = df.drop(drop, axis = 1)\n",
    "x = df.drop(drop, axis = 1)\n",
    "y = df.REGIS_MEM2\n",
    "x_mem = x[x.memb == 1]\n",
    "y_mem = df.REGIS_MEM2[df.memb == 1]\n",
    "x_notmem = x[x.memb == 2]\n",
    "y_notmem = df.REGIS_MEM2[df.memb == 2]"
   ]
  },
  {
   "cell_type": "code",
   "execution_count": 90,
   "metadata": {
    "scrolled": true
   },
   "outputs": [
    {
     "name": "stderr",
     "output_type": "stream",
     "text": [
      "C:\\Users\\Bestz\\Anaconda3\\lib\\site-packages\\pandas\\core\\frame.py:3697: SettingWithCopyWarning: \n",
      "A value is trying to be set on a copy of a slice from a DataFrame\n",
      "\n",
      "See the caveats in the documentation: http://pandas.pydata.org/pandas-docs/stable/indexing.html#indexing-view-versus-copy\n",
      "  errors=errors)\n"
     ]
    }
   ],
   "source": [
    "x.drop(['memb', 'frequen_ADJ'], axis=1, inplace=True)\n",
    "x_mem.drop(['memb', 'frequen_ADJ'], axis=1, inplace=True)\n",
    "x_notmem.drop(['memb', 'frequen_ADJ'],axis=1, inplace=True)"
   ]
  },
  {
   "cell_type": "code",
   "execution_count": 18,
   "metadata": {},
   "outputs": [],
   "source": [
    "from sklearn.ensemble import RandomForestClassifier, RandomForestRegressor"
   ]
  },
  {
   "cell_type": "code",
   "execution_count": 91,
   "metadata": {},
   "outputs": [
    {
     "name": "stdout",
     "output_type": "stream",
     "text": [
      "Accuracy score:  0.6961038961038961\n"
     ]
    },
    {
     "data": {
      "image/svg+xml": [
       "<?xml version=\"1.0\" encoding=\"UTF-8\" standalone=\"no\"?>\r\n",
       "<!DOCTYPE svg PUBLIC \"-//W3C//DTD SVG 1.1//EN\"\r\n",
       " \"http://www.w3.org/Graphics/SVG/1.1/DTD/svg11.dtd\">\r\n",
       "<!-- Generated by graphviz version 2.38.0 (20140413.2041)\r\n",
       " -->\r\n",
       "<!-- Title: Tree Pages: 1 -->\r\n",
       "<svg width=\"720pt\" height=\"434pt\"\r\n",
       " viewBox=\"0.00 0.00 720.00 434.49\" xmlns=\"http://www.w3.org/2000/svg\" xmlns:xlink=\"http://www.w3.org/1999/xlink\">\r\n",
       "<g id=\"graph0\" class=\"graph\" transform=\"scale(0.778659 0.778659) rotate(0) translate(4 554)\">\r\n",
       "<title>Tree</title>\r\n",
       "<polygon fill=\"white\" stroke=\"none\" points=\"-4,4 -4,-554 920.667,-554 920.667,4 -4,4\"/>\r\n",
       "<!-- 0 -->\r\n",
       "<g id=\"node1\" class=\"node\"><title>0</title>\r\n",
       "<polygon fill=\"#e58139\" fill-opacity=\"0.631373\" stroke=\"black\" points=\"135.667,-402.5 17.6667,-402.5 17.6667,-334.5 135.667,-334.5 135.667,-402.5\"/>\r\n",
       "<text text-anchor=\"start\" x=\"30.1667\" y=\"-387.3\" font-family=\"Times New Roman,serif\" font-size=\"14.00\">PCA_5 ≤ &#45;0.753</text>\r\n",
       "<text text-anchor=\"start\" x=\"31.6667\" y=\"-372.3\" font-family=\"Times New Roman,serif\" font-size=\"14.00\">entropy = 0.842</text>\r\n",
       "<text text-anchor=\"start\" x=\"35.6667\" y=\"-357.3\" font-family=\"Times New Roman,serif\" font-size=\"14.00\">samples = 234</text>\r\n",
       "<text text-anchor=\"start\" x=\"25.6667\" y=\"-342.3\" font-family=\"Times New Roman,serif\" font-size=\"14.00\">value = [281, 104]</text>\r\n",
       "</g>\r\n",
       "<!-- 1 -->\r\n",
       "<g id=\"node2\" class=\"node\"><title>1</title>\r\n",
       "<polygon fill=\"#e58139\" fill-opacity=\"0.968627\" stroke=\"black\" points=\"329.667,-445.5 223.667,-445.5 223.667,-377.5 329.667,-377.5 329.667,-445.5\"/>\r\n",
       "<text text-anchor=\"start\" x=\"232.667\" y=\"-430.3\" font-family=\"Times New Roman,serif\" font-size=\"14.00\">PCA_2 ≤ 0.323</text>\r\n",
       "<text text-anchor=\"start\" x=\"231.667\" y=\"-415.3\" font-family=\"Times New Roman,serif\" font-size=\"14.00\">entropy = 0.203</text>\r\n",
       "<text text-anchor=\"start\" x=\"239.167\" y=\"-400.3\" font-family=\"Times New Roman,serif\" font-size=\"14.00\">samples = 40</text>\r\n",
       "<text text-anchor=\"start\" x=\"235.667\" y=\"-385.3\" font-family=\"Times New Roman,serif\" font-size=\"14.00\">value = [61, 2]</text>\r\n",
       "</g>\r\n",
       "<!-- 0&#45;&gt;1 -->\r\n",
       "<g id=\"edge1\" class=\"edge\"><title>0&#45;&gt;1</title>\r\n",
       "<path fill=\"none\" stroke=\"black\" d=\"M135.735,-381.111C160.106,-386.404 188.494,-392.568 213.306,-397.957\"/>\r\n",
       "<polygon fill=\"black\" stroke=\"black\" points=\"212.823,-401.434 223.338,-400.136 214.309,-394.593 212.823,-401.434\"/>\r\n",
       "<text text-anchor=\"middle\" x=\"202.312\" y=\"-409.959\" font-family=\"Times New Roman,serif\" font-size=\"14.00\">True</text>\r\n",
       "</g>\r\n",
       "<!-- 4 -->\r\n",
       "<g id=\"node5\" class=\"node\"><title>4</title>\r\n",
       "<polygon fill=\"#e58139\" fill-opacity=\"0.537255\" stroke=\"black\" points=\"335.667,-359.5 217.667,-359.5 217.667,-291.5 335.667,-291.5 335.667,-359.5\"/>\r\n",
       "<text text-anchor=\"start\" x=\"247.667\" y=\"-344.3\" font-family=\"Times New Roman,serif\" font-size=\"14.00\">age ≤ 23.5</text>\r\n",
       "<text text-anchor=\"start\" x=\"231.667\" y=\"-329.3\" font-family=\"Times New Roman,serif\" font-size=\"14.00\">entropy = 0.901</text>\r\n",
       "<text text-anchor=\"start\" x=\"235.667\" y=\"-314.3\" font-family=\"Times New Roman,serif\" font-size=\"14.00\">samples = 194</text>\r\n",
       "<text text-anchor=\"start\" x=\"225.667\" y=\"-299.3\" font-family=\"Times New Roman,serif\" font-size=\"14.00\">value = [220, 102]</text>\r\n",
       "</g>\r\n",
       "<!-- 0&#45;&gt;4 -->\r\n",
       "<g id=\"edge4\" class=\"edge\"><title>0&#45;&gt;4</title>\r\n",
       "<path fill=\"none\" stroke=\"black\" d=\"M135.735,-355.889C158.301,-350.989 184.309,-345.34 207.735,-340.253\"/>\r\n",
       "<polygon fill=\"black\" stroke=\"black\" points=\"208.57,-343.653 217.599,-338.111 207.084,-336.813 208.57,-343.653\"/>\r\n",
       "<text text-anchor=\"middle\" x=\"196.572\" y=\"-320.887\" font-family=\"Times New Roman,serif\" font-size=\"14.00\">False</text>\r\n",
       "</g>\r\n",
       "<!-- 2 -->\r\n",
       "<g id=\"node3\" class=\"node\"><title>2</title>\r\n",
       "<polygon fill=\"#e58139\" stroke=\"black\" points=\"520.667,-507 422.667,-507 422.667,-454 520.667,-454 520.667,-507\"/>\r\n",
       "<text text-anchor=\"start\" x=\"433.667\" y=\"-491.8\" font-family=\"Times New Roman,serif\" font-size=\"14.00\">entropy = 0.0</text>\r\n",
       "<text text-anchor=\"start\" x=\"434.167\" y=\"-476.8\" font-family=\"Times New Roman,serif\" font-size=\"14.00\">samples = 20</text>\r\n",
       "<text text-anchor=\"start\" x=\"430.667\" y=\"-461.8\" font-family=\"Times New Roman,serif\" font-size=\"14.00\">value = [29, 0]</text>\r\n",
       "</g>\r\n",
       "<!-- 1&#45;&gt;2 -->\r\n",
       "<g id=\"edge2\" class=\"edge\"><title>1&#45;&gt;2</title>\r\n",
       "<path fill=\"none\" stroke=\"black\" d=\"M329.895,-430.172C355.547,-439.343 386.528,-450.419 412.887,-459.843\"/>\r\n",
       "<polygon fill=\"black\" stroke=\"black\" points=\"411.777,-463.163 422.371,-463.234 414.133,-456.572 411.777,-463.163\"/>\r\n",
       "</g>\r\n",
       "<!-- 3 -->\r\n",
       "<g id=\"node4\" class=\"node\"><title>3</title>\r\n",
       "<polygon fill=\"#e58139\" fill-opacity=\"0.937255\" stroke=\"black\" points=\"524.667,-436 418.667,-436 418.667,-383 524.667,-383 524.667,-436\"/>\r\n",
       "<text text-anchor=\"start\" x=\"426.667\" y=\"-420.8\" font-family=\"Times New Roman,serif\" font-size=\"14.00\">entropy = 0.323</text>\r\n",
       "<text text-anchor=\"start\" x=\"434.167\" y=\"-405.8\" font-family=\"Times New Roman,serif\" font-size=\"14.00\">samples = 20</text>\r\n",
       "<text text-anchor=\"start\" x=\"430.667\" y=\"-390.8\" font-family=\"Times New Roman,serif\" font-size=\"14.00\">value = [32, 2]</text>\r\n",
       "</g>\r\n",
       "<!-- 1&#45;&gt;3 -->\r\n",
       "<g id=\"edge3\" class=\"edge\"><title>1&#45;&gt;3</title>\r\n",
       "<path fill=\"none\" stroke=\"black\" d=\"M329.895,-410.959C354.032,-410.709 382.887,-410.41 408.171,-410.148\"/>\r\n",
       "<polygon fill=\"black\" stroke=\"black\" points=\"408.433,-413.645 418.396,-410.042 408.361,-406.646 408.433,-413.645\"/>\r\n",
       "</g>\r\n",
       "<!-- 5 -->\r\n",
       "<g id=\"node6\" class=\"node\"><title>5</title>\r\n",
       "<polygon fill=\"#e58139\" fill-opacity=\"0.321569\" stroke=\"black\" points=\"524.667,-361.5 418.667,-361.5 418.667,-293.5 524.667,-293.5 524.667,-361.5\"/>\r\n",
       "<text text-anchor=\"start\" x=\"427.667\" y=\"-346.3\" font-family=\"Times New Roman,serif\" font-size=\"14.00\">PCA_3 ≤ 0.118</text>\r\n",
       "<text text-anchor=\"start\" x=\"426.667\" y=\"-331.3\" font-family=\"Times New Roman,serif\" font-size=\"14.00\">entropy = 0.973</text>\r\n",
       "<text text-anchor=\"start\" x=\"434.167\" y=\"-316.3\" font-family=\"Times New Roman,serif\" font-size=\"14.00\">samples = 92</text>\r\n",
       "<text text-anchor=\"start\" x=\"427.667\" y=\"-301.3\" font-family=\"Times New Roman,serif\" font-size=\"14.00\">value = [93, 63]</text>\r\n",
       "</g>\r\n",
       "<!-- 4&#45;&gt;5 -->\r\n",
       "<g id=\"edge5\" class=\"edge\"><title>4&#45;&gt;5</title>\r\n",
       "<path fill=\"none\" stroke=\"black\" d=\"M335.835,-326.103C358.749,-326.34 385.106,-326.613 408.404,-326.855\"/>\r\n",
       "<polygon fill=\"black\" stroke=\"black\" points=\"408.489,-330.356 418.525,-326.96 408.562,-323.356 408.489,-330.356\"/>\r\n",
       "</g>\r\n",
       "<!-- 12 -->\r\n",
       "<g id=\"node13\" class=\"node\"><title>12</title>\r\n",
       "<polygon fill=\"#e58139\" fill-opacity=\"0.694118\" stroke=\"black\" points=\"527.167,-255.5 416.167,-255.5 416.167,-187.5 527.167,-187.5 527.167,-255.5\"/>\r\n",
       "<text text-anchor=\"start\" x=\"425.167\" y=\"-240.3\" font-family=\"Times New Roman,serif\" font-size=\"14.00\">occu_ADJ ≤ 5.5</text>\r\n",
       "<text text-anchor=\"start\" x=\"426.667\" y=\"-225.3\" font-family=\"Times New Roman,serif\" font-size=\"14.00\">entropy = 0.787</text>\r\n",
       "<text text-anchor=\"start\" x=\"430.667\" y=\"-210.3\" font-family=\"Times New Roman,serif\" font-size=\"14.00\">samples = 102</text>\r\n",
       "<text text-anchor=\"start\" x=\"424.167\" y=\"-195.3\" font-family=\"Times New Roman,serif\" font-size=\"14.00\">value = [127, 39]</text>\r\n",
       "</g>\r\n",
       "<!-- 4&#45;&gt;12 -->\r\n",
       "<g id=\"edge12\" class=\"edge\"><title>4&#45;&gt;12</title>\r\n",
       "<path fill=\"none\" stroke=\"black\" d=\"M335.835,-294.156C358.273,-282.064 384.013,-268.194 406.949,-255.835\"/>\r\n",
       "<polygon fill=\"black\" stroke=\"black\" points=\"408.778,-258.825 415.921,-251 405.457,-252.663 408.778,-258.825\"/>\r\n",
       "</g>\r\n",
       "<!-- 6 -->\r\n",
       "<g id=\"node7\" class=\"node\"><title>6</title>\r\n",
       "<polygon fill=\"#e58139\" fill-opacity=\"0.694118\" stroke=\"black\" points=\"716.167,-486.5 607.167,-486.5 607.167,-418.5 716.167,-418.5 716.167,-486.5\"/>\r\n",
       "<text text-anchor=\"start\" x=\"615.167\" y=\"-471.3\" font-family=\"Times New Roman,serif\" font-size=\"14.00\">PCA_2 ≤ &#45;0.467</text>\r\n",
       "<text text-anchor=\"start\" x=\"616.667\" y=\"-456.3\" font-family=\"Times New Roman,serif\" font-size=\"14.00\">entropy = 0.786</text>\r\n",
       "<text text-anchor=\"start\" x=\"624.167\" y=\"-441.3\" font-family=\"Times New Roman,serif\" font-size=\"14.00\">samples = 48</text>\r\n",
       "<text text-anchor=\"start\" x=\"617.667\" y=\"-426.3\" font-family=\"Times New Roman,serif\" font-size=\"14.00\">value = [62, 19]</text>\r\n",
       "</g>\r\n",
       "<!-- 5&#45;&gt;6 -->\r\n",
       "<g id=\"edge6\" class=\"edge\"><title>5&#45;&gt;6</title>\r\n",
       "<path fill=\"none\" stroke=\"black\" d=\"M524.038,-361.657C547.768,-377.434 576.095,-396.269 600.788,-412.687\"/>\r\n",
       "<polygon fill=\"black\" stroke=\"black\" points=\"599.092,-415.762 609.357,-418.384 602.968,-409.933 599.092,-415.762\"/>\r\n",
       "</g>\r\n",
       "<!-- 9 -->\r\n",
       "<g id=\"node10\" class=\"node\"><title>9</title>\r\n",
       "<polygon fill=\"#399de5\" fill-opacity=\"0.294118\" stroke=\"black\" points=\"714.667,-361.5 608.667,-361.5 608.667,-293.5 714.667,-293.5 714.667,-361.5\"/>\r\n",
       "<text text-anchor=\"start\" x=\"617.667\" y=\"-346.3\" font-family=\"Times New Roman,serif\" font-size=\"14.00\">PCA_3 ≤ 0.541</text>\r\n",
       "<text text-anchor=\"start\" x=\"616.667\" y=\"-331.3\" font-family=\"Times New Roman,serif\" font-size=\"14.00\">entropy = 0.978</text>\r\n",
       "<text text-anchor=\"start\" x=\"624.167\" y=\"-316.3\" font-family=\"Times New Roman,serif\" font-size=\"14.00\">samples = 44</text>\r\n",
       "<text text-anchor=\"start\" x=\"617.667\" y=\"-301.3\" font-family=\"Times New Roman,serif\" font-size=\"14.00\">value = [31, 44]</text>\r\n",
       "</g>\r\n",
       "<!-- 5&#45;&gt;9 -->\r\n",
       "<g id=\"edge9\" class=\"edge\"><title>5&#45;&gt;9</title>\r\n",
       "<path fill=\"none\" stroke=\"black\" d=\"M525.035,-327.5C547.749,-327.5 574.528,-327.5 598.264,-327.5\"/>\r\n",
       "<polygon fill=\"black\" stroke=\"black\" points=\"598.579,-331 608.579,-327.5 598.579,-324 598.579,-331\"/>\r\n",
       "</g>\r\n",
       "<!-- 7 -->\r\n",
       "<g id=\"node8\" class=\"node\"><title>7</title>\r\n",
       "<polygon fill=\"#e58139\" fill-opacity=\"0.454902\" stroke=\"black\" points=\"900.667,-550 794.667,-550 794.667,-497 900.667,-497 900.667,-550\"/>\r\n",
       "<text text-anchor=\"start\" x=\"802.667\" y=\"-534.8\" font-family=\"Times New Roman,serif\" font-size=\"14.00\">entropy = 0.937</text>\r\n",
       "<text text-anchor=\"start\" x=\"810.167\" y=\"-519.8\" font-family=\"Times New Roman,serif\" font-size=\"14.00\">samples = 20</text>\r\n",
       "<text text-anchor=\"start\" x=\"803.667\" y=\"-504.8\" font-family=\"Times New Roman,serif\" font-size=\"14.00\">value = [22, 12]</text>\r\n",
       "</g>\r\n",
       "<!-- 6&#45;&gt;7 -->\r\n",
       "<g id=\"edge7\" class=\"edge\"><title>6&#45;&gt;7</title>\r\n",
       "<path fill=\"none\" stroke=\"black\" d=\"M716.382,-473.227C737.915,-481.536 762.854,-491.159 785.113,-499.748\"/>\r\n",
       "<polygon fill=\"black\" stroke=\"black\" points=\"783.881,-503.024 794.47,-503.359 786.401,-496.494 783.881,-503.024\"/>\r\n",
       "</g>\r\n",
       "<!-- 8 -->\r\n",
       "<g id=\"node9\" class=\"node\"><title>8</title>\r\n",
       "<polygon fill=\"#e58139\" fill-opacity=\"0.823529\" stroke=\"black\" points=\"900.667,-479 794.667,-479 794.667,-426 900.667,-426 900.667,-479\"/>\r\n",
       "<text text-anchor=\"start\" x=\"802.667\" y=\"-463.8\" font-family=\"Times New Roman,serif\" font-size=\"14.00\">entropy = 0.607</text>\r\n",
       "<text text-anchor=\"start\" x=\"810.167\" y=\"-448.8\" font-family=\"Times New Roman,serif\" font-size=\"14.00\">samples = 28</text>\r\n",
       "<text text-anchor=\"start\" x=\"806.667\" y=\"-433.8\" font-family=\"Times New Roman,serif\" font-size=\"14.00\">value = [40, 7]</text>\r\n",
       "</g>\r\n",
       "<!-- 6&#45;&gt;8 -->\r\n",
       "<g id=\"edge8\" class=\"edge\"><title>6&#45;&gt;8</title>\r\n",
       "<path fill=\"none\" stroke=\"black\" d=\"M716.382,-452.5C737.626,-452.5 762.186,-452.5 784.217,-452.5\"/>\r\n",
       "<polygon fill=\"black\" stroke=\"black\" points=\"784.47,-456 794.47,-452.5 784.47,-449 784.47,-456\"/>\r\n",
       "</g>\r\n",
       "<!-- 10 -->\r\n",
       "<g id=\"node11\" class=\"node\"><title>10</title>\r\n",
       "<polygon fill=\"#399de5\" fill-opacity=\"0.694118\" stroke=\"black\" points=\"900.667,-408 794.667,-408 794.667,-355 900.667,-355 900.667,-408\"/>\r\n",
       "<text text-anchor=\"start\" x=\"802.667\" y=\"-392.8\" font-family=\"Times New Roman,serif\" font-size=\"14.00\">entropy = 0.787</text>\r\n",
       "<text text-anchor=\"start\" x=\"810.167\" y=\"-377.8\" font-family=\"Times New Roman,serif\" font-size=\"14.00\">samples = 20</text>\r\n",
       "<text text-anchor=\"start\" x=\"806.667\" y=\"-362.8\" font-family=\"Times New Roman,serif\" font-size=\"14.00\">value = [8, 26]</text>\r\n",
       "</g>\r\n",
       "<!-- 9&#45;&gt;10 -->\r\n",
       "<g id=\"edge10\" class=\"edge\"><title>9&#45;&gt;10</title>\r\n",
       "<path fill=\"none\" stroke=\"black\" d=\"M714.902,-342.83C736.651,-349.213 762.072,-356.673 784.752,-363.329\"/>\r\n",
       "<polygon fill=\"black\" stroke=\"black\" points=\"784.039,-366.768 794.62,-366.225 786.01,-360.051 784.039,-366.768\"/>\r\n",
       "</g>\r\n",
       "<!-- 11 -->\r\n",
       "<g id=\"node12\" class=\"node\"><title>11</title>\r\n",
       "<polygon fill=\"#e58139\" fill-opacity=\"0.215686\" stroke=\"black\" points=\"900.667,-337 794.667,-337 794.667,-284 900.667,-284 900.667,-337\"/>\r\n",
       "<text text-anchor=\"start\" x=\"802.667\" y=\"-321.8\" font-family=\"Times New Roman,serif\" font-size=\"14.00\">entropy = 0.989</text>\r\n",
       "<text text-anchor=\"start\" x=\"810.167\" y=\"-306.8\" font-family=\"Times New Roman,serif\" font-size=\"14.00\">samples = 24</text>\r\n",
       "<text text-anchor=\"start\" x=\"803.667\" y=\"-291.8\" font-family=\"Times New Roman,serif\" font-size=\"14.00\">value = [23, 18]</text>\r\n",
       "</g>\r\n",
       "<!-- 9&#45;&gt;11 -->\r\n",
       "<g id=\"edge11\" class=\"edge\"><title>9&#45;&gt;11</title>\r\n",
       "<path fill=\"none\" stroke=\"black\" d=\"M714.902,-322.674C736.553,-320.674 761.844,-318.337 784.447,-316.249\"/>\r\n",
       "<polygon fill=\"black\" stroke=\"black\" points=\"784.984,-319.714 794.62,-315.309 784.34,-312.744 784.984,-319.714\"/>\r\n",
       "</g>\r\n",
       "<!-- 13 -->\r\n",
       "<g id=\"node14\" class=\"node\"><title>13</title>\r\n",
       "<polygon fill=\"#e58139\" fill-opacity=\"0.584314\" stroke=\"black\" points=\"716.167,-255.5 607.167,-255.5 607.167,-187.5 716.167,-187.5 716.167,-255.5\"/>\r\n",
       "<text text-anchor=\"start\" x=\"615.167\" y=\"-240.3\" font-family=\"Times New Roman,serif\" font-size=\"14.00\">PCA_4 ≤ &#45;0.481</text>\r\n",
       "<text text-anchor=\"start\" x=\"616.667\" y=\"-225.3\" font-family=\"Times New Roman,serif\" font-size=\"14.00\">entropy = 0.873</text>\r\n",
       "<text text-anchor=\"start\" x=\"624.167\" y=\"-210.3\" font-family=\"Times New Roman,serif\" font-size=\"14.00\">samples = 57</text>\r\n",
       "<text text-anchor=\"start\" x=\"617.667\" y=\"-195.3\" font-family=\"Times New Roman,serif\" font-size=\"14.00\">value = [65, 27]</text>\r\n",
       "</g>\r\n",
       "<!-- 12&#45;&gt;13 -->\r\n",
       "<g id=\"edge13\" class=\"edge\"><title>12&#45;&gt;13</title>\r\n",
       "<path fill=\"none\" stroke=\"black\" d=\"M527.297,-221.5C549.014,-221.5 574.153,-221.5 596.713,-221.5\"/>\r\n",
       "<polygon fill=\"black\" stroke=\"black\" points=\"596.875,-225 606.875,-221.5 596.874,-218 596.875,-225\"/>\r\n",
       "</g>\r\n",
       "<!-- 16 -->\r\n",
       "<g id=\"node17\" class=\"node\"><title>16</title>\r\n",
       "<polygon fill=\"#e58139\" fill-opacity=\"0.807843\" stroke=\"black\" points=\"714.667,-131.5 608.667,-131.5 608.667,-63.5 714.667,-63.5 714.667,-131.5\"/>\r\n",
       "<text text-anchor=\"start\" x=\"618.667\" y=\"-116.3\" font-family=\"Times New Roman,serif\" font-size=\"14.00\">PCA_3 ≤ &#45;0.14</text>\r\n",
       "<text text-anchor=\"start\" x=\"616.667\" y=\"-101.3\" font-family=\"Times New Roman,serif\" font-size=\"14.00\">entropy = 0.639</text>\r\n",
       "<text text-anchor=\"start\" x=\"624.167\" y=\"-86.3\" font-family=\"Times New Roman,serif\" font-size=\"14.00\">samples = 45</text>\r\n",
       "<text text-anchor=\"start\" x=\"617.667\" y=\"-71.3\" font-family=\"Times New Roman,serif\" font-size=\"14.00\">value = [62, 12]</text>\r\n",
       "</g>\r\n",
       "<!-- 12&#45;&gt;16 -->\r\n",
       "<g id=\"edge16\" class=\"edge\"><title>12&#45;&gt;16</title>\r\n",
       "<path fill=\"none\" stroke=\"black\" d=\"M524.536,-187.288C548.064,-171.77 576.032,-153.323 600.479,-137.198\"/>\r\n",
       "<polygon fill=\"black\" stroke=\"black\" points=\"602.546,-140.028 608.966,-131.6 598.692,-134.184 602.546,-140.028\"/>\r\n",
       "</g>\r\n",
       "<!-- 14 -->\r\n",
       "<g id=\"node15\" class=\"node\"><title>14</title>\r\n",
       "<polygon fill=\"#e58139\" fill-opacity=\"0.847059\" stroke=\"black\" points=\"900.667,-266 794.667,-266 794.667,-213 900.667,-213 900.667,-266\"/>\r\n",
       "<text text-anchor=\"start\" x=\"802.667\" y=\"-250.8\" font-family=\"Times New Roman,serif\" font-size=\"14.00\">entropy = 0.567</text>\r\n",
       "<text text-anchor=\"start\" x=\"810.167\" y=\"-235.8\" font-family=\"Times New Roman,serif\" font-size=\"14.00\">samples = 20</text>\r\n",
       "<text text-anchor=\"start\" x=\"806.667\" y=\"-220.8\" font-family=\"Times New Roman,serif\" font-size=\"14.00\">value = [26, 4]</text>\r\n",
       "</g>\r\n",
       "<!-- 13&#45;&gt;14 -->\r\n",
       "<g id=\"edge14\" class=\"edge\"><title>13&#45;&gt;14</title>\r\n",
       "<path fill=\"none\" stroke=\"black\" d=\"M716.382,-226.755C737.723,-228.842 762.409,-231.257 784.516,-233.42\"/>\r\n",
       "<polygon fill=\"black\" stroke=\"black\" points=\"784.177,-236.903 794.47,-234.394 784.859,-229.937 784.177,-236.903\"/>\r\n",
       "</g>\r\n",
       "<!-- 15 -->\r\n",
       "<g id=\"node16\" class=\"node\"><title>15</title>\r\n",
       "<polygon fill=\"#e58139\" fill-opacity=\"0.411765\" stroke=\"black\" points=\"900.667,-195 794.667,-195 794.667,-142 900.667,-142 900.667,-195\"/>\r\n",
       "<text text-anchor=\"start\" x=\"802.667\" y=\"-179.8\" font-family=\"Times New Roman,serif\" font-size=\"14.00\">entropy = 0.951</text>\r\n",
       "<text text-anchor=\"start\" x=\"810.167\" y=\"-164.8\" font-family=\"Times New Roman,serif\" font-size=\"14.00\">samples = 37</text>\r\n",
       "<text text-anchor=\"start\" x=\"803.667\" y=\"-149.8\" font-family=\"Times New Roman,serif\" font-size=\"14.00\">value = [39, 23]</text>\r\n",
       "</g>\r\n",
       "<!-- 13&#45;&gt;15 -->\r\n",
       "<g id=\"edge15\" class=\"edge\"><title>13&#45;&gt;15</title>\r\n",
       "<path fill=\"none\" stroke=\"black\" d=\"M716.382,-206.028C737.819,-199.853 762.631,-192.706 784.814,-186.316\"/>\r\n",
       "<polygon fill=\"black\" stroke=\"black\" points=\"785.83,-189.666 794.47,-183.535 783.892,-182.94 785.83,-189.666\"/>\r\n",
       "</g>\r\n",
       "<!-- 17 -->\r\n",
       "<g id=\"node18\" class=\"node\"><title>17</title>\r\n",
       "<polygon fill=\"#e58139\" fill-opacity=\"0.862745\" stroke=\"black\" points=\"900.667,-124 794.667,-124 794.667,-71 900.667,-71 900.667,-124\"/>\r\n",
       "<text text-anchor=\"start\" x=\"802.667\" y=\"-108.8\" font-family=\"Times New Roman,serif\" font-size=\"14.00\">entropy = 0.535</text>\r\n",
       "<text text-anchor=\"start\" x=\"810.167\" y=\"-93.8\" font-family=\"Times New Roman,serif\" font-size=\"14.00\">samples = 22</text>\r\n",
       "<text text-anchor=\"start\" x=\"806.667\" y=\"-78.8\" font-family=\"Times New Roman,serif\" font-size=\"14.00\">value = [36, 5]</text>\r\n",
       "</g>\r\n",
       "<!-- 16&#45;&gt;17 -->\r\n",
       "<g id=\"edge17\" class=\"edge\"><title>16&#45;&gt;17</title>\r\n",
       "<path fill=\"none\" stroke=\"black\" d=\"M714.902,-97.5C736.553,-97.5 761.844,-97.5 784.447,-97.5\"/>\r\n",
       "<polygon fill=\"black\" stroke=\"black\" points=\"784.62,-101 794.62,-97.5 784.62,-94.0001 784.62,-101\"/>\r\n",
       "</g>\r\n",
       "<!-- 18 -->\r\n",
       "<g id=\"node19\" class=\"node\"><title>18</title>\r\n",
       "<polygon fill=\"#e58139\" fill-opacity=\"0.729412\" stroke=\"black\" points=\"900.667,-53 794.667,-53 794.667,-0 900.667,-0 900.667,-53\"/>\r\n",
       "<text text-anchor=\"start\" x=\"802.667\" y=\"-37.8\" font-family=\"Times New Roman,serif\" font-size=\"14.00\">entropy = 0.746</text>\r\n",
       "<text text-anchor=\"start\" x=\"810.167\" y=\"-22.8\" font-family=\"Times New Roman,serif\" font-size=\"14.00\">samples = 23</text>\r\n",
       "<text text-anchor=\"start\" x=\"806.667\" y=\"-7.8\" font-family=\"Times New Roman,serif\" font-size=\"14.00\">value = [26, 7]</text>\r\n",
       "</g>\r\n",
       "<!-- 16&#45;&gt;18 -->\r\n",
       "<g id=\"edge18\" class=\"edge\"><title>16&#45;&gt;18</title>\r\n",
       "<path fill=\"none\" stroke=\"black\" d=\"M714.902,-77.3442C736.749,-68.9141 762.3,-59.0545 785.057,-50.2733\"/>\r\n",
       "<polygon fill=\"black\" stroke=\"black\" points=\"786.55,-53.4486 794.62,-46.5833 784.03,-46.918 786.55,-53.4486\"/>\r\n",
       "</g>\r\n",
       "</g>\r\n",
       "</svg>\r\n"
      ],
      "text/plain": [
       "<graphviz.files.Source at 0x14592413240>"
      ]
     },
     "metadata": {},
     "output_type": "display_data"
    }
   ],
   "source": [
    "test = RandomForestClassifier(n_estimators=1,min_samples_leaf=20, max_features=0.6, criterion='entropy', )\n",
    "test.fit(x, y)\n",
    "test_pred = test.predict(x)\n",
    "print(\"Accuracy score: \", accuracy_score(y, test_pred))\n",
    "draw_tree(test.estimators_[0], x, precision=3)"
   ]
  },
  {
   "cell_type": "code",
   "execution_count": 62,
   "metadata": {},
   "outputs": [
    {
     "name": "stderr",
     "output_type": "stream",
     "text": [
      "C:\\Users\\Bestz\\Anaconda3\\lib\\site-packages\\sklearn\\ensemble\\forest.py:453: UserWarning: Some inputs do not have OOB scores. This probably means too few trees were used to compute any reliable oob estimates.\n",
      "  warn(\"Some inputs do not have OOB scores. \"\n",
      "C:\\Users\\Bestz\\Anaconda3\\lib\\site-packages\\sklearn\\ensemble\\forest.py:458: RuntimeWarning: invalid value encountered in true_divide\n",
      "  predictions[k].sum(axis=1)[:, np.newaxis])\n",
      "C:\\Users\\Bestz\\Anaconda3\\lib\\site-packages\\sklearn\\ensemble\\forest.py:453: UserWarning: Some inputs do not have OOB scores. This probably means too few trees were used to compute any reliable oob estimates.\n",
      "  warn(\"Some inputs do not have OOB scores. \"\n",
      "C:\\Users\\Bestz\\Anaconda3\\lib\\site-packages\\sklearn\\ensemble\\forest.py:458: RuntimeWarning: invalid value encountered in true_divide\n",
      "  predictions[k].sum(axis=1)[:, np.newaxis])\n",
      "C:\\Users\\Bestz\\Anaconda3\\lib\\site-packages\\sklearn\\ensemble\\forest.py:453: UserWarning: Some inputs do not have OOB scores. This probably means too few trees were used to compute any reliable oob estimates.\n",
      "  warn(\"Some inputs do not have OOB scores. \"\n",
      "C:\\Users\\Bestz\\Anaconda3\\lib\\site-packages\\sklearn\\ensemble\\forest.py:458: RuntimeWarning: invalid value encountered in true_divide\n",
      "  predictions[k].sum(axis=1)[:, np.newaxis])\n",
      "C:\\Users\\Bestz\\Anaconda3\\lib\\site-packages\\sklearn\\ensemble\\forest.py:453: UserWarning: Some inputs do not have OOB scores. This probably means too few trees were used to compute any reliable oob estimates.\n",
      "  warn(\"Some inputs do not have OOB scores. \"\n",
      "C:\\Users\\Bestz\\Anaconda3\\lib\\site-packages\\sklearn\\ensemble\\forest.py:458: RuntimeWarning: invalid value encountered in true_divide\n",
      "  predictions[k].sum(axis=1)[:, np.newaxis])\n",
      "C:\\Users\\Bestz\\Anaconda3\\lib\\site-packages\\sklearn\\ensemble\\forest.py:453: UserWarning: Some inputs do not have OOB scores. This probably means too few trees were used to compute any reliable oob estimates.\n",
      "  warn(\"Some inputs do not have OOB scores. \"\n",
      "C:\\Users\\Bestz\\Anaconda3\\lib\\site-packages\\sklearn\\ensemble\\forest.py:458: RuntimeWarning: invalid value encountered in true_divide\n",
      "  predictions[k].sum(axis=1)[:, np.newaxis])\n",
      "C:\\Users\\Bestz\\Anaconda3\\lib\\site-packages\\sklearn\\ensemble\\forest.py:453: UserWarning: Some inputs do not have OOB scores. This probably means too few trees were used to compute any reliable oob estimates.\n",
      "  warn(\"Some inputs do not have OOB scores. \"\n",
      "C:\\Users\\Bestz\\Anaconda3\\lib\\site-packages\\sklearn\\ensemble\\forest.py:458: RuntimeWarning: invalid value encountered in true_divide\n",
      "  predictions[k].sum(axis=1)[:, np.newaxis])\n",
      "C:\\Users\\Bestz\\Anaconda3\\lib\\site-packages\\sklearn\\ensemble\\forest.py:453: UserWarning: Some inputs do not have OOB scores. This probably means too few trees were used to compute any reliable oob estimates.\n",
      "  warn(\"Some inputs do not have OOB scores. \"\n",
      "C:\\Users\\Bestz\\Anaconda3\\lib\\site-packages\\sklearn\\ensemble\\forest.py:458: RuntimeWarning: invalid value encountered in true_divide\n",
      "  predictions[k].sum(axis=1)[:, np.newaxis])\n",
      "C:\\Users\\Bestz\\Anaconda3\\lib\\site-packages\\sklearn\\ensemble\\forest.py:453: UserWarning: Some inputs do not have OOB scores. This probably means too few trees were used to compute any reliable oob estimates.\n",
      "  warn(\"Some inputs do not have OOB scores. \"\n",
      "C:\\Users\\Bestz\\Anaconda3\\lib\\site-packages\\sklearn\\ensemble\\forest.py:458: RuntimeWarning: invalid value encountered in true_divide\n",
      "  predictions[k].sum(axis=1)[:, np.newaxis])\n",
      "C:\\Users\\Bestz\\Anaconda3\\lib\\site-packages\\sklearn\\ensemble\\forest.py:453: UserWarning: Some inputs do not have OOB scores. This probably means too few trees were used to compute any reliable oob estimates.\n",
      "  warn(\"Some inputs do not have OOB scores. \"\n",
      "C:\\Users\\Bestz\\Anaconda3\\lib\\site-packages\\sklearn\\ensemble\\forest.py:458: RuntimeWarning: invalid value encountered in true_divide\n",
      "  predictions[k].sum(axis=1)[:, np.newaxis])\n",
      "C:\\Users\\Bestz\\Anaconda3\\lib\\site-packages\\sklearn\\ensemble\\forest.py:453: UserWarning: Some inputs do not have OOB scores. This probably means too few trees were used to compute any reliable oob estimates.\n",
      "  warn(\"Some inputs do not have OOB scores. \"\n",
      "C:\\Users\\Bestz\\Anaconda3\\lib\\site-packages\\sklearn\\ensemble\\forest.py:458: RuntimeWarning: invalid value encountered in true_divide\n",
      "  predictions[k].sum(axis=1)[:, np.newaxis])\n",
      "C:\\Users\\Bestz\\Anaconda3\\lib\\site-packages\\sklearn\\ensemble\\forest.py:453: UserWarning: Some inputs do not have OOB scores. This probably means too few trees were used to compute any reliable oob estimates.\n",
      "  warn(\"Some inputs do not have OOB scores. \"\n",
      "C:\\Users\\Bestz\\Anaconda3\\lib\\site-packages\\sklearn\\ensemble\\forest.py:458: RuntimeWarning: invalid value encountered in true_divide\n",
      "  predictions[k].sum(axis=1)[:, np.newaxis])\n",
      "C:\\Users\\Bestz\\Anaconda3\\lib\\site-packages\\sklearn\\ensemble\\forest.py:453: UserWarning: Some inputs do not have OOB scores. This probably means too few trees were used to compute any reliable oob estimates.\n",
      "  warn(\"Some inputs do not have OOB scores. \"\n",
      "C:\\Users\\Bestz\\Anaconda3\\lib\\site-packages\\sklearn\\ensemble\\forest.py:458: RuntimeWarning: invalid value encountered in true_divide\n",
      "  predictions[k].sum(axis=1)[:, np.newaxis])\n",
      "C:\\Users\\Bestz\\Anaconda3\\lib\\site-packages\\sklearn\\ensemble\\forest.py:453: UserWarning: Some inputs do not have OOB scores. This probably means too few trees were used to compute any reliable oob estimates.\n",
      "  warn(\"Some inputs do not have OOB scores. \"\n",
      "C:\\Users\\Bestz\\Anaconda3\\lib\\site-packages\\sklearn\\ensemble\\forest.py:458: RuntimeWarning: invalid value encountered in true_divide\n",
      "  predictions[k].sum(axis=1)[:, np.newaxis])\n"
     ]
    }
   ],
   "source": [
    "acc_score = []\n",
    "oob_score = []\n",
    "for i in np.arange(1,200,1):\n",
    "    model = RandomForestClassifier(n_estimators=i, min_samples_leaf=12, max_features=0.5, oob_score=True)\n",
    "    model.fit(x,y)\n",
    "    pre = model.predict(x)\n",
    "    acc = accuracy_score(y, pre)\n",
    "    acc_score.append(acc)\n",
    "    oob = model.oob_score_\n",
    "    oob_score.append(oob)"
   ]
  },
  {
   "cell_type": "code",
   "execution_count": 69,
   "metadata": {},
   "outputs": [
    {
     "data": {
      "text/plain": [
       "Text(0.5,1,'OOB Score plot')"
      ]
     },
     "execution_count": 69,
     "metadata": {},
     "output_type": "execute_result"
    },
    {
     "data": {
      "image/png": "[encoded data removed]",
      "text/plain": [
       "<matplotlib.figure.Figure at 0x241031f1710>"
      ]
     },
     "metadata": {},
     "output_type": "display_data"
    }
   ],
   "source": [
    "fig, (ax1, ax2) = plt.subplots(1,2, figsize = (12, 8))\n",
    "ax1.plot(acc_score)\n",
    "ax1.set_title('Accuracy plot')\n",
    "ax2.plot(oob_score)\n",
    "ax2.set_title('OOB Score plot')"
   ]
  },
  {
   "cell_type": "code",
   "execution_count": 103,
   "metadata": {},
   "outputs": [
    {
     "name": "stdout",
     "output_type": "stream",
     "text": [
      "R^2:  0.7064935064935065\n"
     ]
    },
    {
     "data": {
      "text/html": [
       "<div>\n",
       "<style scoped>\n",
       "    .dataframe tbody tr th:only-of-type {\n",
       "        vertical-align: middle;\n",
       "    }\n",
       "\n",
       "    .dataframe tbody tr th {\n",
       "        vertical-align: top;\n",
       "    }\n",
       "\n",
       "    .dataframe thead th {\n",
       "        text-align: right;\n",
       "    }\n",
       "</style>\n",
       "<table border=\"1\" class=\"dataframe\">\n",
       "  <thead>\n",
       "    <tr style=\"text-align: right;\">\n",
       "      <th></th>\n",
       "      <th>sex</th>\n",
       "      <th>age</th>\n",
       "      <th>edu</th>\n",
       "      <th>income</th>\n",
       "      <th>occu_ADJ</th>\n",
       "      <th>type1_ADJ</th>\n",
       "      <th>PCA_1</th>\n",
       "      <th>PCA_2</th>\n",
       "      <th>PCA_3</th>\n",
       "      <th>PCA_4</th>\n",
       "      <th>PCA_5</th>\n",
       "      <th>PCA_6</th>\n",
       "      <th>PCA_7</th>\n",
       "    </tr>\n",
       "  </thead>\n",
       "  <tbody>\n",
       "    <tr>\n",
       "      <th>0</th>\n",
       "      <td>-0.301072</td>\n",
       "      <td>0.005557</td>\n",
       "      <td>-0.205773</td>\n",
       "      <td>0.233346</td>\n",
       "      <td>-0.071443</td>\n",
       "      <td>-0.20704</td>\n",
       "      <td>0.14045</td>\n",
       "      <td>0.206611</td>\n",
       "      <td>0.456327</td>\n",
       "      <td>-0.017831</td>\n",
       "      <td>0.269925</td>\n",
       "      <td>0.094708</td>\n",
       "      <td>0.079715</td>\n",
       "    </tr>\n",
       "  </tbody>\n",
       "</table>\n",
       "</div>"
      ],
      "text/plain": [
       "        sex       age       edu    income  occu_ADJ  type1_ADJ    PCA_1  \\\n",
       "0 -0.301072  0.005557 -0.205773  0.233346 -0.071443   -0.20704  0.14045   \n",
       "\n",
       "      PCA_2     PCA_3     PCA_4     PCA_5     PCA_6     PCA_7  \n",
       "0  0.206611  0.456327 -0.017831  0.269925  0.094708  0.079715  "
      ]
     },
     "execution_count": 103,
     "metadata": {},
     "output_type": "execute_result"
    }
   ],
   "source": [
    "logis = LogisticRegression()\n",
    "logis.fit(x, y)\n",
    "print('R^2: ', logis.score(x, y))\n",
    "co = pd.DataFrame(logis.coef_, columns=cols); co"
   ]
  },
  {
   "cell_type": "code",
   "execution_count": 102,
   "metadata": {
    "scrolled": true
   },
   "outputs": [
    {
     "data": {
      "text/plain": [
       "Index(['sex', 'age', 'edu', 'income', 'occu_ADJ', 'type1_ADJ', 'PCA_1',\n",
       "       'PCA_2', 'PCA_3', 'PCA_4', 'PCA_5', 'PCA_6', 'PCA_7'],\n",
       "      dtype='object')"
      ]
     },
     "execution_count": 102,
     "metadata": {},
     "output_type": "execute_result"
    }
   ],
   "source": [
    "x.columns"
   ]
  },
  {
   "cell_type": "code",
   "execution_count": 105,
   "metadata": {},
   "outputs": [
    {
     "name": "stdout",
     "output_type": "stream",
     "text": [
      "R^2:  0.7038961038961039\n"
     ]
    },
    {
     "data": {
      "text/html": [
       "<div>\n",
       "<style scoped>\n",
       "    .dataframe tbody tr th:only-of-type {\n",
       "        vertical-align: middle;\n",
       "    }\n",
       "\n",
       "    .dataframe tbody tr th {\n",
       "        vertical-align: top;\n",
       "    }\n",
       "\n",
       "    .dataframe thead th {\n",
       "        text-align: right;\n",
       "    }\n",
       "</style>\n",
       "<table border=\"1\" class=\"dataframe\">\n",
       "  <thead>\n",
       "    <tr style=\"text-align: right;\">\n",
       "      <th></th>\n",
       "      <th>PCA_1</th>\n",
       "      <th>PCA_2</th>\n",
       "      <th>PCA_3</th>\n",
       "      <th>PCA_4</th>\n",
       "      <th>PCA_5</th>\n",
       "      <th>PCA_6</th>\n",
       "      <th>PCA_7</th>\n",
       "    </tr>\n",
       "  </thead>\n",
       "  <tbody>\n",
       "    <tr>\n",
       "      <th>0</th>\n",
       "      <td>0.143772</td>\n",
       "      <td>0.167497</td>\n",
       "      <td>0.369373</td>\n",
       "      <td>-0.027364</td>\n",
       "      <td>0.267601</td>\n",
       "      <td>0.082167</td>\n",
       "      <td>0.128659</td>\n",
       "    </tr>\n",
       "  </tbody>\n",
       "</table>\n",
       "</div>"
      ],
      "text/plain": [
       "      PCA_1     PCA_2     PCA_3     PCA_4     PCA_5     PCA_6     PCA_7\n",
       "0  0.143772  0.167497  0.369373 -0.027364  0.267601  0.082167  0.128659"
      ]
     },
     "execution_count": 105,
     "metadata": {},
     "output_type": "execute_result"
    }
   ],
   "source": [
    "drop2 = ['sex', 'age', 'edu', 'income', 'occu_ADJ', 'type1_ADJ']\n",
    "x22 = x.drop(drop2, axis=1)\n",
    "logis2 = LogisticRegression()\n",
    "logis2.fit(x22, y)\n",
    "print('R^2: ', logis2.score(x22, y))\n",
    "co2 = pd.DataFrame(logis2.coef_, columns=x22.columns); co2"
   ]
  },
  {
   "cell_type": "code",
   "execution_count": 109,
   "metadata": {},
   "outputs": [
    {
     "name": "stdout",
     "output_type": "stream",
     "text": [
      "Accuracy score:  0.7948051948051948\n",
      "Oob score:  0.6597402597402597\n"
     ]
    },
    {
     "data": {
      "text/plain": [
       "<matplotlib.axes._subplots.AxesSubplot at 0x14593d97358>"
      ]
     },
     "execution_count": 109,
     "metadata": {},
     "output_type": "execute_result"
    },
    {
     "data": {
      "image/png": "[encoded data removed]",
      "text/plain": [
       "<matplotlib.figure.Figure at 0x14593cc5390>"
      ]
     },
     "metadata": {},
     "output_type": "display_data"
    },
    {
     "data": {
      "image/png": "[encoded data removed]",
      "text/plain": [
       "<matplotlib.figure.Figure at 0x14593cc5160>"
      ]
     },
     "metadata": {},
     "output_type": "display_data"
    },
    {
     "data": {
      "image/png": "[encoded data removed]",
      "text/plain": [
       "<matplotlib.figure.Figure at 0x14593d97b38>"
      ]
     },
     "metadata": {},
     "output_type": "display_data"
    }
   ],
   "source": [
    "m = RandomForestClassifier(n_estimators=100, min_samples_leaf=10, max_features=0.5, oob_score=True,\n",
    "                           criterion='entropy')\n",
    "m.fit(x22, y)\n",
    "pred = m.predict(x22)\n",
    "score = m.predict_proba(x22)\n",
    "plot_confusion_matrix(y, pred)\n",
    "print(\"Accuracy score: \", accuracy_score(y, pred))\n",
    "print(\"Oob score: \", m.oob_score_)\n",
    "plot_roc(y, score,plot_micro=False, plot_macro=False, classes_to_plot=1)\n",
    "fi1 = rf_feat_importance(m, x22)\n",
    "fi1[:10].plot('cols', 'imp', 'barh', color = 'darkblue')"
   ]
  },
  {
   "cell_type": "code",
   "execution_count": 92,
   "metadata": {},
   "outputs": [
    {
     "name": "stdout",
     "output_type": "stream",
     "text": [
      "Accuracy score:  0.7766233766233767\n",
      "Oob score:  0.6779220779220779\n"
     ]
    },
    {
     "data": {
      "text/plain": [
       "<matplotlib.axes._subplots.AxesSubplot at 0x145923ec3c8>"
      ]
     },
     "execution_count": 92,
     "metadata": {},
     "output_type": "execute_result"
    },
    {
     "data": {
      "image/png": "[encoded data removed]",
      "text/plain": [
       "<matplotlib.figure.Figure at 0x145938be9e8>"
      ]
     },
     "metadata": {},
     "output_type": "display_data"
    },
    {
     "data": {
      "image/png": "[encoded data removed]",
      "text/plain": [
       "<matplotlib.figure.Figure at 0x145923aa5f8>"
      ]
     },
     "metadata": {},
     "output_type": "display_data"
    },
    {
     "data": {
      "image/png": "[encoded data removed]",
      "text/plain": [
       "<matplotlib.figure.Figure at 0x145923ecd68>"
      ]
     },
     "metadata": {},
     "output_type": "display_data"
    }
   ],
   "source": [
    "m = RandomForestClassifier(n_estimators=100, min_samples_leaf=12, max_features=0.5, oob_score=True,\n",
    "                           criterion='entropy')\n",
    "m.fit(x, y)\n",
    "pred = m.predict(x)\n",
    "score = m.predict_proba(x)\n",
    "plot_confusion_matrix(y, pred)\n",
    "print(\"Accuracy score: \", accuracy_score(y, pred))\n",
    "print(\"Oob score: \", m.oob_score_)\n",
    "plot_roc(y, score,plot_micro=False, plot_macro=False, classes_to_plot=1)\n",
    "fi1 = rf_feat_importance(m, x)\n",
    "fi1[:10].plot('cols', 'imp', 'barh', color = 'darkblue')"
   ]
  },
  {
   "cell_type": "code",
   "execution_count": 48,
   "metadata": {
    "scrolled": false
   },
   "outputs": [
    {
     "name": "stdout",
     "output_type": "stream",
     "text": [
      "Accuracy score:  0.8833333333333333\n",
      "Oob score:  0.7833333333333333\n"
     ]
    },
    {
     "data": {
      "text/plain": [
       "<matplotlib.axes._subplots.AxesSubplot at 0x145924ed400>"
      ]
     },
     "execution_count": 48,
     "metadata": {},
     "output_type": "execute_result"
    },
    {
     "data": {
      "image/png": "[encoded data removed]",
      "text/plain": [
       "<matplotlib.figure.Figure at 0x14592413f98>"
      ]
     },
     "metadata": {},
     "output_type": "display_data"
    },
    {
     "data": {
      "image/png": "[encoded data removed]",
      "text/plain": [
       "<matplotlib.figure.Figure at 0x14592485198>"
      ]
     },
     "metadata": {},
     "output_type": "display_data"
    },
    {
     "data": {
      "image/png": "[encoded data removed]",
      "text/plain": [
       "<matplotlib.figure.Figure at 0x145924edb38>"
      ]
     },
     "metadata": {},
     "output_type": "display_data"
    }
   ],
   "source": [
    "m2 = RandomForestClassifier(n_estimators=300, min_samples_leaf=7, random_state=123, max_features=0.5, oob_score=True,\n",
    "                           criterion='entropy')\n",
    "m2.fit(x_mem, y_mem)\n",
    "pred2 = m2.predict(x_mem)\n",
    "score2 = m2.predict_proba(x_mem)\n",
    "plot_confusion_matrix(y_mem, pred2)\n",
    "print(\"Accuracy score: \", accuracy_score(y_mem, pred2))\n",
    "print(\"Oob score: \", m2.oob_score_)\n",
    "plot_roc(y_mem, score2,plot_micro=False, plot_macro=False, classes_to_plot=1)\n",
    "fi2 = rf_feat_importance(m2, x_mem)\n",
    "fi2[:10].plot('cols', 'imp', 'barh', color = 'darkblue')"
   ]
  },
  {
   "cell_type": "code",
   "execution_count": 32,
   "metadata": {},
   "outputs": [
    {
     "name": "stdout",
     "output_type": "stream",
     "text": [
      "Accuracy score:  0.8276923076923077\n",
      "Oob score:  0.7661538461538462\n"
     ]
    },
    {
     "data": {
      "text/plain": [
       "<matplotlib.axes._subplots.AxesSubplot at 0x1de0e57ed30>"
      ]
     },
     "execution_count": 32,
     "metadata": {},
     "output_type": "execute_result"
    },
    {
     "data": {
      "image/png": "[encoded data removed]",
      "text/plain": [
       "<matplotlib.figure.Figure at 0x1de0cd60a90>"
      ]
     },
     "metadata": {},
     "output_type": "display_data"
    },
    {
     "data": {
      "image/png": "[encoded data removed]",
      "text/plain": [
       "<matplotlib.figure.Figure at 0x1de0cbf4fd0>"
      ]
     },
     "metadata": {},
     "output_type": "display_data"
    },
    {
     "data": {
      "image/png": "[encoded data removed]",
      "text/plain": [
       "<matplotlib.figure.Figure at 0x1de0e5c9a20>"
      ]
     },
     "metadata": {},
     "output_type": "display_data"
    }
   ],
   "source": [
    "m3 = RandomForestClassifier(n_estimators=200, random_state=123, max_features=0.5,min_impurity_decrease=0.02, oob_score=True,\n",
    "                           criterion='entropy')\n",
    "m3.fit(x_notmem, y_notmem)\n",
    "pred3 = m3.predict(x_notmem)\n",
    "score3 = m3.predict_proba(x_notmem)\n",
    "plot_confusion_matrix(y_notmem, pred3)\n",
    "print(\"Accuracy score: \", accuracy_score(y_notmem, pred3))\n",
    "print(\"Oob score: \", m3.oob_score_)\n",
    "plot_roc(y_notmem, score3,plot_micro=False, plot_macro=False, classes_to_plot=1)\n",
    "fi3 = rf_feat_importance(m3, x_notmem)\n",
    "fi3[:10].plot('cols', 'imp', 'barh', color = 'darkblue')"
   ]
  },
  {
   "cell_type": "markdown",
   "metadata": {},
   "source": [
    "cs42 -> การส่งเสริมการขาย\n",
    "ocs1 -> ความพึงพอใจโดยรวมข้อ 1\n",
    "ocs4 -> ระดับความชอบใจจากการซื้อหนังสือร้าน ABC\n",
    "ocs2 -> ความพึงพอใจโดยรวมข้อ 1\n",
    "cs34 -> การมีสินค้าอื่นๆ เช่น ผลิตภัณฑ์ชีวจิต"
   ]
  },
  {
   "cell_type": "code",
   "execution_count": 65,
   "metadata": {},
   "outputs": [],
   "source": [
    "df_freq = df[df.frequen_ADJ < 7]"
   ]
  },
  {
   "cell_type": "code",
   "execution_count": 66,
   "metadata": {},
   "outputs": [
    {
     "data": {
      "text/plain": [
       "0    124\n",
       "1     96\n",
       "2     70\n",
       "3     38\n",
       "4     18\n",
       "5     15\n",
       "6      4\n",
       "Name: frequen_ADJ, dtype: int64"
      ]
     },
     "execution_count": 66,
     "metadata": {},
     "output_type": "execute_result"
    }
   ],
   "source": [
    "df_freq.frequen_ADJ.value_counts()"
   ]
  },
  {
   "cell_type": "code",
   "execution_count": 67,
   "metadata": {},
   "outputs": [],
   "source": [
    "xt = df_freq.drop(drop, axis = 1)\n",
    "xs = xt.drop(['frequen_ADJ','memb'], axis=1)\n",
    "ys = df_freq.frequen_ADJ"
   ]
  },
  {
   "cell_type": "code",
   "execution_count": 68,
   "metadata": {},
   "outputs": [
    {
     "name": "stdout",
     "output_type": "stream",
     "text": [
      "MSE:  1.4063168430103772\n",
      "0.3430327037629829\n"
     ]
    },
    {
     "data": {
      "text/plain": [
       "<matplotlib.axes._subplots.AxesSubplot at 0x1459383eef0>"
      ]
     },
     "execution_count": 68,
     "metadata": {},
     "output_type": "execute_result"
    },
    {
     "data": {
      "image/png": "[encoded data removed]",
      "text/plain": [
       "<matplotlib.figure.Figure at 0x14591ede898>"
      ]
     },
     "metadata": {},
     "output_type": "display_data"
    }
   ],
   "source": [
    "m4 = RandomForestRegressor(n_estimators=200, min_samples_leaf=10, max_features=0.5)\n",
    "m4.fit(xs, ys)\n",
    "pred4 = m4.predict(xs)\n",
    "print('MSE: ', mean_squared_error(ys, pred4))\n",
    "print(m4.score(xs, ys))\n",
    "fi4 = rf_feat_importance(m4, xs)\n",
    "fi4[:10].plot('cols', 'imp', 'barh', color = 'darkblue')"
   ]
  },
  {
   "cell_type": "code",
   "execution_count": 72,
   "metadata": {},
   "outputs": [
    {
     "name": "stdout",
     "output_type": "stream",
     "text": [
      "MSE:  3.831985844565663\n"
     ]
    },
    {
     "data": {
      "text/plain": [
       "<matplotlib.axes._subplots.AxesSubplot at 0x217f692a6d8>"
      ]
     },
     "execution_count": 72,
     "metadata": {},
     "output_type": "execute_result"
    },
    {
     "data": {
      "image/png": "[encoded data removed]",
      "text/plain": [
       "<matplotlib.figure.Figure at 0x217f4b64898>"
      ]
     },
     "metadata": {},
     "output_type": "display_data"
    }
   ],
   "source": [
    "m4 = RandomForestRegressor(n_estimators=300, min_samples_leaf=5, random_state=123, max_features=0.5, oob_score=True)\n",
    "m4.fit(xs, ys)\n",
    "pred4 = m4.predict(xs)\n",
    "print('MSE: ', mean_squared_error(ys, pred4))\n",
    "fi4 = rf_feat_importance(m4, xs)\n",
    "fi4[:10].plot('cols', 'imp', 'barh', color = 'darkblue')"
   ]
  },
  {
   "cell_type": "code",
   "execution_count": 41,
   "metadata": {},
   "outputs": [],
   "source": [
    "predic = [ys, pd.DataFrame(pred4)]\n",
    "predic = pd.concat(predic, axis=1)"
   ]
  },
  {
   "cell_type": "code",
   "execution_count": 69,
   "metadata": {},
   "outputs": [],
   "source": [
    "from sklearn.linear_model import LinearRegression, LogisticRegression"
   ]
  },
  {
   "cell_type": "code",
   "execution_count": 64,
   "metadata": {},
   "outputs": [
    {
     "name": "stdout",
     "output_type": "stream",
     "text": [
      "MSE:  2.369688901129421\n",
      "0.08713472332229033\n"
     ]
    }
   ],
   "source": [
    "m10 = LinearRegression()\n",
    "m10.fit(xs,ys)\n",
    "pred10 = m10.predict(xs)\n",
    "print('MSE: ', mean_squared_error(ys, pred10))\n",
    "m10.coef_\n",
    "print(m10.score(xs, ys))"
   ]
  },
  {
   "cell_type": "code",
   "execution_count": null,
   "metadata": {},
   "outputs": [],
   "source": []
  },
  {
   "cell_type": "code",
   "execution_count": 82,
   "metadata": {
    "scrolled": true
   },
   "outputs": [
    {
     "data": {
      "text/plain": [
       "Index(['buy', 'sex', 'age', 'edu', 'income', 'occu_ADJ', 'type1_ADJ',\n",
       "       'ocs1_ADJ', 'ocs2_ADJ', 'ocs3_ADJ', 'ocs4_ADJ', 'ocs5_ADJ', 'PCA_1',\n",
       "       'PCA_2', 'PCA_3', 'PCA_4', 'PCA_5', 'PCA_6', 'PCA_7'],\n",
       "      dtype='object')"
      ]
     },
     "execution_count": 82,
     "metadata": {},
     "output_type": "execute_result"
    }
   ],
   "source": [
    "xs.columns"
   ]
  },
  {
   "cell_type": "code",
   "execution_count": 50,
   "metadata": {},
   "outputs": [
    {
     "data": {
      "text/html": [
       "<div>\n",
       "<style scoped>\n",
       "    .dataframe tbody tr th:only-of-type {\n",
       "        vertical-align: middle;\n",
       "    }\n",
       "\n",
       "    .dataframe tbody tr th {\n",
       "        vertical-align: top;\n",
       "    }\n",
       "\n",
       "    .dataframe thead th {\n",
       "        text-align: right;\n",
       "    }\n",
       "</style>\n",
       "<table border=\"1\" class=\"dataframe\">\n",
       "  <thead>\n",
       "    <tr style=\"text-align: right;\">\n",
       "      <th></th>\n",
       "      <th>frequen_ADJ</th>\n",
       "      <th>0</th>\n",
       "    </tr>\n",
       "  </thead>\n",
       "  <tbody>\n",
       "    <tr>\n",
       "      <th>0</th>\n",
       "      <td>1</td>\n",
       "      <td>1.623047</td>\n",
       "    </tr>\n",
       "    <tr>\n",
       "      <th>1</th>\n",
       "      <td>2</td>\n",
       "      <td>2.084994</td>\n",
       "    </tr>\n",
       "    <tr>\n",
       "      <th>2</th>\n",
       "      <td>10</td>\n",
       "      <td>2.938158</td>\n",
       "    </tr>\n",
       "    <tr>\n",
       "      <th>3</th>\n",
       "      <td>2</td>\n",
       "      <td>1.935317</td>\n",
       "    </tr>\n",
       "    <tr>\n",
       "      <th>4</th>\n",
       "      <td>0</td>\n",
       "      <td>1.567439</td>\n",
       "    </tr>\n",
       "    <tr>\n",
       "      <th>5</th>\n",
       "      <td>4</td>\n",
       "      <td>2.538291</td>\n",
       "    </tr>\n",
       "    <tr>\n",
       "      <th>6</th>\n",
       "      <td>2</td>\n",
       "      <td>2.810531</td>\n",
       "    </tr>\n",
       "    <tr>\n",
       "      <th>7</th>\n",
       "      <td>1</td>\n",
       "      <td>2.067240</td>\n",
       "    </tr>\n",
       "    <tr>\n",
       "      <th>8</th>\n",
       "      <td>1</td>\n",
       "      <td>1.473967</td>\n",
       "    </tr>\n",
       "    <tr>\n",
       "      <th>9</th>\n",
       "      <td>1</td>\n",
       "      <td>1.729619</td>\n",
       "    </tr>\n",
       "    <tr>\n",
       "      <th>10</th>\n",
       "      <td>1</td>\n",
       "      <td>2.452546</td>\n",
       "    </tr>\n",
       "    <tr>\n",
       "      <th>11</th>\n",
       "      <td>2</td>\n",
       "      <td>1.691675</td>\n",
       "    </tr>\n",
       "    <tr>\n",
       "      <th>12</th>\n",
       "      <td>1</td>\n",
       "      <td>1.423743</td>\n",
       "    </tr>\n",
       "    <tr>\n",
       "      <th>13</th>\n",
       "      <td>1</td>\n",
       "      <td>1.486440</td>\n",
       "    </tr>\n",
       "    <tr>\n",
       "      <th>14</th>\n",
       "      <td>1</td>\n",
       "      <td>1.575541</td>\n",
       "    </tr>\n",
       "    <tr>\n",
       "      <th>15</th>\n",
       "      <td>5</td>\n",
       "      <td>2.812886</td>\n",
       "    </tr>\n",
       "    <tr>\n",
       "      <th>16</th>\n",
       "      <td>1</td>\n",
       "      <td>1.652974</td>\n",
       "    </tr>\n",
       "    <tr>\n",
       "      <th>17</th>\n",
       "      <td>15</td>\n",
       "      <td>3.290881</td>\n",
       "    </tr>\n",
       "    <tr>\n",
       "      <th>18</th>\n",
       "      <td>1</td>\n",
       "      <td>1.300699</td>\n",
       "    </tr>\n",
       "    <tr>\n",
       "      <th>19</th>\n",
       "      <td>0</td>\n",
       "      <td>1.735936</td>\n",
       "    </tr>\n",
       "  </tbody>\n",
       "</table>\n",
       "</div>"
      ],
      "text/plain": [
       "    frequen_ADJ         0\n",
       "0             1  1.623047\n",
       "1             2  2.084994\n",
       "2            10  2.938158\n",
       "3             2  1.935317\n",
       "4             0  1.567439\n",
       "5             4  2.538291\n",
       "6             2  2.810531\n",
       "7             1  2.067240\n",
       "8             1  1.473967\n",
       "9             1  1.729619\n",
       "10            1  2.452546\n",
       "11            2  1.691675\n",
       "12            1  1.423743\n",
       "13            1  1.486440\n",
       "14            1  1.575541\n",
       "15            5  2.812886\n",
       "16            1  1.652974\n",
       "17           15  3.290881\n",
       "18            1  1.300699\n",
       "19            0  1.735936"
      ]
     },
     "execution_count": 50,
     "metadata": {},
     "output_type": "execute_result"
    }
   ],
   "source": [
    "predic.head(20)"
   ]
  },
  {
   "cell_type": "code",
   "execution_count": 133,
   "metadata": {},
   "outputs": [
    {
     "data": {
      "text/plain": [
       "Index(['buy', 'sex', 'age', 'edu', 'income', 'occu_ADJ', 'type1_ADJ',\n",
       "       'frequen_ADJ', 'ocs1_ADJ', 'ocs2_ADJ', 'ocs3_ADJ', 'ocs4_ADJ',\n",
       "       'ocs5_ADJ', 'cs1_ADJ', 'cs2_ADJ', 'cs3_ADJ', 'cs4_ADJ', 'cs5_ADJ',\n",
       "       'cs6_ADJ', 'cs7_ADJ', 'cs8_ADJ', 'cs9_ADJ', 'cs10_ADJ', 'cs11_ADJ',\n",
       "       'cs12_ADJ', 'cs13_ADJ', 'cs14_ADJ', 'cs15_ADJ', 'cs16_ADJ', 'cs17_ADJ',\n",
       "       'cs18_ADJ', 'cs19_ADJ', 'cs20_ADJ', 'cs21_ADJ', 'cs22_ADJ', 'cs23_ADJ',\n",
       "       'cs24_ADJ', 'cs25_ADJ', 'cs26_ADJ', 'cs27_ADJ', 'cs28_ADJ', 'cs29_ADJ',\n",
       "       'cs30_ADJ', 'cs31_ADJ', 'cs32_ADJ', 'cs33_ADJ', 'cs34_ADJ', 'cs35_ADJ',\n",
       "       'cs36_ADJ', 'cs37_ADJ', 'cs38_ADJ', 'cs39_ADJ', 'cs40_ADJ', 'cs41_ADJ',\n",
       "       'cs42_ADJ'],\n",
       "      dtype='object')"
      ]
     },
     "execution_count": 133,
     "metadata": {},
     "output_type": "execute_result"
    }
   ],
   "source": [
    "x.columns"
   ]
  },
  {
   "cell_type": "markdown",
   "metadata": {},
   "source": [
    "## Try creating PCA for preference variables"
   ]
  },
  {
   "cell_type": "code",
   "execution_count": 134,
   "metadata": {},
   "outputs": [],
   "source": [
    "xa = x.iloc[:,13:]"
   ]
  },
  {
   "cell_type": "code",
   "execution_count": 138,
   "metadata": {},
   "outputs": [
    {
     "data": {
      "text/plain": [
       "Index(['cs1_ADJ', 'cs2_ADJ', 'cs3_ADJ', 'cs4_ADJ', 'cs5_ADJ', 'cs6_ADJ',\n",
       "       'cs7_ADJ', 'cs8_ADJ', 'cs9_ADJ', 'cs10_ADJ', 'cs11_ADJ', 'cs12_ADJ',\n",
       "       'cs13_ADJ', 'cs14_ADJ', 'cs15_ADJ', 'cs16_ADJ', 'cs17_ADJ', 'cs18_ADJ',\n",
       "       'cs19_ADJ', 'cs20_ADJ', 'cs21_ADJ', 'cs22_ADJ', 'cs23_ADJ', 'cs24_ADJ',\n",
       "       'cs25_ADJ', 'cs26_ADJ', 'cs27_ADJ', 'cs28_ADJ', 'cs29_ADJ', 'cs30_ADJ',\n",
       "       'cs31_ADJ', 'cs32_ADJ', 'cs33_ADJ', 'cs34_ADJ', 'cs35_ADJ', 'cs36_ADJ',\n",
       "       'cs37_ADJ', 'cs38_ADJ', 'cs39_ADJ', 'cs40_ADJ', 'cs41_ADJ', 'cs42_ADJ'],\n",
       "      dtype='object')"
      ]
     },
     "execution_count": 138,
     "metadata": {},
     "output_type": "execute_result"
    }
   ],
   "source": [
    "xa.columns"
   ]
  },
  {
   "cell_type": "code",
   "execution_count": 59,
   "metadata": {},
   "outputs": [],
   "source": [
    "p = []\n",
    "for i in range(1, 8):\n",
    "    p.append(f'PCA_{i}')"
   ]
  },
  {
   "cell_type": "code",
   "execution_count": 60,
   "metadata": {},
   "outputs": [],
   "source": [
    "xaa = pd.DataFrame(xa_adj, columns=p)"
   ]
  },
  {
   "cell_type": "code",
   "execution_count": 62,
   "metadata": {},
   "outputs": [],
   "source": [
    "new_x = x.iloc[:,:8]"
   ]
  },
  {
   "cell_type": "code",
   "execution_count": 63,
   "metadata": {},
   "outputs": [],
   "source": [
    "new_xx = [new_x, xaa]"
   ]
  },
  {
   "cell_type": "code",
   "execution_count": 64,
   "metadata": {},
   "outputs": [],
   "source": [
    "result = pd.concat(new_xx, axis = 1)"
   ]
  },
  {
   "cell_type": "code",
   "execution_count": 65,
   "metadata": {},
   "outputs": [
    {
     "data": {
      "text/html": [
       "<div>\n",
       "<style scoped>\n",
       "    .dataframe tbody tr th:only-of-type {\n",
       "        vertical-align: middle;\n",
       "    }\n",
       "\n",
       "    .dataframe tbody tr th {\n",
       "        vertical-align: top;\n",
       "    }\n",
       "\n",
       "    .dataframe thead th {\n",
       "        text-align: right;\n",
       "    }\n",
       "</style>\n",
       "<table border=\"1\" class=\"dataframe\">\n",
       "  <thead>\n",
       "    <tr style=\"text-align: right;\">\n",
       "      <th></th>\n",
       "      <th>buy</th>\n",
       "      <th>sex</th>\n",
       "      <th>age</th>\n",
       "      <th>edu</th>\n",
       "      <th>income</th>\n",
       "      <th>occu_ADJ</th>\n",
       "      <th>type1_ADJ</th>\n",
       "      <th>frequen_ADJ</th>\n",
       "      <th>PCA_1</th>\n",
       "      <th>PCA_2</th>\n",
       "      <th>PCA_3</th>\n",
       "      <th>PCA_4</th>\n",
       "      <th>PCA_5</th>\n",
       "      <th>PCA_6</th>\n",
       "      <th>PCA_7</th>\n",
       "    </tr>\n",
       "  </thead>\n",
       "  <tbody>\n",
       "    <tr>\n",
       "      <th>0</th>\n",
       "      <td>1</td>\n",
       "      <td>1</td>\n",
       "      <td>19</td>\n",
       "      <td>6</td>\n",
       "      <td>2</td>\n",
       "      <td>2</td>\n",
       "      <td>2</td>\n",
       "      <td>1</td>\n",
       "      <td>-3.491200</td>\n",
       "      <td>0.650794</td>\n",
       "      <td>2.685149</td>\n",
       "      <td>-1.621976</td>\n",
       "      <td>0.195565</td>\n",
       "      <td>-0.309848</td>\n",
       "      <td>-1.736136</td>\n",
       "    </tr>\n",
       "    <tr>\n",
       "      <th>1</th>\n",
       "      <td>1</td>\n",
       "      <td>2</td>\n",
       "      <td>25</td>\n",
       "      <td>5</td>\n",
       "      <td>2</td>\n",
       "      <td>2</td>\n",
       "      <td>1</td>\n",
       "      <td>2</td>\n",
       "      <td>4.914882</td>\n",
       "      <td>1.453001</td>\n",
       "      <td>0.305249</td>\n",
       "      <td>5.097330</td>\n",
       "      <td>-1.003333</td>\n",
       "      <td>-3.551786</td>\n",
       "      <td>-1.164029</td>\n",
       "    </tr>\n",
       "    <tr>\n",
       "      <th>2</th>\n",
       "      <td>1</td>\n",
       "      <td>2</td>\n",
       "      <td>34</td>\n",
       "      <td>5</td>\n",
       "      <td>6</td>\n",
       "      <td>4</td>\n",
       "      <td>1</td>\n",
       "      <td>10</td>\n",
       "      <td>4.032669</td>\n",
       "      <td>-0.193170</td>\n",
       "      <td>0.834782</td>\n",
       "      <td>-1.518029</td>\n",
       "      <td>1.274864</td>\n",
       "      <td>-0.397616</td>\n",
       "      <td>0.730780</td>\n",
       "    </tr>\n",
       "    <tr>\n",
       "      <th>3</th>\n",
       "      <td>1</td>\n",
       "      <td>2</td>\n",
       "      <td>25</td>\n",
       "      <td>5</td>\n",
       "      <td>3</td>\n",
       "      <td>2</td>\n",
       "      <td>6</td>\n",
       "      <td>2</td>\n",
       "      <td>2.993546</td>\n",
       "      <td>0.151702</td>\n",
       "      <td>0.060272</td>\n",
       "      <td>-4.870799</td>\n",
       "      <td>3.642451</td>\n",
       "      <td>-1.428548</td>\n",
       "      <td>-0.885893</td>\n",
       "    </tr>\n",
       "    <tr>\n",
       "      <th>4</th>\n",
       "      <td>1</td>\n",
       "      <td>2</td>\n",
       "      <td>28</td>\n",
       "      <td>5</td>\n",
       "      <td>5</td>\n",
       "      <td>4</td>\n",
       "      <td>2</td>\n",
       "      <td>0</td>\n",
       "      <td>9.789321</td>\n",
       "      <td>-2.866166</td>\n",
       "      <td>-1.744094</td>\n",
       "      <td>2.633326</td>\n",
       "      <td>0.766504</td>\n",
       "      <td>-1.904772</td>\n",
       "      <td>-3.617069</td>\n",
       "    </tr>\n",
       "  </tbody>\n",
       "</table>\n",
       "</div>"
      ],
      "text/plain": [
       "   buy  sex  age  edu  income  occu_ADJ  type1_ADJ  frequen_ADJ     PCA_1  \\\n",
       "0    1    1   19    6       2         2          2            1 -3.491200   \n",
       "1    1    2   25    5       2         2          1            2  4.914882   \n",
       "2    1    2   34    5       6         4          1           10  4.032669   \n",
       "3    1    2   25    5       3         2          6            2  2.993546   \n",
       "4    1    2   28    5       5         4          2            0  9.789321   \n",
       "\n",
       "      PCA_2     PCA_3     PCA_4     PCA_5     PCA_6     PCA_7  \n",
       "0  0.650794  2.685149 -1.621976  0.195565 -0.309848 -1.736136  \n",
       "1  1.453001  0.305249  5.097330 -1.003333 -3.551786 -1.164029  \n",
       "2 -0.193170  0.834782 -1.518029  1.274864 -0.397616  0.730780  \n",
       "3  0.151702  0.060272 -4.870799  3.642451 -1.428548 -0.885893  \n",
       "4 -2.866166 -1.744094  2.633326  0.766504 -1.904772 -3.617069  "
      ]
     },
     "execution_count": 65,
     "metadata": {},
     "output_type": "execute_result"
    }
   ],
   "source": [
    "result.head()"
   ]
  },
  {
   "cell_type": "markdown",
   "metadata": {},
   "source": [
    "## Try fitting Random Forest again with PCAs Variables"
   ]
  },
  {
   "cell_type": "code",
   "execution_count": 66,
   "metadata": {},
   "outputs": [],
   "source": [
    "ab = pca.components_.T* np.sqrt(pca.explained_variance_)"
   ]
  },
  {
   "cell_type": "code",
   "execution_count": 67,
   "metadata": {},
   "outputs": [],
   "source": [
    "ab = pd.DataFrame(ab)"
   ]
  },
  {
   "cell_type": "code",
   "execution_count": 196,
   "metadata": {},
   "outputs": [],
   "source": [
    "ab.to_csv('loading2.csv')"
   ]
  },
  {
   "cell_type": "code",
   "execution_count": 70,
   "metadata": {},
   "outputs": [],
   "source": [
    "import statsmodels\n",
    "from statsmodels.multivariate.pca import PCA as pc"
   ]
  },
  {
   "cell_type": "code",
   "execution_count": 148,
   "metadata": {},
   "outputs": [],
   "source": [
    "pcccc = pc(xa, standardize=False, ncomp=3,demean=True, normalize=True)"
   ]
  },
  {
   "cell_type": "code",
   "execution_count": 93,
   "metadata": {},
   "outputs": [],
   "source": [
    "pcccc.loadings.to_csv('loading.csv')"
   ]
  },
  {
   "cell_type": "code",
   "execution_count": 140,
   "metadata": {},
   "outputs": [
    {
     "data": {
      "image/png": "[encoded data removed]",
      "text/plain": [
       "<matplotlib.figure.Figure at 0x15d97957cc0>"
      ]
     },
     "execution_count": 140,
     "metadata": {},
     "output_type": "execute_result"
    },
    {
     "data": {
      "image/png": "[encoded data removed]",
      "text/plain": [
       "<matplotlib.figure.Figure at 0x15d97957cc0>"
      ]
     },
     "metadata": {},
     "output_type": "display_data"
    }
   ],
   "source": [
    "pcccc.plot_scree(ncomp=5, log_scale=False)"
   ]
  },
  {
   "cell_type": "code",
   "execution_count": 149,
   "metadata": {},
   "outputs": [
    {
     "data": {
      "text/html": [
       "<div>\n",
       "<style scoped>\n",
       "    .dataframe tbody tr th:only-of-type {\n",
       "        vertical-align: middle;\n",
       "    }\n",
       "\n",
       "    .dataframe tbody tr th {\n",
       "        vertical-align: top;\n",
       "    }\n",
       "\n",
       "    .dataframe thead th {\n",
       "        text-align: right;\n",
       "    }\n",
       "</style>\n",
       "<table border=\"1\" class=\"dataframe\">\n",
       "  <thead>\n",
       "    <tr style=\"text-align: right;\">\n",
       "      <th></th>\n",
       "      <th>comp_0</th>\n",
       "      <th>comp_1</th>\n",
       "      <th>comp_2</th>\n",
       "    </tr>\n",
       "  </thead>\n",
       "  <tbody>\n",
       "    <tr>\n",
       "      <th>cs1_ADJ</th>\n",
       "      <td>-0.170394</td>\n",
       "      <td>-0.282641</td>\n",
       "      <td>0.093975</td>\n",
       "    </tr>\n",
       "    <tr>\n",
       "      <th>cs2_ADJ</th>\n",
       "      <td>-0.159530</td>\n",
       "      <td>-0.282754</td>\n",
       "      <td>0.108326</td>\n",
       "    </tr>\n",
       "    <tr>\n",
       "      <th>cs3_ADJ</th>\n",
       "      <td>-0.158993</td>\n",
       "      <td>-0.206198</td>\n",
       "      <td>0.126577</td>\n",
       "    </tr>\n",
       "    <tr>\n",
       "      <th>cs4_ADJ</th>\n",
       "      <td>-0.149961</td>\n",
       "      <td>-0.139488</td>\n",
       "      <td>0.078547</td>\n",
       "    </tr>\n",
       "    <tr>\n",
       "      <th>cs5_ADJ</th>\n",
       "      <td>-0.155697</td>\n",
       "      <td>-0.175401</td>\n",
       "      <td>0.093045</td>\n",
       "    </tr>\n",
       "    <tr>\n",
       "      <th>cs6_ADJ</th>\n",
       "      <td>-0.155706</td>\n",
       "      <td>-0.213840</td>\n",
       "      <td>0.082681</td>\n",
       "    </tr>\n",
       "    <tr>\n",
       "      <th>cs7_ADJ</th>\n",
       "      <td>-0.149188</td>\n",
       "      <td>-0.203077</td>\n",
       "      <td>0.060928</td>\n",
       "    </tr>\n",
       "    <tr>\n",
       "      <th>cs8_ADJ</th>\n",
       "      <td>-0.156837</td>\n",
       "      <td>-0.310593</td>\n",
       "      <td>0.090992</td>\n",
       "    </tr>\n",
       "    <tr>\n",
       "      <th>cs9_ADJ</th>\n",
       "      <td>-0.149683</td>\n",
       "      <td>-0.169350</td>\n",
       "      <td>0.078903</td>\n",
       "    </tr>\n",
       "    <tr>\n",
       "      <th>cs10_ADJ</th>\n",
       "      <td>-0.147649</td>\n",
       "      <td>-0.174156</td>\n",
       "      <td>0.025593</td>\n",
       "    </tr>\n",
       "    <tr>\n",
       "      <th>cs11_ADJ</th>\n",
       "      <td>-0.165664</td>\n",
       "      <td>-0.289726</td>\n",
       "      <td>0.109371</td>\n",
       "    </tr>\n",
       "    <tr>\n",
       "      <th>cs12_ADJ</th>\n",
       "      <td>-0.148548</td>\n",
       "      <td>-0.120407</td>\n",
       "      <td>0.104992</td>\n",
       "    </tr>\n",
       "    <tr>\n",
       "      <th>cs13_ADJ</th>\n",
       "      <td>-0.150249</td>\n",
       "      <td>-0.003801</td>\n",
       "      <td>-0.132260</td>\n",
       "    </tr>\n",
       "    <tr>\n",
       "      <th>cs14_ADJ</th>\n",
       "      <td>-0.143192</td>\n",
       "      <td>0.017146</td>\n",
       "      <td>-0.114021</td>\n",
       "    </tr>\n",
       "    <tr>\n",
       "      <th>cs15_ADJ</th>\n",
       "      <td>-0.156877</td>\n",
       "      <td>0.029211</td>\n",
       "      <td>-0.178056</td>\n",
       "    </tr>\n",
       "    <tr>\n",
       "      <th>cs16_ADJ</th>\n",
       "      <td>-0.154221</td>\n",
       "      <td>0.044143</td>\n",
       "      <td>-0.202943</td>\n",
       "    </tr>\n",
       "    <tr>\n",
       "      <th>cs17_ADJ</th>\n",
       "      <td>-0.201599</td>\n",
       "      <td>0.056969</td>\n",
       "      <td>-0.235240</td>\n",
       "    </tr>\n",
       "    <tr>\n",
       "      <th>cs18_ADJ</th>\n",
       "      <td>-0.172943</td>\n",
       "      <td>-0.046150</td>\n",
       "      <td>-0.118686</td>\n",
       "    </tr>\n",
       "    <tr>\n",
       "      <th>cs19_ADJ</th>\n",
       "      <td>-0.154887</td>\n",
       "      <td>-0.039456</td>\n",
       "      <td>-0.147035</td>\n",
       "    </tr>\n",
       "    <tr>\n",
       "      <th>cs20_ADJ</th>\n",
       "      <td>-0.157046</td>\n",
       "      <td>0.009861</td>\n",
       "      <td>-0.154563</td>\n",
       "    </tr>\n",
       "    <tr>\n",
       "      <th>cs21_ADJ</th>\n",
       "      <td>-0.145812</td>\n",
       "      <td>0.025100</td>\n",
       "      <td>-0.194807</td>\n",
       "    </tr>\n",
       "    <tr>\n",
       "      <th>cs22_ADJ</th>\n",
       "      <td>-0.139402</td>\n",
       "      <td>0.045327</td>\n",
       "      <td>-0.179292</td>\n",
       "    </tr>\n",
       "    <tr>\n",
       "      <th>cs23_ADJ</th>\n",
       "      <td>-0.146114</td>\n",
       "      <td>0.040978</td>\n",
       "      <td>-0.190127</td>\n",
       "    </tr>\n",
       "    <tr>\n",
       "      <th>cs24_ADJ</th>\n",
       "      <td>-0.141831</td>\n",
       "      <td>0.010441</td>\n",
       "      <td>-0.164892</td>\n",
       "    </tr>\n",
       "    <tr>\n",
       "      <th>cs25_ADJ</th>\n",
       "      <td>-0.143890</td>\n",
       "      <td>0.007210</td>\n",
       "      <td>-0.143417</td>\n",
       "    </tr>\n",
       "    <tr>\n",
       "      <th>cs26_ADJ</th>\n",
       "      <td>-0.139625</td>\n",
       "      <td>0.056563</td>\n",
       "      <td>-0.140537</td>\n",
       "    </tr>\n",
       "    <tr>\n",
       "      <th>cs27_ADJ</th>\n",
       "      <td>-0.157549</td>\n",
       "      <td>0.091294</td>\n",
       "      <td>-0.218714</td>\n",
       "    </tr>\n",
       "    <tr>\n",
       "      <th>cs28_ADJ</th>\n",
       "      <td>-0.147182</td>\n",
       "      <td>0.082366</td>\n",
       "      <td>-0.224725</td>\n",
       "    </tr>\n",
       "    <tr>\n",
       "      <th>cs29_ADJ</th>\n",
       "      <td>-0.152809</td>\n",
       "      <td>0.091910</td>\n",
       "      <td>-0.119899</td>\n",
       "    </tr>\n",
       "    <tr>\n",
       "      <th>cs30_ADJ</th>\n",
       "      <td>-0.170814</td>\n",
       "      <td>0.138283</td>\n",
       "      <td>0.071010</td>\n",
       "    </tr>\n",
       "    <tr>\n",
       "      <th>cs31_ADJ</th>\n",
       "      <td>-0.153315</td>\n",
       "      <td>0.189666</td>\n",
       "      <td>0.069551</td>\n",
       "    </tr>\n",
       "    <tr>\n",
       "      <th>cs32_ADJ</th>\n",
       "      <td>-0.143177</td>\n",
       "      <td>0.167504</td>\n",
       "      <td>0.052654</td>\n",
       "    </tr>\n",
       "    <tr>\n",
       "      <th>cs33_ADJ</th>\n",
       "      <td>-0.157981</td>\n",
       "      <td>0.091875</td>\n",
       "      <td>-0.046824</td>\n",
       "    </tr>\n",
       "    <tr>\n",
       "      <th>cs34_ADJ</th>\n",
       "      <td>-0.153380</td>\n",
       "      <td>0.105854</td>\n",
       "      <td>-0.008244</td>\n",
       "    </tr>\n",
       "    <tr>\n",
       "      <th>cs35_ADJ</th>\n",
       "      <td>-0.143318</td>\n",
       "      <td>0.174764</td>\n",
       "      <td>0.063647</td>\n",
       "    </tr>\n",
       "    <tr>\n",
       "      <th>cs36_ADJ</th>\n",
       "      <td>-0.148876</td>\n",
       "      <td>0.209258</td>\n",
       "      <td>0.248736</td>\n",
       "    </tr>\n",
       "    <tr>\n",
       "      <th>cs37_ADJ</th>\n",
       "      <td>-0.149759</td>\n",
       "      <td>0.187514</td>\n",
       "      <td>0.231076</td>\n",
       "    </tr>\n",
       "    <tr>\n",
       "      <th>cs38_ADJ</th>\n",
       "      <td>-0.156959</td>\n",
       "      <td>0.202138</td>\n",
       "      <td>0.233843</td>\n",
       "    </tr>\n",
       "    <tr>\n",
       "      <th>cs39_ADJ</th>\n",
       "      <td>-0.154291</td>\n",
       "      <td>0.113156</td>\n",
       "      <td>0.149225</td>\n",
       "    </tr>\n",
       "    <tr>\n",
       "      <th>cs40_ADJ</th>\n",
       "      <td>-0.160146</td>\n",
       "      <td>0.175047</td>\n",
       "      <td>0.277566</td>\n",
       "    </tr>\n",
       "    <tr>\n",
       "      <th>cs41_ADJ</th>\n",
       "      <td>-0.154662</td>\n",
       "      <td>0.184379</td>\n",
       "      <td>0.244721</td>\n",
       "    </tr>\n",
       "    <tr>\n",
       "      <th>cs42_ADJ</th>\n",
       "      <td>-0.144961</td>\n",
       "      <td>0.185786</td>\n",
       "      <td>0.216792</td>\n",
       "    </tr>\n",
       "  </tbody>\n",
       "</table>\n",
       "</div>"
      ],
      "text/plain": [
       "            comp_0    comp_1    comp_2\n",
       "cs1_ADJ  -0.170394 -0.282641  0.093975\n",
       "cs2_ADJ  -0.159530 -0.282754  0.108326\n",
       "cs3_ADJ  -0.158993 -0.206198  0.126577\n",
       "cs4_ADJ  -0.149961 -0.139488  0.078547\n",
       "cs5_ADJ  -0.155697 -0.175401  0.093045\n",
       "cs6_ADJ  -0.155706 -0.213840  0.082681\n",
       "cs7_ADJ  -0.149188 -0.203077  0.060928\n",
       "cs8_ADJ  -0.156837 -0.310593  0.090992\n",
       "cs9_ADJ  -0.149683 -0.169350  0.078903\n",
       "cs10_ADJ -0.147649 -0.174156  0.025593\n",
       "cs11_ADJ -0.165664 -0.289726  0.109371\n",
       "cs12_ADJ -0.148548 -0.120407  0.104992\n",
       "cs13_ADJ -0.150249 -0.003801 -0.132260\n",
       "cs14_ADJ -0.143192  0.017146 -0.114021\n",
       "cs15_ADJ -0.156877  0.029211 -0.178056\n",
       "cs16_ADJ -0.154221  0.044143 -0.202943\n",
       "cs17_ADJ -0.201599  0.056969 -0.235240\n",
       "cs18_ADJ -0.172943 -0.046150 -0.118686\n",
       "cs19_ADJ -0.154887 -0.039456 -0.147035\n",
       "cs20_ADJ -0.157046  0.009861 -0.154563\n",
       "cs21_ADJ -0.145812  0.025100 -0.194807\n",
       "cs22_ADJ -0.139402  0.045327 -0.179292\n",
       "cs23_ADJ -0.146114  0.040978 -0.190127\n",
       "cs24_ADJ -0.141831  0.010441 -0.164892\n",
       "cs25_ADJ -0.143890  0.007210 -0.143417\n",
       "cs26_ADJ -0.139625  0.056563 -0.140537\n",
       "cs27_ADJ -0.157549  0.091294 -0.218714\n",
       "cs28_ADJ -0.147182  0.082366 -0.224725\n",
       "cs29_ADJ -0.152809  0.091910 -0.119899\n",
       "cs30_ADJ -0.170814  0.138283  0.071010\n",
       "cs31_ADJ -0.153315  0.189666  0.069551\n",
       "cs32_ADJ -0.143177  0.167504  0.052654\n",
       "cs33_ADJ -0.157981  0.091875 -0.046824\n",
       "cs34_ADJ -0.153380  0.105854 -0.008244\n",
       "cs35_ADJ -0.143318  0.174764  0.063647\n",
       "cs36_ADJ -0.148876  0.209258  0.248736\n",
       "cs37_ADJ -0.149759  0.187514  0.231076\n",
       "cs38_ADJ -0.156959  0.202138  0.233843\n",
       "cs39_ADJ -0.154291  0.113156  0.149225\n",
       "cs40_ADJ -0.160146  0.175047  0.277566\n",
       "cs41_ADJ -0.154662  0.184379  0.244721\n",
       "cs42_ADJ -0.144961  0.185786  0.216792"
      ]
     },
     "execution_count": 149,
     "metadata": {},
     "output_type": "execute_result"
    }
   ],
   "source": [
    "pcccc.loadings"
   ]
  },
  {
   "cell_type": "code",
   "execution_count": 80,
   "metadata": {},
   "outputs": [],
   "source": [
    "xaaa = pcccc.factors"
   ]
  },
  {
   "cell_type": "code",
   "execution_count": 83,
   "metadata": {},
   "outputs": [],
   "source": [
    "newx = [x, xaaa]\n",
    "result2 = pd.concat(newx, axis = 1)"
   ]
  },
  {
   "cell_type": "code",
   "execution_count": 89,
   "metadata": {},
   "outputs": [],
   "source": [
    "drop = result2.iloc[:,8:55].columns"
   ]
  },
  {
   "cell_type": "code",
   "execution_count": null,
   "metadata": {},
   "outputs": [],
   "source": [
    "drop = result2"
   ]
  },
  {
   "cell_type": "code",
   "execution_count": 91,
   "metadata": {},
   "outputs": [],
   "source": [
    "x_final = result2.drop(drop, axis=1)"
   ]
  },
  {
   "cell_type": "code",
   "execution_count": 131,
   "metadata": {},
   "outputs": [
    {
     "name": "stdout",
     "output_type": "stream",
     "text": [
      "Accuracy score:  0.8025974025974026\n",
      "Oob score:  0.7090909090909091\n"
     ]
    },
    {
     "data": {
      "text/plain": [
       "<matplotlib.axes._subplots.AxesSubplot at 0x15d9793ef98>"
      ]
     },
     "execution_count": 131,
     "metadata": {},
     "output_type": "execute_result"
    },
    {
     "data": {
      "image/png": "[encoded data removed]",
      "text/plain": [
       "<matplotlib.figure.Figure at 0x15d93200860>"
      ]
     },
     "metadata": {},
     "output_type": "display_data"
    },
    {
     "data": {
      "image/png": "[encoded data removed]",
      "text/plain": [
       "<matplotlib.figure.Figure at 0x15d934e2780>"
      ]
     },
     "metadata": {},
     "output_type": "display_data"
    },
    {
     "data": {
      "image/png": "[encoded data removed]",
      "text/plain": [
       "<matplotlib.figure.Figure at 0x15d9793ea20>"
      ]
     },
     "metadata": {},
     "output_type": "display_data"
    }
   ],
   "source": [
    "m4 = RandomForestClassifier(n_estimators=200, min_samples_leaf=10, random_state=123, max_features=0.4, oob_score=True,\n",
    "                           criterion='entropy')\n",
    "m4.fit(x_final, y)\n",
    "pred4 = m4.predict(x_final)\n",
    "score4 = m4.predict_proba(x_final)\n",
    "plot_confusion_matrix(y, pred4)\n",
    "print(\"Accuracy score: \", accuracy_score(y, pred4))\n",
    "print(\"Oob score: \", m4.oob_score_)\n",
    "plot_roc(y, score4,plot_micro=False, plot_macro=False, classes_to_plot=1)\n",
    "fi4 = rf_feat_importance(m4, x_final)\n",
    "fi4[:10].plot('cols', 'imp', 'barh', color = 'darkblue')"
   ]
  },
  {
   "cell_type": "code",
   "execution_count": null,
   "metadata": {},
   "outputs": [],
   "source": []
  }
 ],
 "metadata": {
  "kernelspec": {
   "display_name": "Python 3",
   "language": "python",
   "name": "python3"
  },
  "language_info": {
   "codemirror_mode": {
    "name": "ipython",
    "version": 3
   },
   "file_extension": ".py",
   "mimetype": "text/x-python",
   "name": "python",
   "nbconvert_exporter": "python",
   "pygments_lexer": "ipython3",
   "version": "3.6.3"
  }
 },
 "nbformat": 4,
 "nbformat_minor": 2
}
